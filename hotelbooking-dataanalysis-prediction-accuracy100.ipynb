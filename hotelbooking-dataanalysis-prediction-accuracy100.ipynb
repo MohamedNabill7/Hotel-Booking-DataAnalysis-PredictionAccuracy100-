{
 "cells": [
  {
   "cell_type": "markdown",
   "id": "5fc9ca7b",
   "metadata": {
    "papermill": {
     "duration": 0.053524,
     "end_time": "2021-10-06T11:07:48.085930",
     "exception": false,
     "start_time": "2021-10-06T11:07:48.032406",
     "status": "completed"
    },
    "tags": []
   },
   "source": [
    "# Business Problem\n",
    "### An Online travel booking company is suffering from loss in revenue because of the uncertain booking cancelation of its customers. The company wants to \n",
    "### know which customer will cancel the booking. As a data-scientist we have to help the company to predict whether the customer will cancel the booking or \n",
    "### not.We have all the booking details like **arrival_date_year**, **stays_in_week_nights**, **arrival_date_day_of_month** etc of the customers from \n",
    "### various countries.We have to do some data analysis to answer some questions and we have to work on Machine Learning models to help predict whether the \n",
    "### customer will cancel the booking or not.We will focus on Exploratory Data Analysis for answering business questions first and then move on to the prediction approach."
   ]
  },
  {
   "cell_type": "markdown",
   "id": "efebfd6d",
   "metadata": {
    "papermill": {
     "duration": 0.049192,
     "end_time": "2021-10-06T11:07:48.189298",
     "exception": false,
     "start_time": "2021-10-06T11:07:48.140106",
     "status": "completed"
    },
    "tags": []
   },
   "source": [
    "# Dataset Detailes"
   ]
  },
  {
   "cell_type": "markdown",
   "id": "a4300a1e",
   "metadata": {
    "papermill": {
     "duration": 0.049163,
     "end_time": "2021-10-06T11:07:48.287666",
     "exception": false,
     "start_time": "2021-10-06T11:07:48.238503",
     "status": "completed"
    },
    "tags": []
   },
   "source": [
    " `0   hotel`                           (H1 = Resort Hotel or H2 = City Hotel)    \n",
    " \n",
    " `1   is_canceled`                     Value indicating if the booking was canceled (1) or not (0)          \n",
    " \n",
    " `2   lead_time`                   Number of days that elapsed between the entering date of the booking into the PMS and the arrival date\n",
    " \n",
    " `3   arrival_date_year`             Year of arrival date\n",
    " \n",
    " `4   arrival_date_month`              Month of arrival date\n",
    " \n",
    " `5   arrival_date_week_number`        Week number of year for arrival date\n",
    " \n",
    " `6   arrival_date_day_of_month`        Day of arrival date\n",
    " \n",
    " `7   stays_in_weekend_nights`          Number of weekend nights (Saturday or Sunday) the guest stayed or booked to stay at the hotel\n",
    " \n",
    " `8   stays_in_week_nights`             Number of week nights (Monday to Friday) the guest stayed or booked to stay at the hotel\n",
    " \n",
    " `9   adults`                            Number of adults\n",
    " \n",
    " `10  children`                        Number of children\n",
    " \n",
    " `11  babies`           Number of babies               \n",
    " \n",
    " `12  meal`                            Type of meal booked. Categories are presented in standard hospitality meal packages: Undefined/SC – no meal \n",
    " \n",
    " `13  country`                          Country of origin. Categories are represented in the ISO 3155–3:2013 format\n",
    " \n",
    " `14  market_segment`    Market segment designation. In categories, the term “TA” means “Travel Agents” and “TO” means “Tour Operators”              \n",
    " \n",
    " `15  distribution_channel`       Booking distribution channel. The term “TA” means “Travel Agents” and “TO” means “Tour Operators”      \n",
    " \n",
    " `16  is_repeated_guest`               Value indicating if the booking name was from a repeated guest (1) or not (0)\n",
    " \n",
    " `17  previous_cancellations`          Number of previous bookings that were cancelled by the customer prior to the current booking\n",
    " \n",
    " `18  previous_bookings_not_canceled` Number of previous bookings not cancelled by the customer prior to the current booking\n",
    " \n",
    " `19  reserved_room_type`               Code of room type reserved. Code is presented instead of designation for anonymity reasons.\n",
    " \n",
    " `20  assigned_room_type`Code for the type of room assigned to the booking.Code is presented instead of designation for anonymity reasons.\n",
    " \n",
    " `21  booking_changes` Number of changes made to the booking from the moment the booking was entered on the PMS until the moment of check-in or out\n",
    " \n",
    " `22  deposit_type`  Indication on if the customer made a deposit to guarantee the booking. This variable can assume three categories: No \n",
    " \n",
    " `23  agent`       ID of the travel agency that made the booking                   \n",
    " \n",
    " `24  company` ID of the company that made the booking or responsible for paying the booking. \n",
    " \n",
    " `25  days_in_waiting_list` Number of days the booking was in the waiting list before it was confirmed to the customer           \n",
    " \n",
    " `26  customer_type`    Type of booking, assuming one of four categories:Transient - Transient-Party - Contract - Group               \n",
    " \n",
    " `27  adr`                    Average Daily Rate as defined by dividing the sum of all lodging transactions by the total number of staying nights\n",
    " \n",
    " `28  required_car_parking_spaces`       Number of car parking spaces required by the customer\n",
    " \n",
    " `29  total_of_special_requests`Number of special requests made by the customer (e.g. twin bed or high floor)      \n",
    " \n",
    " `30  reservation_status`       Reservation last status, assuming one of three categories: Canceled – booking was canceled by the customer; Check-Out\n",
    " \n",
    " `31  reservation_status_date ` Date at which the last status was set. This variable can be used in conjunction with the ReservationStatus to "
   ]
  },
  {
   "cell_type": "markdown",
   "id": "93ed60c1",
   "metadata": {
    "papermill": {
     "duration": 0.059702,
     "end_time": "2021-10-06T11:07:48.406782",
     "exception": false,
     "start_time": "2021-10-06T11:07:48.347080",
     "status": "completed"
    },
    "tags": []
   },
   "source": [
    "# Import the Libraries"
   ]
  },
  {
   "cell_type": "code",
   "execution_count": 1,
   "id": "ba66e883",
   "metadata": {
    "execution": {
     "iopub.execute_input": "2021-10-06T11:07:48.524923Z",
     "iopub.status.busy": "2021-10-06T11:07:48.520193Z",
     "iopub.status.idle": "2021-10-06T11:07:50.951501Z",
     "shell.execute_reply": "2021-10-06T11:07:50.950004Z",
     "shell.execute_reply.started": "2021-10-06T10:16:45.805765Z"
    },
    "papermill": {
     "duration": 2.489683,
     "end_time": "2021-10-06T11:07:50.951692",
     "exception": false,
     "start_time": "2021-10-06T11:07:48.462009",
     "status": "completed"
    },
    "tags": []
   },
   "outputs": [],
   "source": [
    "import os\n",
    "import pandas as pd\n",
    "import numpy as np\n",
    "import matplotlib.pyplot as plt \n",
    "import seaborn as sns\n",
    "import plotly.express as px"
   ]
  },
  {
   "cell_type": "code",
   "execution_count": 2,
   "id": "e3ae6cfb",
   "metadata": {
    "_kg_hide-input": true,
    "execution": {
     "iopub.execute_input": "2021-10-06T11:07:51.058002Z",
     "iopub.status.busy": "2021-10-06T11:07:51.057273Z",
     "iopub.status.idle": "2021-10-06T11:07:51.066380Z",
     "shell.execute_reply": "2021-10-06T11:07:51.066893Z",
     "shell.execute_reply.started": "2021-10-06T10:16:47.763904Z"
    },
    "papermill": {
     "duration": 0.064372,
     "end_time": "2021-10-06T11:07:51.067088",
     "exception": false,
     "start_time": "2021-10-06T11:07:51.002716",
     "status": "completed"
    },
    "tags": []
   },
   "outputs": [
    {
     "name": "stdout",
     "output_type": "stream",
     "text": [
      "/kaggle/input/hotel-booking-demand/hotel_bookings.csv\n"
     ]
    }
   ],
   "source": [
    "for dirname, _, filenames in os.walk('/kaggle/input'):\n",
    "    for filename in filenames:\n",
    "        print(os.path.join(dirname, filename))"
   ]
  },
  {
   "cell_type": "markdown",
   "id": "1038432d",
   "metadata": {
    "papermill": {
     "duration": 0.049916,
     "end_time": "2021-10-06T11:07:51.167327",
     "exception": false,
     "start_time": "2021-10-06T11:07:51.117411",
     "status": "completed"
    },
    "tags": []
   },
   "source": [
    "# Load and Overview on the dataset"
   ]
  },
  {
   "cell_type": "code",
   "execution_count": 3,
   "id": "81d6bc33",
   "metadata": {
    "execution": {
     "iopub.execute_input": "2021-10-06T11:07:51.276458Z",
     "iopub.status.busy": "2021-10-06T11:07:51.275665Z",
     "iopub.status.idle": "2021-10-06T11:07:51.959901Z",
     "shell.execute_reply": "2021-10-06T11:07:51.960405Z",
     "shell.execute_reply.started": "2021-10-06T10:16:47.778621Z"
    },
    "papermill": {
     "duration": 0.741507,
     "end_time": "2021-10-06T11:07:51.960596",
     "exception": false,
     "start_time": "2021-10-06T11:07:51.219089",
     "status": "completed"
    },
    "tags": []
   },
   "outputs": [
    {
     "data": {
      "text/html": [
       "<div>\n",
       "<style scoped>\n",
       "    .dataframe tbody tr th:only-of-type {\n",
       "        vertical-align: middle;\n",
       "    }\n",
       "\n",
       "    .dataframe tbody tr th {\n",
       "        vertical-align: top;\n",
       "    }\n",
       "\n",
       "    .dataframe thead th {\n",
       "        text-align: right;\n",
       "    }\n",
       "</style>\n",
       "<table border=\"1\" class=\"dataframe\">\n",
       "  <thead>\n",
       "    <tr style=\"text-align: right;\">\n",
       "      <th></th>\n",
       "      <th>hotel</th>\n",
       "      <th>is_canceled</th>\n",
       "      <th>lead_time</th>\n",
       "      <th>arrival_date_year</th>\n",
       "      <th>arrival_date_month</th>\n",
       "      <th>arrival_date_week_number</th>\n",
       "      <th>arrival_date_day_of_month</th>\n",
       "      <th>stays_in_weekend_nights</th>\n",
       "      <th>stays_in_week_nights</th>\n",
       "      <th>adults</th>\n",
       "      <th>...</th>\n",
       "      <th>deposit_type</th>\n",
       "      <th>agent</th>\n",
       "      <th>company</th>\n",
       "      <th>days_in_waiting_list</th>\n",
       "      <th>customer_type</th>\n",
       "      <th>adr</th>\n",
       "      <th>required_car_parking_spaces</th>\n",
       "      <th>total_of_special_requests</th>\n",
       "      <th>reservation_status</th>\n",
       "      <th>reservation_status_date</th>\n",
       "    </tr>\n",
       "  </thead>\n",
       "  <tbody>\n",
       "    <tr>\n",
       "      <th>0</th>\n",
       "      <td>Resort Hotel</td>\n",
       "      <td>0</td>\n",
       "      <td>342</td>\n",
       "      <td>2015</td>\n",
       "      <td>July</td>\n",
       "      <td>27</td>\n",
       "      <td>1</td>\n",
       "      <td>0</td>\n",
       "      <td>0</td>\n",
       "      <td>2</td>\n",
       "      <td>...</td>\n",
       "      <td>No Deposit</td>\n",
       "      <td>NaN</td>\n",
       "      <td>NaN</td>\n",
       "      <td>0</td>\n",
       "      <td>Transient</td>\n",
       "      <td>0.0</td>\n",
       "      <td>0</td>\n",
       "      <td>0</td>\n",
       "      <td>Check-Out</td>\n",
       "      <td>2015-07-01</td>\n",
       "    </tr>\n",
       "    <tr>\n",
       "      <th>1</th>\n",
       "      <td>Resort Hotel</td>\n",
       "      <td>0</td>\n",
       "      <td>737</td>\n",
       "      <td>2015</td>\n",
       "      <td>July</td>\n",
       "      <td>27</td>\n",
       "      <td>1</td>\n",
       "      <td>0</td>\n",
       "      <td>0</td>\n",
       "      <td>2</td>\n",
       "      <td>...</td>\n",
       "      <td>No Deposit</td>\n",
       "      <td>NaN</td>\n",
       "      <td>NaN</td>\n",
       "      <td>0</td>\n",
       "      <td>Transient</td>\n",
       "      <td>0.0</td>\n",
       "      <td>0</td>\n",
       "      <td>0</td>\n",
       "      <td>Check-Out</td>\n",
       "      <td>2015-07-01</td>\n",
       "    </tr>\n",
       "    <tr>\n",
       "      <th>2</th>\n",
       "      <td>Resort Hotel</td>\n",
       "      <td>0</td>\n",
       "      <td>7</td>\n",
       "      <td>2015</td>\n",
       "      <td>July</td>\n",
       "      <td>27</td>\n",
       "      <td>1</td>\n",
       "      <td>0</td>\n",
       "      <td>1</td>\n",
       "      <td>1</td>\n",
       "      <td>...</td>\n",
       "      <td>No Deposit</td>\n",
       "      <td>NaN</td>\n",
       "      <td>NaN</td>\n",
       "      <td>0</td>\n",
       "      <td>Transient</td>\n",
       "      <td>75.0</td>\n",
       "      <td>0</td>\n",
       "      <td>0</td>\n",
       "      <td>Check-Out</td>\n",
       "      <td>2015-07-02</td>\n",
       "    </tr>\n",
       "    <tr>\n",
       "      <th>3</th>\n",
       "      <td>Resort Hotel</td>\n",
       "      <td>0</td>\n",
       "      <td>13</td>\n",
       "      <td>2015</td>\n",
       "      <td>July</td>\n",
       "      <td>27</td>\n",
       "      <td>1</td>\n",
       "      <td>0</td>\n",
       "      <td>1</td>\n",
       "      <td>1</td>\n",
       "      <td>...</td>\n",
       "      <td>No Deposit</td>\n",
       "      <td>304.0</td>\n",
       "      <td>NaN</td>\n",
       "      <td>0</td>\n",
       "      <td>Transient</td>\n",
       "      <td>75.0</td>\n",
       "      <td>0</td>\n",
       "      <td>0</td>\n",
       "      <td>Check-Out</td>\n",
       "      <td>2015-07-02</td>\n",
       "    </tr>\n",
       "    <tr>\n",
       "      <th>4</th>\n",
       "      <td>Resort Hotel</td>\n",
       "      <td>0</td>\n",
       "      <td>14</td>\n",
       "      <td>2015</td>\n",
       "      <td>July</td>\n",
       "      <td>27</td>\n",
       "      <td>1</td>\n",
       "      <td>0</td>\n",
       "      <td>2</td>\n",
       "      <td>2</td>\n",
       "      <td>...</td>\n",
       "      <td>No Deposit</td>\n",
       "      <td>240.0</td>\n",
       "      <td>NaN</td>\n",
       "      <td>0</td>\n",
       "      <td>Transient</td>\n",
       "      <td>98.0</td>\n",
       "      <td>0</td>\n",
       "      <td>1</td>\n",
       "      <td>Check-Out</td>\n",
       "      <td>2015-07-03</td>\n",
       "    </tr>\n",
       "  </tbody>\n",
       "</table>\n",
       "<p>5 rows × 32 columns</p>\n",
       "</div>"
      ],
      "text/plain": [
       "          hotel  is_canceled  lead_time  arrival_date_year arrival_date_month  \\\n",
       "0  Resort Hotel            0        342               2015               July   \n",
       "1  Resort Hotel            0        737               2015               July   \n",
       "2  Resort Hotel            0          7               2015               July   \n",
       "3  Resort Hotel            0         13               2015               July   \n",
       "4  Resort Hotel            0         14               2015               July   \n",
       "\n",
       "   arrival_date_week_number  arrival_date_day_of_month  \\\n",
       "0                        27                          1   \n",
       "1                        27                          1   \n",
       "2                        27                          1   \n",
       "3                        27                          1   \n",
       "4                        27                          1   \n",
       "\n",
       "   stays_in_weekend_nights  stays_in_week_nights  adults  ...  deposit_type  \\\n",
       "0                        0                     0       2  ...    No Deposit   \n",
       "1                        0                     0       2  ...    No Deposit   \n",
       "2                        0                     1       1  ...    No Deposit   \n",
       "3                        0                     1       1  ...    No Deposit   \n",
       "4                        0                     2       2  ...    No Deposit   \n",
       "\n",
       "   agent company days_in_waiting_list customer_type   adr  \\\n",
       "0    NaN     NaN                    0     Transient   0.0   \n",
       "1    NaN     NaN                    0     Transient   0.0   \n",
       "2    NaN     NaN                    0     Transient  75.0   \n",
       "3  304.0     NaN                    0     Transient  75.0   \n",
       "4  240.0     NaN                    0     Transient  98.0   \n",
       "\n",
       "   required_car_parking_spaces  total_of_special_requests  reservation_status  \\\n",
       "0                            0                          0           Check-Out   \n",
       "1                            0                          0           Check-Out   \n",
       "2                            0                          0           Check-Out   \n",
       "3                            0                          0           Check-Out   \n",
       "4                            0                          1           Check-Out   \n",
       "\n",
       "  reservation_status_date  \n",
       "0              2015-07-01  \n",
       "1              2015-07-01  \n",
       "2              2015-07-02  \n",
       "3              2015-07-02  \n",
       "4              2015-07-03  \n",
       "\n",
       "[5 rows x 32 columns]"
      ]
     },
     "execution_count": 3,
     "metadata": {},
     "output_type": "execute_result"
    }
   ],
   "source": [
    "df = pd.read_csv('/kaggle/input/hotel-booking-demand/hotel_bookings.csv')\n",
    "df.head()"
   ]
  },
  {
   "cell_type": "code",
   "execution_count": 4,
   "id": "4166b4f9",
   "metadata": {
    "execution": {
     "iopub.execute_input": "2021-10-06T11:07:52.070104Z",
     "iopub.status.busy": "2021-10-06T11:07:52.069280Z",
     "iopub.status.idle": "2021-10-06T11:07:52.072877Z",
     "shell.execute_reply": "2021-10-06T11:07:52.073343Z",
     "shell.execute_reply.started": "2021-10-06T10:16:48.430022Z"
    },
    "papermill": {
     "duration": 0.061631,
     "end_time": "2021-10-06T11:07:52.073572",
     "exception": false,
     "start_time": "2021-10-06T11:07:52.011941",
     "status": "completed"
    },
    "tags": []
   },
   "outputs": [
    {
     "data": {
      "text/plain": [
       "(119390, 32)"
      ]
     },
     "execution_count": 4,
     "metadata": {},
     "output_type": "execute_result"
    }
   ],
   "source": [
    "df.shape"
   ]
  },
  {
   "cell_type": "markdown",
   "id": "94affba1",
   "metadata": {
    "papermill": {
     "duration": 0.050924,
     "end_time": "2021-10-06T11:07:52.175246",
     "exception": false,
     "start_time": "2021-10-06T11:07:52.124322",
     "status": "completed"
    },
    "tags": []
   },
   "source": [
    "# EDA"
   ]
  },
  {
   "cell_type": "code",
   "execution_count": 5,
   "id": "2c64dd20",
   "metadata": {
    "_kg_hide-output": true,
    "execution": {
     "iopub.execute_input": "2021-10-06T11:07:52.284273Z",
     "iopub.status.busy": "2021-10-06T11:07:52.283637Z",
     "iopub.status.idle": "2021-10-06T11:07:52.406632Z",
     "shell.execute_reply": "2021-10-06T11:07:52.406083Z",
     "shell.execute_reply.started": "2021-10-06T10:16:48.436183Z"
    },
    "papermill": {
     "duration": 0.179766,
     "end_time": "2021-10-06T11:07:52.406786",
     "exception": false,
     "start_time": "2021-10-06T11:07:52.227020",
     "status": "completed"
    },
    "tags": []
   },
   "outputs": [
    {
     "data": {
      "text/html": [
       "<div>\n",
       "<style scoped>\n",
       "    .dataframe tbody tr th:only-of-type {\n",
       "        vertical-align: middle;\n",
       "    }\n",
       "\n",
       "    .dataframe tbody tr th {\n",
       "        vertical-align: top;\n",
       "    }\n",
       "\n",
       "    .dataframe thead th {\n",
       "        text-align: right;\n",
       "    }\n",
       "</style>\n",
       "<table border=\"1\" class=\"dataframe\">\n",
       "  <thead>\n",
       "    <tr style=\"text-align: right;\">\n",
       "      <th></th>\n",
       "      <th>count</th>\n",
       "      <th>mean</th>\n",
       "      <th>std</th>\n",
       "      <th>min</th>\n",
       "      <th>25%</th>\n",
       "      <th>50%</th>\n",
       "      <th>75%</th>\n",
       "      <th>max</th>\n",
       "    </tr>\n",
       "  </thead>\n",
       "  <tbody>\n",
       "    <tr>\n",
       "      <th>is_canceled</th>\n",
       "      <td>119390.0</td>\n",
       "      <td>0.370416</td>\n",
       "      <td>0.482918</td>\n",
       "      <td>0.00</td>\n",
       "      <td>0.00</td>\n",
       "      <td>0.000</td>\n",
       "      <td>1.0</td>\n",
       "      <td>1.0</td>\n",
       "    </tr>\n",
       "    <tr>\n",
       "      <th>lead_time</th>\n",
       "      <td>119390.0</td>\n",
       "      <td>104.011416</td>\n",
       "      <td>106.863097</td>\n",
       "      <td>0.00</td>\n",
       "      <td>18.00</td>\n",
       "      <td>69.000</td>\n",
       "      <td>160.0</td>\n",
       "      <td>737.0</td>\n",
       "    </tr>\n",
       "    <tr>\n",
       "      <th>arrival_date_year</th>\n",
       "      <td>119390.0</td>\n",
       "      <td>2016.156554</td>\n",
       "      <td>0.707476</td>\n",
       "      <td>2015.00</td>\n",
       "      <td>2016.00</td>\n",
       "      <td>2016.000</td>\n",
       "      <td>2017.0</td>\n",
       "      <td>2017.0</td>\n",
       "    </tr>\n",
       "    <tr>\n",
       "      <th>arrival_date_week_number</th>\n",
       "      <td>119390.0</td>\n",
       "      <td>27.165173</td>\n",
       "      <td>13.605138</td>\n",
       "      <td>1.00</td>\n",
       "      <td>16.00</td>\n",
       "      <td>28.000</td>\n",
       "      <td>38.0</td>\n",
       "      <td>53.0</td>\n",
       "    </tr>\n",
       "    <tr>\n",
       "      <th>arrival_date_day_of_month</th>\n",
       "      <td>119390.0</td>\n",
       "      <td>15.798241</td>\n",
       "      <td>8.780829</td>\n",
       "      <td>1.00</td>\n",
       "      <td>8.00</td>\n",
       "      <td>16.000</td>\n",
       "      <td>23.0</td>\n",
       "      <td>31.0</td>\n",
       "    </tr>\n",
       "    <tr>\n",
       "      <th>stays_in_weekend_nights</th>\n",
       "      <td>119390.0</td>\n",
       "      <td>0.927599</td>\n",
       "      <td>0.998613</td>\n",
       "      <td>0.00</td>\n",
       "      <td>0.00</td>\n",
       "      <td>1.000</td>\n",
       "      <td>2.0</td>\n",
       "      <td>19.0</td>\n",
       "    </tr>\n",
       "    <tr>\n",
       "      <th>stays_in_week_nights</th>\n",
       "      <td>119390.0</td>\n",
       "      <td>2.500302</td>\n",
       "      <td>1.908286</td>\n",
       "      <td>0.00</td>\n",
       "      <td>1.00</td>\n",
       "      <td>2.000</td>\n",
       "      <td>3.0</td>\n",
       "      <td>50.0</td>\n",
       "    </tr>\n",
       "    <tr>\n",
       "      <th>adults</th>\n",
       "      <td>119390.0</td>\n",
       "      <td>1.856403</td>\n",
       "      <td>0.579261</td>\n",
       "      <td>0.00</td>\n",
       "      <td>2.00</td>\n",
       "      <td>2.000</td>\n",
       "      <td>2.0</td>\n",
       "      <td>55.0</td>\n",
       "    </tr>\n",
       "    <tr>\n",
       "      <th>children</th>\n",
       "      <td>119386.0</td>\n",
       "      <td>0.103890</td>\n",
       "      <td>0.398561</td>\n",
       "      <td>0.00</td>\n",
       "      <td>0.00</td>\n",
       "      <td>0.000</td>\n",
       "      <td>0.0</td>\n",
       "      <td>10.0</td>\n",
       "    </tr>\n",
       "    <tr>\n",
       "      <th>babies</th>\n",
       "      <td>119390.0</td>\n",
       "      <td>0.007949</td>\n",
       "      <td>0.097436</td>\n",
       "      <td>0.00</td>\n",
       "      <td>0.00</td>\n",
       "      <td>0.000</td>\n",
       "      <td>0.0</td>\n",
       "      <td>10.0</td>\n",
       "    </tr>\n",
       "    <tr>\n",
       "      <th>is_repeated_guest</th>\n",
       "      <td>119390.0</td>\n",
       "      <td>0.031912</td>\n",
       "      <td>0.175767</td>\n",
       "      <td>0.00</td>\n",
       "      <td>0.00</td>\n",
       "      <td>0.000</td>\n",
       "      <td>0.0</td>\n",
       "      <td>1.0</td>\n",
       "    </tr>\n",
       "    <tr>\n",
       "      <th>previous_cancellations</th>\n",
       "      <td>119390.0</td>\n",
       "      <td>0.087118</td>\n",
       "      <td>0.844336</td>\n",
       "      <td>0.00</td>\n",
       "      <td>0.00</td>\n",
       "      <td>0.000</td>\n",
       "      <td>0.0</td>\n",
       "      <td>26.0</td>\n",
       "    </tr>\n",
       "    <tr>\n",
       "      <th>previous_bookings_not_canceled</th>\n",
       "      <td>119390.0</td>\n",
       "      <td>0.137097</td>\n",
       "      <td>1.497437</td>\n",
       "      <td>0.00</td>\n",
       "      <td>0.00</td>\n",
       "      <td>0.000</td>\n",
       "      <td>0.0</td>\n",
       "      <td>72.0</td>\n",
       "    </tr>\n",
       "    <tr>\n",
       "      <th>booking_changes</th>\n",
       "      <td>119390.0</td>\n",
       "      <td>0.221124</td>\n",
       "      <td>0.652306</td>\n",
       "      <td>0.00</td>\n",
       "      <td>0.00</td>\n",
       "      <td>0.000</td>\n",
       "      <td>0.0</td>\n",
       "      <td>21.0</td>\n",
       "    </tr>\n",
       "    <tr>\n",
       "      <th>agent</th>\n",
       "      <td>103050.0</td>\n",
       "      <td>86.693382</td>\n",
       "      <td>110.774548</td>\n",
       "      <td>1.00</td>\n",
       "      <td>9.00</td>\n",
       "      <td>14.000</td>\n",
       "      <td>229.0</td>\n",
       "      <td>535.0</td>\n",
       "    </tr>\n",
       "    <tr>\n",
       "      <th>company</th>\n",
       "      <td>6797.0</td>\n",
       "      <td>189.266735</td>\n",
       "      <td>131.655015</td>\n",
       "      <td>6.00</td>\n",
       "      <td>62.00</td>\n",
       "      <td>179.000</td>\n",
       "      <td>270.0</td>\n",
       "      <td>543.0</td>\n",
       "    </tr>\n",
       "    <tr>\n",
       "      <th>days_in_waiting_list</th>\n",
       "      <td>119390.0</td>\n",
       "      <td>2.321149</td>\n",
       "      <td>17.594721</td>\n",
       "      <td>0.00</td>\n",
       "      <td>0.00</td>\n",
       "      <td>0.000</td>\n",
       "      <td>0.0</td>\n",
       "      <td>391.0</td>\n",
       "    </tr>\n",
       "    <tr>\n",
       "      <th>adr</th>\n",
       "      <td>119390.0</td>\n",
       "      <td>101.831122</td>\n",
       "      <td>50.535790</td>\n",
       "      <td>-6.38</td>\n",
       "      <td>69.29</td>\n",
       "      <td>94.575</td>\n",
       "      <td>126.0</td>\n",
       "      <td>5400.0</td>\n",
       "    </tr>\n",
       "    <tr>\n",
       "      <th>required_car_parking_spaces</th>\n",
       "      <td>119390.0</td>\n",
       "      <td>0.062518</td>\n",
       "      <td>0.245291</td>\n",
       "      <td>0.00</td>\n",
       "      <td>0.00</td>\n",
       "      <td>0.000</td>\n",
       "      <td>0.0</td>\n",
       "      <td>8.0</td>\n",
       "    </tr>\n",
       "    <tr>\n",
       "      <th>total_of_special_requests</th>\n",
       "      <td>119390.0</td>\n",
       "      <td>0.571363</td>\n",
       "      <td>0.792798</td>\n",
       "      <td>0.00</td>\n",
       "      <td>0.00</td>\n",
       "      <td>0.000</td>\n",
       "      <td>1.0</td>\n",
       "      <td>5.0</td>\n",
       "    </tr>\n",
       "  </tbody>\n",
       "</table>\n",
       "</div>"
      ],
      "text/plain": [
       "                                   count         mean         std      min  \\\n",
       "is_canceled                     119390.0     0.370416    0.482918     0.00   \n",
       "lead_time                       119390.0   104.011416  106.863097     0.00   \n",
       "arrival_date_year               119390.0  2016.156554    0.707476  2015.00   \n",
       "arrival_date_week_number        119390.0    27.165173   13.605138     1.00   \n",
       "arrival_date_day_of_month       119390.0    15.798241    8.780829     1.00   \n",
       "stays_in_weekend_nights         119390.0     0.927599    0.998613     0.00   \n",
       "stays_in_week_nights            119390.0     2.500302    1.908286     0.00   \n",
       "adults                          119390.0     1.856403    0.579261     0.00   \n",
       "children                        119386.0     0.103890    0.398561     0.00   \n",
       "babies                          119390.0     0.007949    0.097436     0.00   \n",
       "is_repeated_guest               119390.0     0.031912    0.175767     0.00   \n",
       "previous_cancellations          119390.0     0.087118    0.844336     0.00   \n",
       "previous_bookings_not_canceled  119390.0     0.137097    1.497437     0.00   \n",
       "booking_changes                 119390.0     0.221124    0.652306     0.00   \n",
       "agent                           103050.0    86.693382  110.774548     1.00   \n",
       "company                           6797.0   189.266735  131.655015     6.00   \n",
       "days_in_waiting_list            119390.0     2.321149   17.594721     0.00   \n",
       "adr                             119390.0   101.831122   50.535790    -6.38   \n",
       "required_car_parking_spaces     119390.0     0.062518    0.245291     0.00   \n",
       "total_of_special_requests       119390.0     0.571363    0.792798     0.00   \n",
       "\n",
       "                                    25%       50%     75%     max  \n",
       "is_canceled                        0.00     0.000     1.0     1.0  \n",
       "lead_time                         18.00    69.000   160.0   737.0  \n",
       "arrival_date_year               2016.00  2016.000  2017.0  2017.0  \n",
       "arrival_date_week_number          16.00    28.000    38.0    53.0  \n",
       "arrival_date_day_of_month          8.00    16.000    23.0    31.0  \n",
       "stays_in_weekend_nights            0.00     1.000     2.0    19.0  \n",
       "stays_in_week_nights               1.00     2.000     3.0    50.0  \n",
       "adults                             2.00     2.000     2.0    55.0  \n",
       "children                           0.00     0.000     0.0    10.0  \n",
       "babies                             0.00     0.000     0.0    10.0  \n",
       "is_repeated_guest                  0.00     0.000     0.0     1.0  \n",
       "previous_cancellations             0.00     0.000     0.0    26.0  \n",
       "previous_bookings_not_canceled     0.00     0.000     0.0    72.0  \n",
       "booking_changes                    0.00     0.000     0.0    21.0  \n",
       "agent                              9.00    14.000   229.0   535.0  \n",
       "company                           62.00   179.000   270.0   543.0  \n",
       "days_in_waiting_list               0.00     0.000     0.0   391.0  \n",
       "adr                               69.29    94.575   126.0  5400.0  \n",
       "required_car_parking_spaces        0.00     0.000     0.0     8.0  \n",
       "total_of_special_requests          0.00     0.000     1.0     5.0  "
      ]
     },
     "execution_count": 5,
     "metadata": {},
     "output_type": "execute_result"
    }
   ],
   "source": [
    "df.describe().T"
   ]
  },
  {
   "cell_type": "code",
   "execution_count": 6,
   "id": "250230ea",
   "metadata": {
    "_kg_hide-output": true,
    "execution": {
     "iopub.execute_input": "2021-10-06T11:07:52.516558Z",
     "iopub.status.busy": "2021-10-06T11:07:52.515659Z",
     "iopub.status.idle": "2021-10-06T11:07:52.689135Z",
     "shell.execute_reply": "2021-10-06T11:07:52.688615Z",
     "shell.execute_reply.started": "2021-10-06T10:16:48.550725Z"
    },
    "papermill": {
     "duration": 0.230496,
     "end_time": "2021-10-06T11:07:52.689285",
     "exception": false,
     "start_time": "2021-10-06T11:07:52.458789",
     "status": "completed"
    },
    "tags": []
   },
   "outputs": [
    {
     "name": "stdout",
     "output_type": "stream",
     "text": [
      "<class 'pandas.core.frame.DataFrame'>\n",
      "RangeIndex: 119390 entries, 0 to 119389\n",
      "Data columns (total 32 columns):\n",
      " #   Column                          Non-Null Count   Dtype  \n",
      "---  ------                          --------------   -----  \n",
      " 0   hotel                           119390 non-null  object \n",
      " 1   is_canceled                     119390 non-null  int64  \n",
      " 2   lead_time                       119390 non-null  int64  \n",
      " 3   arrival_date_year               119390 non-null  int64  \n",
      " 4   arrival_date_month              119390 non-null  object \n",
      " 5   arrival_date_week_number        119390 non-null  int64  \n",
      " 6   arrival_date_day_of_month       119390 non-null  int64  \n",
      " 7   stays_in_weekend_nights         119390 non-null  int64  \n",
      " 8   stays_in_week_nights            119390 non-null  int64  \n",
      " 9   adults                          119390 non-null  int64  \n",
      " 10  children                        119386 non-null  float64\n",
      " 11  babies                          119390 non-null  int64  \n",
      " 12  meal                            119390 non-null  object \n",
      " 13  country                         118902 non-null  object \n",
      " 14  market_segment                  119390 non-null  object \n",
      " 15  distribution_channel            119390 non-null  object \n",
      " 16  is_repeated_guest               119390 non-null  int64  \n",
      " 17  previous_cancellations          119390 non-null  int64  \n",
      " 18  previous_bookings_not_canceled  119390 non-null  int64  \n",
      " 19  reserved_room_type              119390 non-null  object \n",
      " 20  assigned_room_type              119390 non-null  object \n",
      " 21  booking_changes                 119390 non-null  int64  \n",
      " 22  deposit_type                    119390 non-null  object \n",
      " 23  agent                           103050 non-null  float64\n",
      " 24  company                         6797 non-null    float64\n",
      " 25  days_in_waiting_list            119390 non-null  int64  \n",
      " 26  customer_type                   119390 non-null  object \n",
      " 27  adr                             119390 non-null  float64\n",
      " 28  required_car_parking_spaces     119390 non-null  int64  \n",
      " 29  total_of_special_requests       119390 non-null  int64  \n",
      " 30  reservation_status              119390 non-null  object \n",
      " 31  reservation_status_date         119390 non-null  object \n",
      "dtypes: float64(4), int64(16), object(12)\n",
      "memory usage: 29.1+ MB\n"
     ]
    }
   ],
   "source": [
    "df.info()"
   ]
  },
  {
   "cell_type": "code",
   "execution_count": 7,
   "id": "b99b1778",
   "metadata": {
    "_kg_hide-input": false,
    "_kg_hide-output": false,
    "execution": {
     "iopub.execute_input": "2021-10-06T11:07:52.797944Z",
     "iopub.status.busy": "2021-10-06T11:07:52.797142Z",
     "iopub.status.idle": "2021-10-06T11:07:52.963057Z",
     "shell.execute_reply": "2021-10-06T11:07:52.962325Z",
     "shell.execute_reply.started": "2021-10-06T10:16:48.702948Z"
    },
    "papermill": {
     "duration": 0.222281,
     "end_time": "2021-10-06T11:07:52.963217",
     "exception": false,
     "start_time": "2021-10-06T11:07:52.740936",
     "status": "completed"
    },
    "tags": []
   },
   "outputs": [
    {
     "data": {
      "text/plain": [
       "hotel                                  0\n",
       "is_canceled                            0\n",
       "lead_time                              0\n",
       "arrival_date_year                      0\n",
       "arrival_date_month                     0\n",
       "arrival_date_week_number               0\n",
       "arrival_date_day_of_month              0\n",
       "stays_in_weekend_nights                0\n",
       "stays_in_week_nights                   0\n",
       "adults                                 0\n",
       "children                               4\n",
       "babies                                 0\n",
       "meal                                   0\n",
       "country                              488\n",
       "market_segment                         0\n",
       "distribution_channel                   0\n",
       "is_repeated_guest                      0\n",
       "previous_cancellations                 0\n",
       "previous_bookings_not_canceled         0\n",
       "reserved_room_type                     0\n",
       "assigned_room_type                     0\n",
       "booking_changes                        0\n",
       "deposit_type                           0\n",
       "agent                              16340\n",
       "company                           112593\n",
       "days_in_waiting_list                   0\n",
       "customer_type                          0\n",
       "adr                                    0\n",
       "required_car_parking_spaces            0\n",
       "total_of_special_requests              0\n",
       "reservation_status                     0\n",
       "reservation_status_date                0\n",
       "dtype: int64"
      ]
     },
     "execution_count": 7,
     "metadata": {},
     "output_type": "execute_result"
    }
   ],
   "source": [
    "df.isnull().sum()"
   ]
  },
  {
   "cell_type": "markdown",
   "id": "adf0de0b",
   "metadata": {
    "papermill": {
     "duration": 0.052611,
     "end_time": "2021-10-06T11:07:53.068649",
     "exception": false,
     "start_time": "2021-10-06T11:07:53.016038",
     "status": "completed"
    },
    "tags": []
   },
   "source": [
    "In the column `agent` has many missing values. It means that the reservation was mostly made by a person \n",
    "\n",
    "In the column `company` has many missing values. It means it is mostly like private"
   ]
  },
  {
   "cell_type": "markdown",
   "id": "51b3c2f3",
   "metadata": {
    "papermill": {
     "duration": 0.052576,
     "end_time": "2021-10-06T11:07:53.174719",
     "exception": false,
     "start_time": "2021-10-06T11:07:53.122143",
     "status": "completed"
    },
    "tags": []
   },
   "source": [
    "## Handel the missing values"
   ]
  },
  {
   "cell_type": "code",
   "execution_count": 8,
   "id": "644b4727",
   "metadata": {
    "execution": {
     "iopub.execute_input": "2021-10-06T11:07:53.299987Z",
     "iopub.status.busy": "2021-10-06T11:07:53.298915Z",
     "iopub.status.idle": "2021-10-06T11:07:53.621513Z",
     "shell.execute_reply": "2021-10-06T11:07:53.622000Z",
     "shell.execute_reply.started": "2021-10-06T10:16:48.855016Z"
    },
    "papermill": {
     "duration": 0.394599,
     "end_time": "2021-10-06T11:07:53.622221",
     "exception": false,
     "start_time": "2021-10-06T11:07:53.227622",
     "status": "completed"
    },
    "tags": []
   },
   "outputs": [
    {
     "data": {
      "text/plain": [
       "False"
      ]
     },
     "execution_count": 8,
     "metadata": {},
     "output_type": "execute_result"
    }
   ],
   "source": [
    "df['country'].fillna('PRT',inplace=True)\n",
    "df.fillna(0,inplace=True)\n",
    "df.isnull().values.any()"
   ]
  },
  {
   "cell_type": "markdown",
   "id": "65bdc849",
   "metadata": {
    "papermill": {
     "duration": 0.052049,
     "end_time": "2021-10-06T11:07:53.728218",
     "exception": false,
     "start_time": "2021-10-06T11:07:53.676169",
     "status": "completed"
    },
    "tags": []
   },
   "source": [
    "## Where do the guests come from & Perform spatial analysis"
   ]
  },
  {
   "cell_type": "code",
   "execution_count": 9,
   "id": "17e170bf",
   "metadata": {
    "execution": {
     "iopub.execute_input": "2021-10-06T11:07:53.848619Z",
     "iopub.status.busy": "2021-10-06T11:07:53.847931Z",
     "iopub.status.idle": "2021-10-06T11:07:53.855333Z",
     "shell.execute_reply": "2021-10-06T11:07:53.854635Z",
     "shell.execute_reply.started": "2021-10-06T10:16:49.165206Z"
    },
    "papermill": {
     "duration": 0.073656,
     "end_time": "2021-10-06T11:07:53.855553",
     "exception": false,
     "start_time": "2021-10-06T11:07:53.781897",
     "status": "completed"
    },
    "tags": []
   },
   "outputs": [
    {
     "data": {
      "text/plain": [
       "array(['Resort Hotel', 'City Hotel'], dtype=object)"
      ]
     },
     "execution_count": 9,
     "metadata": {},
     "output_type": "execute_result"
    }
   ],
   "source": [
    "df.hotel.unique()"
   ]
  },
  {
   "cell_type": "code",
   "execution_count": 10,
   "id": "9a69e65f",
   "metadata": {
    "execution": {
     "iopub.execute_input": "2021-10-06T11:07:53.988123Z",
     "iopub.status.busy": "2021-10-06T11:07:53.987330Z",
     "iopub.status.idle": "2021-10-06T11:07:54.033980Z",
     "shell.execute_reply": "2021-10-06T11:07:54.033313Z",
     "shell.execute_reply.started": "2021-10-06T10:16:49.189584Z"
    },
    "papermill": {
     "duration": 0.124426,
     "end_time": "2021-10-06T11:07:54.034146",
     "exception": false,
     "start_time": "2021-10-06T11:07:53.909720",
     "status": "completed"
    },
    "tags": []
   },
   "outputs": [],
   "source": [
    "resort = df[(df['hotel']=='Resort Hotel') & (df['is_canceled']==0)]\n",
    "city   = df[(df['hotel']=='City Hotel')   &  (df['is_canceled']==0)]"
   ]
  },
  {
   "cell_type": "code",
   "execution_count": 11,
   "id": "9357384f",
   "metadata": {
    "execution": {
     "iopub.execute_input": "2021-10-06T11:07:54.167491Z",
     "iopub.status.busy": "2021-10-06T11:07:54.160373Z",
     "iopub.status.idle": "2021-10-06T11:07:54.171591Z",
     "shell.execute_reply": "2021-10-06T11:07:54.170949Z",
     "shell.execute_reply.started": "2021-10-06T10:16:49.267920Z"
    },
    "papermill": {
     "duration": 0.083401,
     "end_time": "2021-10-06T11:07:54.171739",
     "exception": false,
     "start_time": "2021-10-06T11:07:54.088338",
     "status": "completed"
    },
    "tags": []
   },
   "outputs": [
    {
     "data": {
      "text/html": [
       "<div>\n",
       "<style scoped>\n",
       "    .dataframe tbody tr th:only-of-type {\n",
       "        vertical-align: middle;\n",
       "    }\n",
       "\n",
       "    .dataframe tbody tr th {\n",
       "        vertical-align: top;\n",
       "    }\n",
       "\n",
       "    .dataframe thead th {\n",
       "        text-align: right;\n",
       "    }\n",
       "</style>\n",
       "<table border=\"1\" class=\"dataframe\">\n",
       "  <thead>\n",
       "    <tr style=\"text-align: right;\">\n",
       "      <th></th>\n",
       "      <th>hotel</th>\n",
       "      <th>is_canceled</th>\n",
       "      <th>lead_time</th>\n",
       "      <th>arrival_date_year</th>\n",
       "      <th>arrival_date_month</th>\n",
       "      <th>arrival_date_week_number</th>\n",
       "      <th>arrival_date_day_of_month</th>\n",
       "      <th>stays_in_weekend_nights</th>\n",
       "      <th>stays_in_week_nights</th>\n",
       "      <th>adults</th>\n",
       "      <th>...</th>\n",
       "      <th>deposit_type</th>\n",
       "      <th>agent</th>\n",
       "      <th>company</th>\n",
       "      <th>days_in_waiting_list</th>\n",
       "      <th>customer_type</th>\n",
       "      <th>adr</th>\n",
       "      <th>required_car_parking_spaces</th>\n",
       "      <th>total_of_special_requests</th>\n",
       "      <th>reservation_status</th>\n",
       "      <th>reservation_status_date</th>\n",
       "    </tr>\n",
       "  </thead>\n",
       "  <tbody>\n",
       "    <tr>\n",
       "      <th>0</th>\n",
       "      <td>Resort Hotel</td>\n",
       "      <td>0</td>\n",
       "      <td>342</td>\n",
       "      <td>2015</td>\n",
       "      <td>July</td>\n",
       "      <td>27</td>\n",
       "      <td>1</td>\n",
       "      <td>0</td>\n",
       "      <td>0</td>\n",
       "      <td>2</td>\n",
       "      <td>...</td>\n",
       "      <td>No Deposit</td>\n",
       "      <td>0.0</td>\n",
       "      <td>0.0</td>\n",
       "      <td>0</td>\n",
       "      <td>Transient</td>\n",
       "      <td>0.0</td>\n",
       "      <td>0</td>\n",
       "      <td>0</td>\n",
       "      <td>Check-Out</td>\n",
       "      <td>2015-07-01</td>\n",
       "    </tr>\n",
       "    <tr>\n",
       "      <th>1</th>\n",
       "      <td>Resort Hotel</td>\n",
       "      <td>0</td>\n",
       "      <td>737</td>\n",
       "      <td>2015</td>\n",
       "      <td>July</td>\n",
       "      <td>27</td>\n",
       "      <td>1</td>\n",
       "      <td>0</td>\n",
       "      <td>0</td>\n",
       "      <td>2</td>\n",
       "      <td>...</td>\n",
       "      <td>No Deposit</td>\n",
       "      <td>0.0</td>\n",
       "      <td>0.0</td>\n",
       "      <td>0</td>\n",
       "      <td>Transient</td>\n",
       "      <td>0.0</td>\n",
       "      <td>0</td>\n",
       "      <td>0</td>\n",
       "      <td>Check-Out</td>\n",
       "      <td>2015-07-01</td>\n",
       "    </tr>\n",
       "    <tr>\n",
       "      <th>2</th>\n",
       "      <td>Resort Hotel</td>\n",
       "      <td>0</td>\n",
       "      <td>7</td>\n",
       "      <td>2015</td>\n",
       "      <td>July</td>\n",
       "      <td>27</td>\n",
       "      <td>1</td>\n",
       "      <td>0</td>\n",
       "      <td>1</td>\n",
       "      <td>1</td>\n",
       "      <td>...</td>\n",
       "      <td>No Deposit</td>\n",
       "      <td>0.0</td>\n",
       "      <td>0.0</td>\n",
       "      <td>0</td>\n",
       "      <td>Transient</td>\n",
       "      <td>75.0</td>\n",
       "      <td>0</td>\n",
       "      <td>0</td>\n",
       "      <td>Check-Out</td>\n",
       "      <td>2015-07-02</td>\n",
       "    </tr>\n",
       "    <tr>\n",
       "      <th>3</th>\n",
       "      <td>Resort Hotel</td>\n",
       "      <td>0</td>\n",
       "      <td>13</td>\n",
       "      <td>2015</td>\n",
       "      <td>July</td>\n",
       "      <td>27</td>\n",
       "      <td>1</td>\n",
       "      <td>0</td>\n",
       "      <td>1</td>\n",
       "      <td>1</td>\n",
       "      <td>...</td>\n",
       "      <td>No Deposit</td>\n",
       "      <td>304.0</td>\n",
       "      <td>0.0</td>\n",
       "      <td>0</td>\n",
       "      <td>Transient</td>\n",
       "      <td>75.0</td>\n",
       "      <td>0</td>\n",
       "      <td>0</td>\n",
       "      <td>Check-Out</td>\n",
       "      <td>2015-07-02</td>\n",
       "    </tr>\n",
       "    <tr>\n",
       "      <th>4</th>\n",
       "      <td>Resort Hotel</td>\n",
       "      <td>0</td>\n",
       "      <td>14</td>\n",
       "      <td>2015</td>\n",
       "      <td>July</td>\n",
       "      <td>27</td>\n",
       "      <td>1</td>\n",
       "      <td>0</td>\n",
       "      <td>2</td>\n",
       "      <td>2</td>\n",
       "      <td>...</td>\n",
       "      <td>No Deposit</td>\n",
       "      <td>240.0</td>\n",
       "      <td>0.0</td>\n",
       "      <td>0</td>\n",
       "      <td>Transient</td>\n",
       "      <td>98.0</td>\n",
       "      <td>0</td>\n",
       "      <td>1</td>\n",
       "      <td>Check-Out</td>\n",
       "      <td>2015-07-03</td>\n",
       "    </tr>\n",
       "  </tbody>\n",
       "</table>\n",
       "<p>5 rows × 32 columns</p>\n",
       "</div>"
      ],
      "text/plain": [
       "          hotel  is_canceled  lead_time  arrival_date_year arrival_date_month  \\\n",
       "0  Resort Hotel            0        342               2015               July   \n",
       "1  Resort Hotel            0        737               2015               July   \n",
       "2  Resort Hotel            0          7               2015               July   \n",
       "3  Resort Hotel            0         13               2015               July   \n",
       "4  Resort Hotel            0         14               2015               July   \n",
       "\n",
       "   arrival_date_week_number  arrival_date_day_of_month  \\\n",
       "0                        27                          1   \n",
       "1                        27                          1   \n",
       "2                        27                          1   \n",
       "3                        27                          1   \n",
       "4                        27                          1   \n",
       "\n",
       "   stays_in_weekend_nights  stays_in_week_nights  adults  ...  deposit_type  \\\n",
       "0                        0                     0       2  ...    No Deposit   \n",
       "1                        0                     0       2  ...    No Deposit   \n",
       "2                        0                     1       1  ...    No Deposit   \n",
       "3                        0                     1       1  ...    No Deposit   \n",
       "4                        0                     2       2  ...    No Deposit   \n",
       "\n",
       "   agent company days_in_waiting_list customer_type   adr  \\\n",
       "0    0.0     0.0                    0     Transient   0.0   \n",
       "1    0.0     0.0                    0     Transient   0.0   \n",
       "2    0.0     0.0                    0     Transient  75.0   \n",
       "3  304.0     0.0                    0     Transient  75.0   \n",
       "4  240.0     0.0                    0     Transient  98.0   \n",
       "\n",
       "   required_car_parking_spaces  total_of_special_requests  reservation_status  \\\n",
       "0                            0                          0           Check-Out   \n",
       "1                            0                          0           Check-Out   \n",
       "2                            0                          0           Check-Out   \n",
       "3                            0                          0           Check-Out   \n",
       "4                            0                          1           Check-Out   \n",
       "\n",
       "  reservation_status_date  \n",
       "0              2015-07-01  \n",
       "1              2015-07-01  \n",
       "2              2015-07-02  \n",
       "3              2015-07-02  \n",
       "4              2015-07-03  \n",
       "\n",
       "[5 rows x 32 columns]"
      ]
     },
     "execution_count": 11,
     "metadata": {},
     "output_type": "execute_result"
    }
   ],
   "source": [
    "resort.head()"
   ]
  },
  {
   "cell_type": "code",
   "execution_count": 12,
   "id": "7bd4911c",
   "metadata": {
    "execution": {
     "iopub.execute_input": "2021-10-06T11:07:54.286192Z",
     "iopub.status.busy": "2021-10-06T11:07:54.285509Z",
     "iopub.status.idle": "2021-10-06T11:07:54.288375Z",
     "shell.execute_reply": "2021-10-06T11:07:54.288893Z",
     "shell.execute_reply.started": "2021-10-06T10:16:49.305720Z"
    },
    "papermill": {
     "duration": 0.062368,
     "end_time": "2021-10-06T11:07:54.289067",
     "exception": false,
     "start_time": "2021-10-06T11:07:54.226699",
     "status": "completed"
    },
    "tags": []
   },
   "outputs": [
    {
     "data": {
      "text/plain": [
       "(28938, 32)"
      ]
     },
     "execution_count": 12,
     "metadata": {},
     "output_type": "execute_result"
    }
   ],
   "source": [
    "resort.shape"
   ]
  },
  {
   "cell_type": "code",
   "execution_count": 13,
   "id": "bb03bc46",
   "metadata": {
    "execution": {
     "iopub.execute_input": "2021-10-06T11:07:54.400670Z",
     "iopub.status.busy": "2021-10-06T11:07:54.399983Z",
     "iopub.status.idle": "2021-10-06T11:07:54.424872Z",
     "shell.execute_reply": "2021-10-06T11:07:54.424344Z",
     "shell.execute_reply.started": "2021-10-06T10:16:49.316842Z"
    },
    "papermill": {
     "duration": 0.081723,
     "end_time": "2021-10-06T11:07:54.425025",
     "exception": false,
     "start_time": "2021-10-06T11:07:54.343302",
     "status": "completed"
    },
    "tags": []
   },
   "outputs": [
    {
     "data": {
      "text/html": [
       "<div>\n",
       "<style scoped>\n",
       "    .dataframe tbody tr th:only-of-type {\n",
       "        vertical-align: middle;\n",
       "    }\n",
       "\n",
       "    .dataframe tbody tr th {\n",
       "        vertical-align: top;\n",
       "    }\n",
       "\n",
       "    .dataframe thead th {\n",
       "        text-align: right;\n",
       "    }\n",
       "</style>\n",
       "<table border=\"1\" class=\"dataframe\">\n",
       "  <thead>\n",
       "    <tr style=\"text-align: right;\">\n",
       "      <th></th>\n",
       "      <th>hotel</th>\n",
       "      <th>is_canceled</th>\n",
       "      <th>lead_time</th>\n",
       "      <th>arrival_date_year</th>\n",
       "      <th>arrival_date_month</th>\n",
       "      <th>arrival_date_week_number</th>\n",
       "      <th>arrival_date_day_of_month</th>\n",
       "      <th>stays_in_weekend_nights</th>\n",
       "      <th>stays_in_week_nights</th>\n",
       "      <th>adults</th>\n",
       "      <th>...</th>\n",
       "      <th>deposit_type</th>\n",
       "      <th>agent</th>\n",
       "      <th>company</th>\n",
       "      <th>days_in_waiting_list</th>\n",
       "      <th>customer_type</th>\n",
       "      <th>adr</th>\n",
       "      <th>required_car_parking_spaces</th>\n",
       "      <th>total_of_special_requests</th>\n",
       "      <th>reservation_status</th>\n",
       "      <th>reservation_status_date</th>\n",
       "    </tr>\n",
       "  </thead>\n",
       "  <tbody>\n",
       "    <tr>\n",
       "      <th>40060</th>\n",
       "      <td>City Hotel</td>\n",
       "      <td>0</td>\n",
       "      <td>6</td>\n",
       "      <td>2015</td>\n",
       "      <td>July</td>\n",
       "      <td>27</td>\n",
       "      <td>1</td>\n",
       "      <td>0</td>\n",
       "      <td>2</td>\n",
       "      <td>1</td>\n",
       "      <td>...</td>\n",
       "      <td>No Deposit</td>\n",
       "      <td>6.0</td>\n",
       "      <td>0.0</td>\n",
       "      <td>0</td>\n",
       "      <td>Transient</td>\n",
       "      <td>0.00</td>\n",
       "      <td>0</td>\n",
       "      <td>0</td>\n",
       "      <td>Check-Out</td>\n",
       "      <td>2015-07-03</td>\n",
       "    </tr>\n",
       "    <tr>\n",
       "      <th>40066</th>\n",
       "      <td>City Hotel</td>\n",
       "      <td>0</td>\n",
       "      <td>3</td>\n",
       "      <td>2015</td>\n",
       "      <td>July</td>\n",
       "      <td>27</td>\n",
       "      <td>2</td>\n",
       "      <td>0</td>\n",
       "      <td>3</td>\n",
       "      <td>1</td>\n",
       "      <td>...</td>\n",
       "      <td>No Deposit</td>\n",
       "      <td>1.0</td>\n",
       "      <td>0.0</td>\n",
       "      <td>0</td>\n",
       "      <td>Transient-Party</td>\n",
       "      <td>58.67</td>\n",
       "      <td>0</td>\n",
       "      <td>0</td>\n",
       "      <td>Check-Out</td>\n",
       "      <td>2015-07-05</td>\n",
       "    </tr>\n",
       "    <tr>\n",
       "      <th>40070</th>\n",
       "      <td>City Hotel</td>\n",
       "      <td>0</td>\n",
       "      <td>43</td>\n",
       "      <td>2015</td>\n",
       "      <td>July</td>\n",
       "      <td>27</td>\n",
       "      <td>3</td>\n",
       "      <td>0</td>\n",
       "      <td>2</td>\n",
       "      <td>2</td>\n",
       "      <td>...</td>\n",
       "      <td>No Deposit</td>\n",
       "      <td>1.0</td>\n",
       "      <td>0.0</td>\n",
       "      <td>0</td>\n",
       "      <td>Transient-Party</td>\n",
       "      <td>86.00</td>\n",
       "      <td>0</td>\n",
       "      <td>0</td>\n",
       "      <td>Check-Out</td>\n",
       "      <td>2015-07-05</td>\n",
       "    </tr>\n",
       "    <tr>\n",
       "      <th>40071</th>\n",
       "      <td>City Hotel</td>\n",
       "      <td>0</td>\n",
       "      <td>43</td>\n",
       "      <td>2015</td>\n",
       "      <td>July</td>\n",
       "      <td>27</td>\n",
       "      <td>3</td>\n",
       "      <td>0</td>\n",
       "      <td>2</td>\n",
       "      <td>2</td>\n",
       "      <td>...</td>\n",
       "      <td>No Deposit</td>\n",
       "      <td>1.0</td>\n",
       "      <td>0.0</td>\n",
       "      <td>0</td>\n",
       "      <td>Transient-Party</td>\n",
       "      <td>43.00</td>\n",
       "      <td>0</td>\n",
       "      <td>0</td>\n",
       "      <td>Check-Out</td>\n",
       "      <td>2015-07-05</td>\n",
       "    </tr>\n",
       "    <tr>\n",
       "      <th>40072</th>\n",
       "      <td>City Hotel</td>\n",
       "      <td>0</td>\n",
       "      <td>43</td>\n",
       "      <td>2015</td>\n",
       "      <td>July</td>\n",
       "      <td>27</td>\n",
       "      <td>3</td>\n",
       "      <td>0</td>\n",
       "      <td>2</td>\n",
       "      <td>2</td>\n",
       "      <td>...</td>\n",
       "      <td>No Deposit</td>\n",
       "      <td>1.0</td>\n",
       "      <td>0.0</td>\n",
       "      <td>0</td>\n",
       "      <td>Transient-Party</td>\n",
       "      <td>86.00</td>\n",
       "      <td>0</td>\n",
       "      <td>0</td>\n",
       "      <td>Check-Out</td>\n",
       "      <td>2015-07-05</td>\n",
       "    </tr>\n",
       "  </tbody>\n",
       "</table>\n",
       "<p>5 rows × 32 columns</p>\n",
       "</div>"
      ],
      "text/plain": [
       "            hotel  is_canceled  lead_time  arrival_date_year  \\\n",
       "40060  City Hotel            0          6               2015   \n",
       "40066  City Hotel            0          3               2015   \n",
       "40070  City Hotel            0         43               2015   \n",
       "40071  City Hotel            0         43               2015   \n",
       "40072  City Hotel            0         43               2015   \n",
       "\n",
       "      arrival_date_month  arrival_date_week_number  arrival_date_day_of_month  \\\n",
       "40060               July                        27                          1   \n",
       "40066               July                        27                          2   \n",
       "40070               July                        27                          3   \n",
       "40071               July                        27                          3   \n",
       "40072               July                        27                          3   \n",
       "\n",
       "       stays_in_weekend_nights  stays_in_week_nights  adults  ...  \\\n",
       "40060                        0                     2       1  ...   \n",
       "40066                        0                     3       1  ...   \n",
       "40070                        0                     2       2  ...   \n",
       "40071                        0                     2       2  ...   \n",
       "40072                        0                     2       2  ...   \n",
       "\n",
       "       deposit_type  agent company days_in_waiting_list    customer_type  \\\n",
       "40060    No Deposit    6.0     0.0                    0        Transient   \n",
       "40066    No Deposit    1.0     0.0                    0  Transient-Party   \n",
       "40070    No Deposit    1.0     0.0                    0  Transient-Party   \n",
       "40071    No Deposit    1.0     0.0                    0  Transient-Party   \n",
       "40072    No Deposit    1.0     0.0                    0  Transient-Party   \n",
       "\n",
       "         adr  required_car_parking_spaces  total_of_special_requests  \\\n",
       "40060   0.00                            0                          0   \n",
       "40066  58.67                            0                          0   \n",
       "40070  86.00                            0                          0   \n",
       "40071  43.00                            0                          0   \n",
       "40072  86.00                            0                          0   \n",
       "\n",
       "       reservation_status reservation_status_date  \n",
       "40060           Check-Out              2015-07-03  \n",
       "40066           Check-Out              2015-07-05  \n",
       "40070           Check-Out              2015-07-05  \n",
       "40071           Check-Out              2015-07-05  \n",
       "40072           Check-Out              2015-07-05  \n",
       "\n",
       "[5 rows x 32 columns]"
      ]
     },
     "execution_count": 13,
     "metadata": {},
     "output_type": "execute_result"
    }
   ],
   "source": [
    "city.head()"
   ]
  },
  {
   "cell_type": "code",
   "execution_count": 14,
   "id": "03ba3749",
   "metadata": {
    "execution": {
     "iopub.execute_input": "2021-10-06T11:07:54.537142Z",
     "iopub.status.busy": "2021-10-06T11:07:54.536492Z",
     "iopub.status.idle": "2021-10-06T11:07:54.542326Z",
     "shell.execute_reply": "2021-10-06T11:07:54.541791Z",
     "shell.execute_reply.started": "2021-10-06T10:16:49.345180Z"
    },
    "papermill": {
     "duration": 0.062904,
     "end_time": "2021-10-06T11:07:54.542495",
     "exception": false,
     "start_time": "2021-10-06T11:07:54.479591",
     "status": "completed"
    },
    "tags": []
   },
   "outputs": [
    {
     "data": {
      "text/plain": [
       "(46228, 32)"
      ]
     },
     "execution_count": 14,
     "metadata": {},
     "output_type": "execute_result"
    }
   ],
   "source": [
    "city.shape"
   ]
  },
  {
   "cell_type": "code",
   "execution_count": 15,
   "id": "d98e4668",
   "metadata": {
    "execution": {
     "iopub.execute_input": "2021-10-06T11:07:54.657716Z",
     "iopub.status.busy": "2021-10-06T11:07:54.657060Z",
     "iopub.status.idle": "2021-10-06T11:07:55.523027Z",
     "shell.execute_reply": "2021-10-06T11:07:55.522341Z",
     "shell.execute_reply.started": "2021-10-06T10:16:49.357475Z"
    },
    "papermill": {
     "duration": 0.926112,
     "end_time": "2021-10-06T11:07:55.523211",
     "exception": false,
     "start_time": "2021-10-06T11:07:54.597099",
     "status": "completed"
    },
    "tags": []
   },
   "outputs": [
    {
     "data": {
      "text/html": [
       "        <script type=\"text/javascript\">\n",
       "        window.PlotlyConfig = {MathJaxConfig: 'local'};\n",
       "        if (window.MathJax) {MathJax.Hub.Config({SVG: {font: \"STIX-Web\"}});}\n",
       "        if (typeof require !== 'undefined') {\n",
       "        require.undef(\"plotly\");\n",
       "        requirejs.config({\n",
       "            paths: {\n",
       "                'plotly': ['https://cdn.plot.ly/plotly-2.4.2.min']\n",
       "            }\n",
       "        });\n",
       "        require(['plotly'], function(Plotly) {\n",
       "            window._Plotly = Plotly;\n",
       "        });\n",
       "        }\n",
       "        </script>\n",
       "        "
      ]
     },
     "metadata": {},
     "output_type": "display_data"
    },
    {
     "data": {
      "text/html": [
       "<div>                            <div id=\"7869c6f3-b463-4cbf-aec5-3536fda6a118\" class=\"plotly-graph-div\" style=\"height:525px; width:100%;\"></div>            <script type=\"text/javascript\">                require([\"plotly\"], function(Plotly) {                    window.PLOTLYENV=window.PLOTLYENV || {};                                    if (document.getElementById(\"7869c6f3-b463-4cbf-aec5-3536fda6a118\")) {                    Plotly.newPlot(                        \"7869c6f3-b463-4cbf-aec5-3536fda6a118\",                        [{\"hoverinfo\":\"label+percent\",\"labels\":[\"PRT\",\"GBR\",\"ESP\",\"IRL\",\"FRA\",\"DEU\",\"CN\",\"NLD\",\"USA\",\"BEL\",\"ITA\",\"BRA\",\"CHE\",\"POL\",\"SWE\",\"AUT\",\"ROU\",\"FIN\",\"RUS\",\"CHN\",\"NOR\",\"AUS\",\"DNK\",\"LUX\",\"ARG\",\"LTU\",\"MAR\",\"HUN\",\"IND\",\"EST\",\"LVA\",\"UKR\",\"CZE\",\"AGO\",\"TUR\",\"ISR\",\"NZL\",\"CHL\",\"ZAF\",\"TWN\",\"COL\",\"OMN\",\"MYS\",\"SVN\",\"PRI\",\"JPN\",\"HRV\",\"SVK\",\"NGA\",\"GRC\",\"DZA\",\"PHL\",\"GIB\",\"SRB\",\"MEX\",\"CYP\",\"KOR\",\"THA\",\"ISL\",\"URY\",\"BGR\",\"CPV\",\"JAM\",\"IRN\",\"SGP\",\"CUB\",\"SUR\",\"GEO\",\"KAZ\",\"BLR\",\"CAF\",\"ARE\",\"MOZ\",\"LBN\",\"IDN\",\"DOM\",\"VNM\",\"AZE\",\"MLT\",\"ALB\",\"MDV\",\"MWI\",\"ECU\",\"PAK\",\"KWT\",\"AND\",\"ZWE\",\"JOR\",\"ARM\",\"CRI\",\"CIV\",\"CMR\",\"VEN\",\"TGO\",\"MAC\",\"HKG\",\"DJI\",\"BHS\",\"NPL\",\"UZB\",\"BWA\",\"MDG\",\"LKA\",\"CYM\",\"BIH\",\"SYR\",\"MUS\",\"PER\",\"EGY\",\"QAT\",\"COM\",\"PLW\",\"UGA\",\"ZMB\",\"SAU\",\"SMR\",\"BDI\",\"MKD\"],\"textinfo\":\"value\",\"type\":\"pie\",\"values\":[10611,5923,3106,1734,1400,1057,614,458,407,389,379,329,323,294,231,176,145,135,128,125,100,72,60,54,48,45,39,38,33,29,29,23,23,17,16,16,14,14,13,12,12,11,10,10,9,9,9,9,8,8,7,7,7,7,6,6,6,6,6,5,5,5,5,5,4,4,4,4,4,4,3,3,3,3,3,3,2,2,2,2,2,2,2,2,2,2,2,2,2,2,2,2,2,1,1,1,1,1,1,1,1,1,1,1,1,1,1,1,1,1,1,1,1,1,1,1,1,1]}],                        {\"template\":{\"data\":{\"bar\":[{\"error_x\":{\"color\":\"#2a3f5f\"},\"error_y\":{\"color\":\"#2a3f5f\"},\"marker\":{\"line\":{\"color\":\"#E5ECF6\",\"width\":0.5},\"pattern\":{\"fillmode\":\"overlay\",\"size\":10,\"solidity\":0.2}},\"type\":\"bar\"}],\"barpolar\":[{\"marker\":{\"line\":{\"color\":\"#E5ECF6\",\"width\":0.5},\"pattern\":{\"fillmode\":\"overlay\",\"size\":10,\"solidity\":0.2}},\"type\":\"barpolar\"}],\"carpet\":[{\"aaxis\":{\"endlinecolor\":\"#2a3f5f\",\"gridcolor\":\"white\",\"linecolor\":\"white\",\"minorgridcolor\":\"white\",\"startlinecolor\":\"#2a3f5f\"},\"baxis\":{\"endlinecolor\":\"#2a3f5f\",\"gridcolor\":\"white\",\"linecolor\":\"white\",\"minorgridcolor\":\"white\",\"startlinecolor\":\"#2a3f5f\"},\"type\":\"carpet\"}],\"choropleth\":[{\"colorbar\":{\"outlinewidth\":0,\"ticks\":\"\"},\"type\":\"choropleth\"}],\"contour\":[{\"colorbar\":{\"outlinewidth\":0,\"ticks\":\"\"},\"colorscale\":[[0.0,\"#0d0887\"],[0.1111111111111111,\"#46039f\"],[0.2222222222222222,\"#7201a8\"],[0.3333333333333333,\"#9c179e\"],[0.4444444444444444,\"#bd3786\"],[0.5555555555555556,\"#d8576b\"],[0.6666666666666666,\"#ed7953\"],[0.7777777777777778,\"#fb9f3a\"],[0.8888888888888888,\"#fdca26\"],[1.0,\"#f0f921\"]],\"type\":\"contour\"}],\"contourcarpet\":[{\"colorbar\":{\"outlinewidth\":0,\"ticks\":\"\"},\"type\":\"contourcarpet\"}],\"heatmap\":[{\"colorbar\":{\"outlinewidth\":0,\"ticks\":\"\"},\"colorscale\":[[0.0,\"#0d0887\"],[0.1111111111111111,\"#46039f\"],[0.2222222222222222,\"#7201a8\"],[0.3333333333333333,\"#9c179e\"],[0.4444444444444444,\"#bd3786\"],[0.5555555555555556,\"#d8576b\"],[0.6666666666666666,\"#ed7953\"],[0.7777777777777778,\"#fb9f3a\"],[0.8888888888888888,\"#fdca26\"],[1.0,\"#f0f921\"]],\"type\":\"heatmap\"}],\"heatmapgl\":[{\"colorbar\":{\"outlinewidth\":0,\"ticks\":\"\"},\"colorscale\":[[0.0,\"#0d0887\"],[0.1111111111111111,\"#46039f\"],[0.2222222222222222,\"#7201a8\"],[0.3333333333333333,\"#9c179e\"],[0.4444444444444444,\"#bd3786\"],[0.5555555555555556,\"#d8576b\"],[0.6666666666666666,\"#ed7953\"],[0.7777777777777778,\"#fb9f3a\"],[0.8888888888888888,\"#fdca26\"],[1.0,\"#f0f921\"]],\"type\":\"heatmapgl\"}],\"histogram\":[{\"marker\":{\"pattern\":{\"fillmode\":\"overlay\",\"size\":10,\"solidity\":0.2}},\"type\":\"histogram\"}],\"histogram2d\":[{\"colorbar\":{\"outlinewidth\":0,\"ticks\":\"\"},\"colorscale\":[[0.0,\"#0d0887\"],[0.1111111111111111,\"#46039f\"],[0.2222222222222222,\"#7201a8\"],[0.3333333333333333,\"#9c179e\"],[0.4444444444444444,\"#bd3786\"],[0.5555555555555556,\"#d8576b\"],[0.6666666666666666,\"#ed7953\"],[0.7777777777777778,\"#fb9f3a\"],[0.8888888888888888,\"#fdca26\"],[1.0,\"#f0f921\"]],\"type\":\"histogram2d\"}],\"histogram2dcontour\":[{\"colorbar\":{\"outlinewidth\":0,\"ticks\":\"\"},\"colorscale\":[[0.0,\"#0d0887\"],[0.1111111111111111,\"#46039f\"],[0.2222222222222222,\"#7201a8\"],[0.3333333333333333,\"#9c179e\"],[0.4444444444444444,\"#bd3786\"],[0.5555555555555556,\"#d8576b\"],[0.6666666666666666,\"#ed7953\"],[0.7777777777777778,\"#fb9f3a\"],[0.8888888888888888,\"#fdca26\"],[1.0,\"#f0f921\"]],\"type\":\"histogram2dcontour\"}],\"mesh3d\":[{\"colorbar\":{\"outlinewidth\":0,\"ticks\":\"\"},\"type\":\"mesh3d\"}],\"parcoords\":[{\"line\":{\"colorbar\":{\"outlinewidth\":0,\"ticks\":\"\"}},\"type\":\"parcoords\"}],\"pie\":[{\"automargin\":true,\"type\":\"pie\"}],\"scatter\":[{\"marker\":{\"colorbar\":{\"outlinewidth\":0,\"ticks\":\"\"}},\"type\":\"scatter\"}],\"scatter3d\":[{\"line\":{\"colorbar\":{\"outlinewidth\":0,\"ticks\":\"\"}},\"marker\":{\"colorbar\":{\"outlinewidth\":0,\"ticks\":\"\"}},\"type\":\"scatter3d\"}],\"scattercarpet\":[{\"marker\":{\"colorbar\":{\"outlinewidth\":0,\"ticks\":\"\"}},\"type\":\"scattercarpet\"}],\"scattergeo\":[{\"marker\":{\"colorbar\":{\"outlinewidth\":0,\"ticks\":\"\"}},\"type\":\"scattergeo\"}],\"scattergl\":[{\"marker\":{\"colorbar\":{\"outlinewidth\":0,\"ticks\":\"\"}},\"type\":\"scattergl\"}],\"scattermapbox\":[{\"marker\":{\"colorbar\":{\"outlinewidth\":0,\"ticks\":\"\"}},\"type\":\"scattermapbox\"}],\"scatterpolar\":[{\"marker\":{\"colorbar\":{\"outlinewidth\":0,\"ticks\":\"\"}},\"type\":\"scatterpolar\"}],\"scatterpolargl\":[{\"marker\":{\"colorbar\":{\"outlinewidth\":0,\"ticks\":\"\"}},\"type\":\"scatterpolargl\"}],\"scatterternary\":[{\"marker\":{\"colorbar\":{\"outlinewidth\":0,\"ticks\":\"\"}},\"type\":\"scatterternary\"}],\"surface\":[{\"colorbar\":{\"outlinewidth\":0,\"ticks\":\"\"},\"colorscale\":[[0.0,\"#0d0887\"],[0.1111111111111111,\"#46039f\"],[0.2222222222222222,\"#7201a8\"],[0.3333333333333333,\"#9c179e\"],[0.4444444444444444,\"#bd3786\"],[0.5555555555555556,\"#d8576b\"],[0.6666666666666666,\"#ed7953\"],[0.7777777777777778,\"#fb9f3a\"],[0.8888888888888888,\"#fdca26\"],[1.0,\"#f0f921\"]],\"type\":\"surface\"}],\"table\":[{\"cells\":{\"fill\":{\"color\":\"#EBF0F8\"},\"line\":{\"color\":\"white\"}},\"header\":{\"fill\":{\"color\":\"#C8D4E3\"},\"line\":{\"color\":\"white\"}},\"type\":\"table\"}]},\"layout\":{\"annotationdefaults\":{\"arrowcolor\":\"#2a3f5f\",\"arrowhead\":0,\"arrowwidth\":1},\"autotypenumbers\":\"strict\",\"coloraxis\":{\"colorbar\":{\"outlinewidth\":0,\"ticks\":\"\"}},\"colorscale\":{\"diverging\":[[0,\"#8e0152\"],[0.1,\"#c51b7d\"],[0.2,\"#de77ae\"],[0.3,\"#f1b6da\"],[0.4,\"#fde0ef\"],[0.5,\"#f7f7f7\"],[0.6,\"#e6f5d0\"],[0.7,\"#b8e186\"],[0.8,\"#7fbc41\"],[0.9,\"#4d9221\"],[1,\"#276419\"]],\"sequential\":[[0.0,\"#0d0887\"],[0.1111111111111111,\"#46039f\"],[0.2222222222222222,\"#7201a8\"],[0.3333333333333333,\"#9c179e\"],[0.4444444444444444,\"#bd3786\"],[0.5555555555555556,\"#d8576b\"],[0.6666666666666666,\"#ed7953\"],[0.7777777777777778,\"#fb9f3a\"],[0.8888888888888888,\"#fdca26\"],[1.0,\"#f0f921\"]],\"sequentialminus\":[[0.0,\"#0d0887\"],[0.1111111111111111,\"#46039f\"],[0.2222222222222222,\"#7201a8\"],[0.3333333333333333,\"#9c179e\"],[0.4444444444444444,\"#bd3786\"],[0.5555555555555556,\"#d8576b\"],[0.6666666666666666,\"#ed7953\"],[0.7777777777777778,\"#fb9f3a\"],[0.8888888888888888,\"#fdca26\"],[1.0,\"#f0f921\"]]},\"colorway\":[\"#636efa\",\"#EF553B\",\"#00cc96\",\"#ab63fa\",\"#FFA15A\",\"#19d3f3\",\"#FF6692\",\"#B6E880\",\"#FF97FF\",\"#FECB52\"],\"font\":{\"color\":\"#2a3f5f\"},\"geo\":{\"bgcolor\":\"white\",\"lakecolor\":\"white\",\"landcolor\":\"#E5ECF6\",\"showlakes\":true,\"showland\":true,\"subunitcolor\":\"white\"},\"hoverlabel\":{\"align\":\"left\"},\"hovermode\":\"closest\",\"mapbox\":{\"style\":\"light\"},\"paper_bgcolor\":\"white\",\"plot_bgcolor\":\"#E5ECF6\",\"polar\":{\"angularaxis\":{\"gridcolor\":\"white\",\"linecolor\":\"white\",\"ticks\":\"\"},\"bgcolor\":\"#E5ECF6\",\"radialaxis\":{\"gridcolor\":\"white\",\"linecolor\":\"white\",\"ticks\":\"\"}},\"scene\":{\"xaxis\":{\"backgroundcolor\":\"#E5ECF6\",\"gridcolor\":\"white\",\"gridwidth\":2,\"linecolor\":\"white\",\"showbackground\":true,\"ticks\":\"\",\"zerolinecolor\":\"white\"},\"yaxis\":{\"backgroundcolor\":\"#E5ECF6\",\"gridcolor\":\"white\",\"gridwidth\":2,\"linecolor\":\"white\",\"showbackground\":true,\"ticks\":\"\",\"zerolinecolor\":\"white\"},\"zaxis\":{\"backgroundcolor\":\"#E5ECF6\",\"gridcolor\":\"white\",\"gridwidth\":2,\"linecolor\":\"white\",\"showbackground\":true,\"ticks\":\"\",\"zerolinecolor\":\"white\"}},\"shapedefaults\":{\"line\":{\"color\":\"#2a3f5f\"}},\"ternary\":{\"aaxis\":{\"gridcolor\":\"white\",\"linecolor\":\"white\",\"ticks\":\"\"},\"baxis\":{\"gridcolor\":\"white\",\"linecolor\":\"white\",\"ticks\":\"\"},\"bgcolor\":\"#E5ECF6\",\"caxis\":{\"gridcolor\":\"white\",\"linecolor\":\"white\",\"ticks\":\"\"}},\"title\":{\"x\":0.05},\"xaxis\":{\"automargin\":true,\"gridcolor\":\"white\",\"linecolor\":\"white\",\"ticks\":\"\",\"title\":{\"standoff\":15},\"zerolinecolor\":\"white\",\"zerolinewidth\":2},\"yaxis\":{\"automargin\":true,\"gridcolor\":\"white\",\"linecolor\":\"white\",\"ticks\":\"\",\"title\":{\"standoff\":15},\"zerolinecolor\":\"white\",\"zerolinewidth\":2}}}},                        {\"responsive\": true}                    ).then(function(){\n",
       "                            \n",
       "var gd = document.getElementById('7869c6f3-b463-4cbf-aec5-3536fda6a118');\n",
       "var x = new MutationObserver(function (mutations, observer) {{\n",
       "        var display = window.getComputedStyle(gd).display;\n",
       "        if (!display || display === 'none') {{\n",
       "            console.log([gd, 'removed!']);\n",
       "            Plotly.purge(gd);\n",
       "            observer.disconnect();\n",
       "        }}\n",
       "}});\n",
       "\n",
       "// Listen for the removal of the full notebook cells\n",
       "var notebookContainer = gd.closest('#notebook-container');\n",
       "if (notebookContainer) {{\n",
       "    x.observe(notebookContainer, {childList: true});\n",
       "}}\n",
       "\n",
       "// Listen for the clearing of the current output cell\n",
       "var outputEl = gd.closest('.output');\n",
       "if (outputEl) {{\n",
       "    x.observe(outputEl, {childList: true});\n",
       "}}\n",
       "\n",
       "                        })                };                });            </script>        </div>"
      ]
     },
     "metadata": {},
     "output_type": "display_data"
    }
   ],
   "source": [
    "import plotly.graph_objs as go\n",
    "from plotly.offline import iplot\n",
    "\n",
    "label = resort['country'].value_counts().index\n",
    "value = resort['country'].value_counts()\n",
    "\n",
    "iplot([go.Pie(labels=label,values=value,hoverinfo='label+percent',textinfo='value')])"
   ]
  },
  {
   "cell_type": "code",
   "execution_count": 16,
   "id": "e1b10079",
   "metadata": {
    "execution": {
     "iopub.execute_input": "2021-10-06T11:07:55.641762Z",
     "iopub.status.busy": "2021-10-06T11:07:55.641068Z",
     "iopub.status.idle": "2021-10-06T11:07:55.693866Z",
     "shell.execute_reply": "2021-10-06T11:07:55.693302Z",
     "shell.execute_reply.started": "2021-10-06T10:16:50.121909Z"
    },
    "papermill": {
     "duration": 0.113131,
     "end_time": "2021-10-06T11:07:55.694023",
     "exception": false,
     "start_time": "2021-10-06T11:07:55.580892",
     "status": "completed"
    },
    "tags": []
   },
   "outputs": [
    {
     "data": {
      "text/html": [
       "<div>\n",
       "<style scoped>\n",
       "    .dataframe tbody tr th:only-of-type {\n",
       "        vertical-align: middle;\n",
       "    }\n",
       "\n",
       "    .dataframe tbody tr th {\n",
       "        vertical-align: top;\n",
       "    }\n",
       "\n",
       "    .dataframe thead th {\n",
       "        text-align: right;\n",
       "    }\n",
       "</style>\n",
       "<table border=\"1\" class=\"dataframe\">\n",
       "  <thead>\n",
       "    <tr style=\"text-align: right;\">\n",
       "      <th></th>\n",
       "      <th>Country</th>\n",
       "      <th>No.of Guests</th>\n",
       "    </tr>\n",
       "  </thead>\n",
       "  <tbody>\n",
       "    <tr>\n",
       "      <th>0</th>\n",
       "      <td>PRT</td>\n",
       "      <td>21492</td>\n",
       "    </tr>\n",
       "    <tr>\n",
       "      <th>1</th>\n",
       "      <td>GBR</td>\n",
       "      <td>9676</td>\n",
       "    </tr>\n",
       "    <tr>\n",
       "      <th>2</th>\n",
       "      <td>FRA</td>\n",
       "      <td>8481</td>\n",
       "    </tr>\n",
       "    <tr>\n",
       "      <th>3</th>\n",
       "      <td>ESP</td>\n",
       "      <td>6391</td>\n",
       "    </tr>\n",
       "    <tr>\n",
       "      <th>4</th>\n",
       "      <td>DEU</td>\n",
       "      <td>6069</td>\n",
       "    </tr>\n",
       "    <tr>\n",
       "      <th>...</th>\n",
       "      <td>...</td>\n",
       "      <td>...</td>\n",
       "    </tr>\n",
       "    <tr>\n",
       "      <th>160</th>\n",
       "      <td>BHR</td>\n",
       "      <td>1</td>\n",
       "    </tr>\n",
       "    <tr>\n",
       "      <th>161</th>\n",
       "      <td>DJI</td>\n",
       "      <td>1</td>\n",
       "    </tr>\n",
       "    <tr>\n",
       "      <th>162</th>\n",
       "      <td>MLI</td>\n",
       "      <td>1</td>\n",
       "    </tr>\n",
       "    <tr>\n",
       "      <th>163</th>\n",
       "      <td>NPL</td>\n",
       "      <td>1</td>\n",
       "    </tr>\n",
       "    <tr>\n",
       "      <th>164</th>\n",
       "      <td>FRO</td>\n",
       "      <td>1</td>\n",
       "    </tr>\n",
       "  </tbody>\n",
       "</table>\n",
       "<p>165 rows × 2 columns</p>\n",
       "</div>"
      ],
      "text/plain": [
       "    Country  No.of Guests\n",
       "0       PRT         21492\n",
       "1       GBR          9676\n",
       "2       FRA          8481\n",
       "3       ESP          6391\n",
       "4       DEU          6069\n",
       "..      ...           ...\n",
       "160     BHR             1\n",
       "161     DJI             1\n",
       "162     MLI             1\n",
       "163     NPL             1\n",
       "164     FRO             1\n",
       "\n",
       "[165 rows x 2 columns]"
      ]
     },
     "execution_count": 16,
     "metadata": {},
     "output_type": "execute_result"
    }
   ],
   "source": [
    "data_country = df[df['is_canceled']==0]['country'].value_counts().reset_index()\n",
    "data_country.columns = ['Country','No.of Guests']\n",
    "data_country"
   ]
  },
  {
   "cell_type": "code",
   "execution_count": 17,
   "id": "e87a9742",
   "metadata": {
    "execution": {
     "iopub.execute_input": "2021-10-06T11:07:55.820072Z",
     "iopub.status.busy": "2021-10-06T11:07:55.819336Z",
     "iopub.status.idle": "2021-10-06T11:07:56.009971Z",
     "shell.execute_reply": "2021-10-06T11:07:56.010607Z",
     "shell.execute_reply.started": "2021-10-06T10:16:50.166648Z"
    },
    "papermill": {
     "duration": 0.259141,
     "end_time": "2021-10-06T11:07:56.010801",
     "exception": false,
     "start_time": "2021-10-06T11:07:55.751660",
     "status": "completed"
    },
    "tags": []
   },
   "outputs": [
    {
     "data": {
      "text/html": [
       "<div>                            <div id=\"4f7409fb-c044-4b92-ac68-fdd89742f033\" class=\"plotly-graph-div\" style=\"height:525px; width:100%;\"></div>            <script type=\"text/javascript\">                require([\"plotly\"], function(Plotly) {                    window.PLOTLYENV=window.PLOTLYENV || {};                                    if (document.getElementById(\"4f7409fb-c044-4b92-ac68-fdd89742f033\")) {                    Plotly.newPlot(                        \"4f7409fb-c044-4b92-ac68-fdd89742f033\",                        [{\"coloraxis\":\"coloraxis\",\"geo\":\"geo\",\"hovertemplate\":\"<b>%{hovertext}</b><br><br>Country=%{location}<br>No.of Guests=%{z}<extra></extra>\",\"hovertext\":[\"PRT\",\"GBR\",\"FRA\",\"ESP\",\"DEU\",\"IRL\",\"ITA\",\"BEL\",\"NLD\",\"USA\",\"BRA\",\"CHE\",\"AUT\",\"CN\",\"SWE\",\"POL\",\"CHN\",\"ISR\",\"NOR\",\"RUS\",\"FIN\",\"ROU\",\"DNK\",\"AUS\",\"LUX\",\"JPN\",\"ARG\",\"AGO\",\"HUN\",\"MAR\",\"TUR\",\"CZE\",\"IND\",\"SRB\",\"GRC\",\"DZA\",\"KOR\",\"MEX\",\"HRV\",\"LTU\",\"NZL\",\"EST\",\"BGR\",\"IRN\",\"ISL\",\"ZAF\",\"CHL\",\"COL\",\"UKR\",\"MOZ\",\"LVA\",\"SVN\",\"SVK\",\"THA\",\"CYP\",\"TWN\",\"MYS\",\"URY\",\"PER\",\"SGP\",\"LBN\",\"EGY\",\"TUN\",\"ECU\",\"JOR\",\"CRI\",\"BLR\",\"PHL\",\"SAU\",\"OMN\",\"IRQ\",\"VEN\",\"KAZ\",\"NGA\",\"MLT\",\"CPV\",\"IDN\",\"CMR\",\"BIH\",\"PRI\",\"ALB\",\"KWT\",\"BOL\",\"PAN\",\"ARE\",\"GNB\",\"MKD\",\"LBY\",\"CUB\",\"AZE\",\"GEO\",\"GIB\",\"LKA\",\"VNM\",\"MUS\",\"ARM\",\"JAM\",\"DOM\",\"CAF\",\"SUR\",\"PAK\",\"GTM\",\"KEN\",\"BRB\",\"CIV\",\"PRY\",\"QAT\",\"SYR\",\"MCO\",\"SEN\",\"HKG\",\"BGD\",\"MNE\",\"MDV\",\"ABW\",\"RWA\",\"SLV\",\"TZA\",\"GAB\",\"TMP\",\"GHA\",\"ATA\",\"LIE\",\"LAO\",\"MWI\",\"ETH\",\"TGO\",\"ZWE\",\"COM\",\"AND\",\"UZB\",\"UGA\",\"STP\",\"KNA\",\"MAC\",\"MRT\",\"BWA\",\"SMR\",\"ZMB\",\"ASM\",\"NCL\",\"GUY\",\"KIR\",\"SDN\",\"ATF\",\"TJK\",\"SLE\",\"CYM\",\"LCA\",\"PYF\",\"BHS\",\"DMA\",\"MMR\",\"AIA\",\"BDI\",\"BFA\",\"PLW\",\"SYC\",\"MDG\",\"NAM\",\"BHR\",\"DJI\",\"MLI\",\"NPL\",\"FRO\"],\"locations\":[\"PRT\",\"GBR\",\"FRA\",\"ESP\",\"DEU\",\"IRL\",\"ITA\",\"BEL\",\"NLD\",\"USA\",\"BRA\",\"CHE\",\"AUT\",\"CN\",\"SWE\",\"POL\",\"CHN\",\"ISR\",\"NOR\",\"RUS\",\"FIN\",\"ROU\",\"DNK\",\"AUS\",\"LUX\",\"JPN\",\"ARG\",\"AGO\",\"HUN\",\"MAR\",\"TUR\",\"CZE\",\"IND\",\"SRB\",\"GRC\",\"DZA\",\"KOR\",\"MEX\",\"HRV\",\"LTU\",\"NZL\",\"EST\",\"BGR\",\"IRN\",\"ISL\",\"ZAF\",\"CHL\",\"COL\",\"UKR\",\"MOZ\",\"LVA\",\"SVN\",\"SVK\",\"THA\",\"CYP\",\"TWN\",\"MYS\",\"URY\",\"PER\",\"SGP\",\"LBN\",\"EGY\",\"TUN\",\"ECU\",\"JOR\",\"CRI\",\"BLR\",\"PHL\",\"SAU\",\"OMN\",\"IRQ\",\"VEN\",\"KAZ\",\"NGA\",\"MLT\",\"CPV\",\"IDN\",\"CMR\",\"BIH\",\"PRI\",\"ALB\",\"KWT\",\"BOL\",\"PAN\",\"ARE\",\"GNB\",\"MKD\",\"LBY\",\"CUB\",\"AZE\",\"GEO\",\"GIB\",\"LKA\",\"VNM\",\"MUS\",\"ARM\",\"JAM\",\"DOM\",\"CAF\",\"SUR\",\"PAK\",\"GTM\",\"KEN\",\"BRB\",\"CIV\",\"PRY\",\"QAT\",\"SYR\",\"MCO\",\"SEN\",\"HKG\",\"BGD\",\"MNE\",\"MDV\",\"ABW\",\"RWA\",\"SLV\",\"TZA\",\"GAB\",\"TMP\",\"GHA\",\"ATA\",\"LIE\",\"LAO\",\"MWI\",\"ETH\",\"TGO\",\"ZWE\",\"COM\",\"AND\",\"UZB\",\"UGA\",\"STP\",\"KNA\",\"MAC\",\"MRT\",\"BWA\",\"SMR\",\"ZMB\",\"ASM\",\"NCL\",\"GUY\",\"KIR\",\"SDN\",\"ATF\",\"TJK\",\"SLE\",\"CYM\",\"LCA\",\"PYF\",\"BHS\",\"DMA\",\"MMR\",\"AIA\",\"BDI\",\"BFA\",\"PLW\",\"SYC\",\"MDG\",\"NAM\",\"BHR\",\"DJI\",\"MLI\",\"NPL\",\"FRO\"],\"name\":\"\",\"type\":\"choropleth\",\"z\":[21492,9676,8481,6391,6069,2543,2433,1868,1717,1596,1394,1302,1033,1025,797,704,537,500,426,393,378,366,326,319,178,169,160,157,153,150,146,134,117,98,93,82,78,75,75,74,68,65,63,60,53,49,49,48,48,48,46,42,41,41,40,37,25,23,23,23,22,21,20,19,18,18,17,15,15,14,14,14,14,13,13,12,11,10,10,10,10,10,10,9,8,8,8,8,8,8,7,7,7,6,6,6,6,6,5,5,5,4,4,4,4,4,4,3,3,3,3,3,3,3,2,2,2,2,2,2,2,2,2,2,2,2,2,2,2,2,2,2,2,2,1,1,1,1,1,1,1,1,1,1,1,1,1,1,1,1,1,1,1,1,1,1,1,1,1,1,1,1,1,1,1]}],                        {\"coloraxis\":{\"colorbar\":{\"title\":{\"text\":\"No.of Guests\"}},\"colorscale\":[[0.0,\"#0d0887\"],[0.1111111111111111,\"#46039f\"],[0.2222222222222222,\"#7201a8\"],[0.3333333333333333,\"#9c179e\"],[0.4444444444444444,\"#bd3786\"],[0.5555555555555556,\"#d8576b\"],[0.6666666666666666,\"#ed7953\"],[0.7777777777777778,\"#fb9f3a\"],[0.8888888888888888,\"#fdca26\"],[1.0,\"#f0f921\"]]},\"geo\":{\"center\":{},\"domain\":{\"x\":[0.0,1.0],\"y\":[0.0,1.0]}},\"legend\":{\"tracegroupgap\":0},\"template\":{\"data\":{\"bar\":[{\"error_x\":{\"color\":\"#2a3f5f\"},\"error_y\":{\"color\":\"#2a3f5f\"},\"marker\":{\"line\":{\"color\":\"#E5ECF6\",\"width\":0.5},\"pattern\":{\"fillmode\":\"overlay\",\"size\":10,\"solidity\":0.2}},\"type\":\"bar\"}],\"barpolar\":[{\"marker\":{\"line\":{\"color\":\"#E5ECF6\",\"width\":0.5},\"pattern\":{\"fillmode\":\"overlay\",\"size\":10,\"solidity\":0.2}},\"type\":\"barpolar\"}],\"carpet\":[{\"aaxis\":{\"endlinecolor\":\"#2a3f5f\",\"gridcolor\":\"white\",\"linecolor\":\"white\",\"minorgridcolor\":\"white\",\"startlinecolor\":\"#2a3f5f\"},\"baxis\":{\"endlinecolor\":\"#2a3f5f\",\"gridcolor\":\"white\",\"linecolor\":\"white\",\"minorgridcolor\":\"white\",\"startlinecolor\":\"#2a3f5f\"},\"type\":\"carpet\"}],\"choropleth\":[{\"colorbar\":{\"outlinewidth\":0,\"ticks\":\"\"},\"type\":\"choropleth\"}],\"contour\":[{\"colorbar\":{\"outlinewidth\":0,\"ticks\":\"\"},\"colorscale\":[[0.0,\"#0d0887\"],[0.1111111111111111,\"#46039f\"],[0.2222222222222222,\"#7201a8\"],[0.3333333333333333,\"#9c179e\"],[0.4444444444444444,\"#bd3786\"],[0.5555555555555556,\"#d8576b\"],[0.6666666666666666,\"#ed7953\"],[0.7777777777777778,\"#fb9f3a\"],[0.8888888888888888,\"#fdca26\"],[1.0,\"#f0f921\"]],\"type\":\"contour\"}],\"contourcarpet\":[{\"colorbar\":{\"outlinewidth\":0,\"ticks\":\"\"},\"type\":\"contourcarpet\"}],\"heatmap\":[{\"colorbar\":{\"outlinewidth\":0,\"ticks\":\"\"},\"colorscale\":[[0.0,\"#0d0887\"],[0.1111111111111111,\"#46039f\"],[0.2222222222222222,\"#7201a8\"],[0.3333333333333333,\"#9c179e\"],[0.4444444444444444,\"#bd3786\"],[0.5555555555555556,\"#d8576b\"],[0.6666666666666666,\"#ed7953\"],[0.7777777777777778,\"#fb9f3a\"],[0.8888888888888888,\"#fdca26\"],[1.0,\"#f0f921\"]],\"type\":\"heatmap\"}],\"heatmapgl\":[{\"colorbar\":{\"outlinewidth\":0,\"ticks\":\"\"},\"colorscale\":[[0.0,\"#0d0887\"],[0.1111111111111111,\"#46039f\"],[0.2222222222222222,\"#7201a8\"],[0.3333333333333333,\"#9c179e\"],[0.4444444444444444,\"#bd3786\"],[0.5555555555555556,\"#d8576b\"],[0.6666666666666666,\"#ed7953\"],[0.7777777777777778,\"#fb9f3a\"],[0.8888888888888888,\"#fdca26\"],[1.0,\"#f0f921\"]],\"type\":\"heatmapgl\"}],\"histogram\":[{\"marker\":{\"pattern\":{\"fillmode\":\"overlay\",\"size\":10,\"solidity\":0.2}},\"type\":\"histogram\"}],\"histogram2d\":[{\"colorbar\":{\"outlinewidth\":0,\"ticks\":\"\"},\"colorscale\":[[0.0,\"#0d0887\"],[0.1111111111111111,\"#46039f\"],[0.2222222222222222,\"#7201a8\"],[0.3333333333333333,\"#9c179e\"],[0.4444444444444444,\"#bd3786\"],[0.5555555555555556,\"#d8576b\"],[0.6666666666666666,\"#ed7953\"],[0.7777777777777778,\"#fb9f3a\"],[0.8888888888888888,\"#fdca26\"],[1.0,\"#f0f921\"]],\"type\":\"histogram2d\"}],\"histogram2dcontour\":[{\"colorbar\":{\"outlinewidth\":0,\"ticks\":\"\"},\"colorscale\":[[0.0,\"#0d0887\"],[0.1111111111111111,\"#46039f\"],[0.2222222222222222,\"#7201a8\"],[0.3333333333333333,\"#9c179e\"],[0.4444444444444444,\"#bd3786\"],[0.5555555555555556,\"#d8576b\"],[0.6666666666666666,\"#ed7953\"],[0.7777777777777778,\"#fb9f3a\"],[0.8888888888888888,\"#fdca26\"],[1.0,\"#f0f921\"]],\"type\":\"histogram2dcontour\"}],\"mesh3d\":[{\"colorbar\":{\"outlinewidth\":0,\"ticks\":\"\"},\"type\":\"mesh3d\"}],\"parcoords\":[{\"line\":{\"colorbar\":{\"outlinewidth\":0,\"ticks\":\"\"}},\"type\":\"parcoords\"}],\"pie\":[{\"automargin\":true,\"type\":\"pie\"}],\"scatter\":[{\"marker\":{\"colorbar\":{\"outlinewidth\":0,\"ticks\":\"\"}},\"type\":\"scatter\"}],\"scatter3d\":[{\"line\":{\"colorbar\":{\"outlinewidth\":0,\"ticks\":\"\"}},\"marker\":{\"colorbar\":{\"outlinewidth\":0,\"ticks\":\"\"}},\"type\":\"scatter3d\"}],\"scattercarpet\":[{\"marker\":{\"colorbar\":{\"outlinewidth\":0,\"ticks\":\"\"}},\"type\":\"scattercarpet\"}],\"scattergeo\":[{\"marker\":{\"colorbar\":{\"outlinewidth\":0,\"ticks\":\"\"}},\"type\":\"scattergeo\"}],\"scattergl\":[{\"marker\":{\"colorbar\":{\"outlinewidth\":0,\"ticks\":\"\"}},\"type\":\"scattergl\"}],\"scattermapbox\":[{\"marker\":{\"colorbar\":{\"outlinewidth\":0,\"ticks\":\"\"}},\"type\":\"scattermapbox\"}],\"scatterpolar\":[{\"marker\":{\"colorbar\":{\"outlinewidth\":0,\"ticks\":\"\"}},\"type\":\"scatterpolar\"}],\"scatterpolargl\":[{\"marker\":{\"colorbar\":{\"outlinewidth\":0,\"ticks\":\"\"}},\"type\":\"scatterpolargl\"}],\"scatterternary\":[{\"marker\":{\"colorbar\":{\"outlinewidth\":0,\"ticks\":\"\"}},\"type\":\"scatterternary\"}],\"surface\":[{\"colorbar\":{\"outlinewidth\":0,\"ticks\":\"\"},\"colorscale\":[[0.0,\"#0d0887\"],[0.1111111111111111,\"#46039f\"],[0.2222222222222222,\"#7201a8\"],[0.3333333333333333,\"#9c179e\"],[0.4444444444444444,\"#bd3786\"],[0.5555555555555556,\"#d8576b\"],[0.6666666666666666,\"#ed7953\"],[0.7777777777777778,\"#fb9f3a\"],[0.8888888888888888,\"#fdca26\"],[1.0,\"#f0f921\"]],\"type\":\"surface\"}],\"table\":[{\"cells\":{\"fill\":{\"color\":\"#EBF0F8\"},\"line\":{\"color\":\"white\"}},\"header\":{\"fill\":{\"color\":\"#C8D4E3\"},\"line\":{\"color\":\"white\"}},\"type\":\"table\"}]},\"layout\":{\"annotationdefaults\":{\"arrowcolor\":\"#2a3f5f\",\"arrowhead\":0,\"arrowwidth\":1},\"autotypenumbers\":\"strict\",\"coloraxis\":{\"colorbar\":{\"outlinewidth\":0,\"ticks\":\"\"}},\"colorscale\":{\"diverging\":[[0,\"#8e0152\"],[0.1,\"#c51b7d\"],[0.2,\"#de77ae\"],[0.3,\"#f1b6da\"],[0.4,\"#fde0ef\"],[0.5,\"#f7f7f7\"],[0.6,\"#e6f5d0\"],[0.7,\"#b8e186\"],[0.8,\"#7fbc41\"],[0.9,\"#4d9221\"],[1,\"#276419\"]],\"sequential\":[[0.0,\"#0d0887\"],[0.1111111111111111,\"#46039f\"],[0.2222222222222222,\"#7201a8\"],[0.3333333333333333,\"#9c179e\"],[0.4444444444444444,\"#bd3786\"],[0.5555555555555556,\"#d8576b\"],[0.6666666666666666,\"#ed7953\"],[0.7777777777777778,\"#fb9f3a\"],[0.8888888888888888,\"#fdca26\"],[1.0,\"#f0f921\"]],\"sequentialminus\":[[0.0,\"#0d0887\"],[0.1111111111111111,\"#46039f\"],[0.2222222222222222,\"#7201a8\"],[0.3333333333333333,\"#9c179e\"],[0.4444444444444444,\"#bd3786\"],[0.5555555555555556,\"#d8576b\"],[0.6666666666666666,\"#ed7953\"],[0.7777777777777778,\"#fb9f3a\"],[0.8888888888888888,\"#fdca26\"],[1.0,\"#f0f921\"]]},\"colorway\":[\"#636efa\",\"#EF553B\",\"#00cc96\",\"#ab63fa\",\"#FFA15A\",\"#19d3f3\",\"#FF6692\",\"#B6E880\",\"#FF97FF\",\"#FECB52\"],\"font\":{\"color\":\"#2a3f5f\"},\"geo\":{\"bgcolor\":\"white\",\"lakecolor\":\"white\",\"landcolor\":\"#E5ECF6\",\"showlakes\":true,\"showland\":true,\"subunitcolor\":\"white\"},\"hoverlabel\":{\"align\":\"left\"},\"hovermode\":\"closest\",\"mapbox\":{\"style\":\"light\"},\"paper_bgcolor\":\"white\",\"plot_bgcolor\":\"#E5ECF6\",\"polar\":{\"angularaxis\":{\"gridcolor\":\"white\",\"linecolor\":\"white\",\"ticks\":\"\"},\"bgcolor\":\"#E5ECF6\",\"radialaxis\":{\"gridcolor\":\"white\",\"linecolor\":\"white\",\"ticks\":\"\"}},\"scene\":{\"xaxis\":{\"backgroundcolor\":\"#E5ECF6\",\"gridcolor\":\"white\",\"gridwidth\":2,\"linecolor\":\"white\",\"showbackground\":true,\"ticks\":\"\",\"zerolinecolor\":\"white\"},\"yaxis\":{\"backgroundcolor\":\"#E5ECF6\",\"gridcolor\":\"white\",\"gridwidth\":2,\"linecolor\":\"white\",\"showbackground\":true,\"ticks\":\"\",\"zerolinecolor\":\"white\"},\"zaxis\":{\"backgroundcolor\":\"#E5ECF6\",\"gridcolor\":\"white\",\"gridwidth\":2,\"linecolor\":\"white\",\"showbackground\":true,\"ticks\":\"\",\"zerolinecolor\":\"white\"}},\"shapedefaults\":{\"line\":{\"color\":\"#2a3f5f\"}},\"ternary\":{\"aaxis\":{\"gridcolor\":\"white\",\"linecolor\":\"white\",\"ticks\":\"\"},\"baxis\":{\"gridcolor\":\"white\",\"linecolor\":\"white\",\"ticks\":\"\"},\"bgcolor\":\"#E5ECF6\",\"caxis\":{\"gridcolor\":\"white\",\"linecolor\":\"white\",\"ticks\":\"\"}},\"title\":{\"x\":0.05},\"xaxis\":{\"automargin\":true,\"gridcolor\":\"white\",\"linecolor\":\"white\",\"ticks\":\"\",\"title\":{\"standoff\":15},\"zerolinecolor\":\"white\",\"zerolinewidth\":2},\"yaxis\":{\"automargin\":true,\"gridcolor\":\"white\",\"linecolor\":\"white\",\"ticks\":\"\",\"title\":{\"standoff\":15},\"zerolinecolor\":\"white\",\"zerolinewidth\":2}}},\"title\":{\"text\":\"Home Country of Guests\"}},                        {\"responsive\": true}                    ).then(function(){\n",
       "                            \n",
       "var gd = document.getElementById('4f7409fb-c044-4b92-ac68-fdd89742f033');\n",
       "var x = new MutationObserver(function (mutations, observer) {{\n",
       "        var display = window.getComputedStyle(gd).display;\n",
       "        if (!display || display === 'none') {{\n",
       "            console.log([gd, 'removed!']);\n",
       "            Plotly.purge(gd);\n",
       "            observer.disconnect();\n",
       "        }}\n",
       "}});\n",
       "\n",
       "// Listen for the removal of the full notebook cells\n",
       "var notebookContainer = gd.closest('#notebook-container');\n",
       "if (notebookContainer) {{\n",
       "    x.observe(notebookContainer, {childList: true});\n",
       "}}\n",
       "\n",
       "// Listen for the clearing of the current output cell\n",
       "var outputEl = gd.closest('.output');\n",
       "if (outputEl) {{\n",
       "    x.observe(outputEl, {childList: true});\n",
       "}}\n",
       "\n",
       "                        })                };                });            </script>        </div>"
      ]
     },
     "metadata": {},
     "output_type": "display_data"
    }
   ],
   "source": [
    "px.choropleth(data_country,locations=data_country['Country'],color=data_country['No.of Guests'],hover_name=data_country['Country'],title='Home Country of Guests')"
   ]
  },
  {
   "cell_type": "markdown",
   "id": "47857e03",
   "metadata": {
    "papermill": {
     "duration": 0.056592,
     "end_time": "2021-10-06T11:07:56.126326",
     "exception": false,
     "start_time": "2021-10-06T11:07:56.069734",
     "status": "completed"
    },
    "tags": []
   },
   "source": [
    "## How much do guests pay for a room per night?"
   ]
  },
  {
   "cell_type": "markdown",
   "id": "21f60918",
   "metadata": {
    "papermill": {
     "duration": 0.057966,
     "end_time": "2021-10-06T11:07:56.241438",
     "exception": false,
     "start_time": "2021-10-06T11:07:56.183472",
     "status": "completed"
    },
    "tags": []
   },
   "source": [
    "#### Distribution of price of each room type"
   ]
  },
  {
   "cell_type": "code",
   "execution_count": 18,
   "id": "2777ccf0",
   "metadata": {
    "execution": {
     "iopub.execute_input": "2021-10-06T11:07:56.365223Z",
     "iopub.status.busy": "2021-10-06T11:07:56.364005Z",
     "iopub.status.idle": "2021-10-06T11:07:57.039031Z",
     "shell.execute_reply": "2021-10-06T11:07:57.039560Z",
     "shell.execute_reply.started": "2021-10-06T10:16:50.344153Z"
    },
    "papermill": {
     "duration": 0.740189,
     "end_time": "2021-10-06T11:07:57.039740",
     "exception": false,
     "start_time": "2021-10-06T11:07:56.299551",
     "status": "completed"
    },
    "tags": []
   },
   "outputs": [
    {
     "data": {
      "image/png": "[encoded data removed]",
      "text/plain": [
       "<Figure size 1080x720 with 1 Axes>"
      ]
     },
     "metadata": {
      "needs_background": "light"
     },
     "output_type": "display_data"
    }
   ],
   "source": [
    "plt.figure(figsize=(15,10))\n",
    "sns.boxplot(data=df[df['is_canceled'] == 0],x='reserved_room_type',y='adr',hue='hotel')\n",
    "plt.title('Price Of Room Types Per Night')\n",
    "plt.xlabel('Type Of Room')\n",
    "plt.ylabel('Price Per Night')\n",
    "plt.show()"
   ]
  },
  {
   "cell_type": "markdown",
   "id": "27ee60ad",
   "metadata": {
    "papermill": {
     "duration": 0.058444,
     "end_time": "2021-10-06T11:07:57.156745",
     "exception": false,
     "start_time": "2021-10-06T11:07:57.098301",
     "status": "completed"
    },
    "tags": []
   },
   "source": [
    "\n",
    "## How does the price of room per night vary over the year?"
   ]
  },
  {
   "cell_type": "code",
   "execution_count": 19,
   "id": "3d69c653",
   "metadata": {
    "execution": {
     "iopub.execute_input": "2021-10-06T11:07:57.281877Z",
     "iopub.status.busy": "2021-10-06T11:07:57.281195Z",
     "iopub.status.idle": "2021-10-06T11:07:57.284704Z",
     "shell.execute_reply": "2021-10-06T11:07:57.284091Z",
     "shell.execute_reply.started": "2021-10-06T10:16:50.940068Z"
    },
    "papermill": {
     "duration": 0.069019,
     "end_time": "2021-10-06T11:07:57.284886",
     "exception": false,
     "start_time": "2021-10-06T11:07:57.215867",
     "status": "completed"
    },
    "tags": []
   },
   "outputs": [],
   "source": [
    "def data(df):\n",
    "    data = df[df['is_canceled']==0].groupby('arrival_date_month')['adr'].mean().reset_index()\n",
    "    return data"
   ]
  },
  {
   "cell_type": "code",
   "execution_count": 20,
   "id": "0dd54b5b",
   "metadata": {
    "execution": {
     "iopub.execute_input": "2021-10-06T11:07:57.408919Z",
     "iopub.status.busy": "2021-10-06T11:07:57.408265Z",
     "iopub.status.idle": "2021-10-06T11:07:57.426200Z",
     "shell.execute_reply": "2021-10-06T11:07:57.425546Z",
     "shell.execute_reply.started": "2021-10-06T10:16:50.945685Z"
    },
    "papermill": {
     "duration": 0.080808,
     "end_time": "2021-10-06T11:07:57.426351",
     "exception": false,
     "start_time": "2021-10-06T11:07:57.345543",
     "status": "completed"
    },
    "tags": []
   },
   "outputs": [],
   "source": [
    "data2 = data(resort)"
   ]
  },
  {
   "cell_type": "code",
   "execution_count": 21,
   "id": "a7718e07",
   "metadata": {
    "execution": {
     "iopub.execute_input": "2021-10-06T11:07:57.549767Z",
     "iopub.status.busy": "2021-10-06T11:07:57.549088Z",
     "iopub.status.idle": "2021-10-06T11:07:57.582308Z",
     "shell.execute_reply": "2021-10-06T11:07:57.581748Z",
     "shell.execute_reply.started": "2021-10-06T10:16:50.968149Z"
    },
    "papermill": {
     "duration": 0.097487,
     "end_time": "2021-10-06T11:07:57.582478",
     "exception": false,
     "start_time": "2021-10-06T11:07:57.484991",
     "status": "completed"
    },
    "tags": []
   },
   "outputs": [
    {
     "data": {
      "text/html": [
       "<div>\n",
       "<style scoped>\n",
       "    .dataframe tbody tr th:only-of-type {\n",
       "        vertical-align: middle;\n",
       "    }\n",
       "\n",
       "    .dataframe tbody tr th {\n",
       "        vertical-align: top;\n",
       "    }\n",
       "\n",
       "    .dataframe thead th {\n",
       "        text-align: right;\n",
       "    }\n",
       "</style>\n",
       "<table border=\"1\" class=\"dataframe\">\n",
       "  <thead>\n",
       "    <tr style=\"text-align: right;\">\n",
       "      <th></th>\n",
       "      <th>arrival_date_month</th>\n",
       "      <th>adr_x</th>\n",
       "      <th>adr_y</th>\n",
       "    </tr>\n",
       "  </thead>\n",
       "  <tbody>\n",
       "    <tr>\n",
       "      <th>0</th>\n",
       "      <td>April</td>\n",
       "      <td>75.867816</td>\n",
       "      <td>111.856824</td>\n",
       "    </tr>\n",
       "    <tr>\n",
       "      <th>1</th>\n",
       "      <td>August</td>\n",
       "      <td>181.205892</td>\n",
       "      <td>118.412083</td>\n",
       "    </tr>\n",
       "    <tr>\n",
       "      <th>2</th>\n",
       "      <td>December</td>\n",
       "      <td>68.322236</td>\n",
       "      <td>87.856764</td>\n",
       "    </tr>\n",
       "    <tr>\n",
       "      <th>3</th>\n",
       "      <td>February</td>\n",
       "      <td>54.147478</td>\n",
       "      <td>86.183025</td>\n",
       "    </tr>\n",
       "    <tr>\n",
       "      <th>4</th>\n",
       "      <td>January</td>\n",
       "      <td>48.708919</td>\n",
       "      <td>82.160634</td>\n",
       "    </tr>\n",
       "  </tbody>\n",
       "</table>\n",
       "</div>"
      ],
      "text/plain": [
       "  arrival_date_month       adr_x       adr_y\n",
       "0              April   75.867816  111.856824\n",
       "1             August  181.205892  118.412083\n",
       "2           December   68.322236   87.856764\n",
       "3           February   54.147478   86.183025\n",
       "4            January   48.708919   82.160634"
      ]
     },
     "execution_count": 21,
     "metadata": {},
     "output_type": "execute_result"
    }
   ],
   "source": [
    "data2 = data2.merge(data(city),on='arrival_date_month')\n",
    "data2.head()"
   ]
  },
  {
   "cell_type": "code",
   "execution_count": 22,
   "id": "d950865f",
   "metadata": {
    "execution": {
     "iopub.execute_input": "2021-10-06T11:07:57.713427Z",
     "iopub.status.busy": "2021-10-06T11:07:57.712493Z",
     "iopub.status.idle": "2021-10-06T11:07:57.717236Z",
     "shell.execute_reply": "2021-10-06T11:07:57.716547Z",
     "shell.execute_reply.started": "2021-10-06T10:16:50.998597Z"
    },
    "papermill": {
     "duration": 0.076082,
     "end_time": "2021-10-06T11:07:57.717420",
     "exception": false,
     "start_time": "2021-10-06T11:07:57.641338",
     "status": "completed"
    },
    "tags": []
   },
   "outputs": [
    {
     "data": {
      "text/html": [
       "<div>\n",
       "<style scoped>\n",
       "    .dataframe tbody tr th:only-of-type {\n",
       "        vertical-align: middle;\n",
       "    }\n",
       "\n",
       "    .dataframe tbody tr th {\n",
       "        vertical-align: top;\n",
       "    }\n",
       "\n",
       "    .dataframe thead th {\n",
       "        text-align: right;\n",
       "    }\n",
       "</style>\n",
       "<table border=\"1\" class=\"dataframe\">\n",
       "  <thead>\n",
       "    <tr style=\"text-align: right;\">\n",
       "      <th></th>\n",
       "      <th>month</th>\n",
       "      <th>price_for_resort</th>\n",
       "      <th>price_for_city</th>\n",
       "    </tr>\n",
       "  </thead>\n",
       "  <tbody>\n",
       "    <tr>\n",
       "      <th>0</th>\n",
       "      <td>April</td>\n",
       "      <td>75.867816</td>\n",
       "      <td>111.856824</td>\n",
       "    </tr>\n",
       "    <tr>\n",
       "      <th>1</th>\n",
       "      <td>August</td>\n",
       "      <td>181.205892</td>\n",
       "      <td>118.412083</td>\n",
       "    </tr>\n",
       "    <tr>\n",
       "      <th>2</th>\n",
       "      <td>December</td>\n",
       "      <td>68.322236</td>\n",
       "      <td>87.856764</td>\n",
       "    </tr>\n",
       "    <tr>\n",
       "      <th>3</th>\n",
       "      <td>February</td>\n",
       "      <td>54.147478</td>\n",
       "      <td>86.183025</td>\n",
       "    </tr>\n",
       "    <tr>\n",
       "      <th>4</th>\n",
       "      <td>January</td>\n",
       "      <td>48.708919</td>\n",
       "      <td>82.160634</td>\n",
       "    </tr>\n",
       "    <tr>\n",
       "      <th>5</th>\n",
       "      <td>July</td>\n",
       "      <td>150.122528</td>\n",
       "      <td>115.563810</td>\n",
       "    </tr>\n",
       "    <tr>\n",
       "      <th>6</th>\n",
       "      <td>June</td>\n",
       "      <td>107.921869</td>\n",
       "      <td>117.702075</td>\n",
       "    </tr>\n",
       "    <tr>\n",
       "      <th>7</th>\n",
       "      <td>March</td>\n",
       "      <td>57.012487</td>\n",
       "      <td>90.170722</td>\n",
       "    </tr>\n",
       "    <tr>\n",
       "      <th>8</th>\n",
       "      <td>May</td>\n",
       "      <td>76.657558</td>\n",
       "      <td>120.445842</td>\n",
       "    </tr>\n",
       "    <tr>\n",
       "      <th>9</th>\n",
       "      <td>November</td>\n",
       "      <td>48.681640</td>\n",
       "      <td>86.500456</td>\n",
       "    </tr>\n",
       "    <tr>\n",
       "      <th>10</th>\n",
       "      <td>October</td>\n",
       "      <td>61.727505</td>\n",
       "      <td>101.745956</td>\n",
       "    </tr>\n",
       "    <tr>\n",
       "      <th>11</th>\n",
       "      <td>September</td>\n",
       "      <td>96.416860</td>\n",
       "      <td>112.598452</td>\n",
       "    </tr>\n",
       "  </tbody>\n",
       "</table>\n",
       "</div>"
      ],
      "text/plain": [
       "        month  price_for_resort  price_for_city\n",
       "0       April         75.867816      111.856824\n",
       "1      August        181.205892      118.412083\n",
       "2    December         68.322236       87.856764\n",
       "3    February         54.147478       86.183025\n",
       "4     January         48.708919       82.160634\n",
       "5        July        150.122528      115.563810\n",
       "6        June        107.921869      117.702075\n",
       "7       March         57.012487       90.170722\n",
       "8         May         76.657558      120.445842\n",
       "9    November         48.681640       86.500456\n",
       "10    October         61.727505      101.745956\n",
       "11  September         96.416860      112.598452"
      ]
     },
     "execution_count": 22,
     "metadata": {},
     "output_type": "execute_result"
    }
   ],
   "source": [
    "data2.columns = ['month','price_for_resort','price_for_city']\n",
    "data2"
   ]
  },
  {
   "cell_type": "code",
   "execution_count": 23,
   "id": "3e94b188",
   "metadata": {
    "_kg_hide-input": true,
    "_kg_hide-output": true,
    "execution": {
     "iopub.execute_input": "2021-10-06T11:07:57.843216Z",
     "iopub.status.busy": "2021-10-06T11:07:57.842609Z",
     "iopub.status.idle": "2021-10-06T11:08:20.257496Z",
     "shell.execute_reply": "2021-10-06T11:08:20.256792Z",
     "shell.execute_reply.started": "2021-10-06T10:16:51.009947Z"
    },
    "papermill": {
     "duration": 22.48044,
     "end_time": "2021-10-06T11:08:20.257654",
     "exception": false,
     "start_time": "2021-10-06T11:07:57.777214",
     "status": "completed"
    },
    "tags": []
   },
   "outputs": [
    {
     "name": "stdout",
     "output_type": "stream",
     "text": [
      "Collecting sorted-months-weekdays\r\n",
      "  Downloading sorted_months_weekdays-0.2.tar.gz (2.7 kB)\r\n",
      "Building wheels for collected packages: sorted-months-weekdays\r\n",
      "  Building wheel for sorted-months-weekdays (setup.py) ... \u001b[?25l-\b \b\\\b \bdone\r\n",
      "\u001b[?25h  Created wheel for sorted-months-weekdays: filename=sorted_months_weekdays-0.2-py3-none-any.whl size=3247 sha256=584a2470c122eee3f8fb627b3a3c5aefcb80b45c89cd891529515d5c028e309a\r\n",
      "  Stored in directory: /root/.cache/pip/wheels/4f/4f/78/3f1b8fc72651f7c766a6f73d667fccb12a8aabe240b38df7a4\r\n",
      "Successfully built sorted-months-weekdays\r\n",
      "Installing collected packages: sorted-months-weekdays\r\n",
      "Successfully installed sorted-months-weekdays-0.2\r\n",
      "\u001b[33mWARNING: Running pip as the 'root' user can result in broken permissions and conflicting behaviour with the system package manager. It is recommended to use a virtual environment instead: https://pip.pypa.io/warnings/venv\u001b[0m\r\n",
      "Collecting sort-dataframeby-monthorweek\r\n",
      "  Downloading sort_dataframeby_monthorweek-0.4.tar.gz (2.8 kB)\r\n",
      "Building wheels for collected packages: sort-dataframeby-monthorweek\r\n",
      "  Building wheel for sort-dataframeby-monthorweek (setup.py) ... \u001b[?25l-\b \b\\\b \bdone\r\n",
      "\u001b[?25h  Created wheel for sort-dataframeby-monthorweek: filename=sort_dataframeby_monthorweek-0.4-py3-none-any.whl size=3441 sha256=36d099b9e39fe068e1409873748bf5d4df45664c42c760dc5e38805e0ae9b62e\r\n",
      "  Stored in directory: /root/.cache/pip/wheels/de/e1/ad/5fe265a9780676079c4b8caaaffaa8d5c4ab2f37cf823e8aa8\r\n",
      "Successfully built sort-dataframeby-monthorweek\r\n",
      "Installing collected packages: sort-dataframeby-monthorweek\r\n",
      "Successfully installed sort-dataframeby-monthorweek-0.4\r\n",
      "\u001b[33mWARNING: Running pip as the 'root' user can result in broken permissions and conflicting behaviour with the system package manager. It is recommended to use a virtual environment instead: https://pip.pypa.io/warnings/venv\u001b[0m\r\n"
     ]
    }
   ],
   "source": [
    "! pip install sorted-months-weekdays\n",
    "! pip install sort-dataframeby-monthorweek"
   ]
  },
  {
   "cell_type": "code",
   "execution_count": 24,
   "id": "898d1fa0",
   "metadata": {
    "execution": {
     "iopub.execute_input": "2021-10-06T11:08:20.395651Z",
     "iopub.status.busy": "2021-10-06T11:08:20.394987Z",
     "iopub.status.idle": "2021-10-06T11:08:20.410681Z",
     "shell.execute_reply": "2021-10-06T11:08:20.410121Z",
     "shell.execute_reply.started": "2021-10-06T10:17:09.546789Z"
    },
    "papermill": {
     "duration": 0.087211,
     "end_time": "2021-10-06T11:08:20.410837",
     "exception": false,
     "start_time": "2021-10-06T11:08:20.323626",
     "status": "completed"
    },
    "tags": []
   },
   "outputs": [],
   "source": [
    "from sorted_months_weekdays import *\n",
    "from sort_dataframeby_monthorweek import *\n",
    "\n",
    "\n",
    "final = Sort_Dataframeby_Month(df=data2,monthcolumnname='month')"
   ]
  },
  {
   "cell_type": "code",
   "execution_count": 25,
   "id": "7facb896",
   "metadata": {
    "execution": {
     "iopub.execute_input": "2021-10-06T11:08:20.547640Z",
     "iopub.status.busy": "2021-10-06T11:08:20.546608Z",
     "iopub.status.idle": "2021-10-06T11:08:20.665097Z",
     "shell.execute_reply": "2021-10-06T11:08:20.664548Z",
     "shell.execute_reply.started": "2021-10-06T10:17:09.565686Z"
    },
    "papermill": {
     "duration": 0.189587,
     "end_time": "2021-10-06T11:08:20.665239",
     "exception": false,
     "start_time": "2021-10-06T11:08:20.475652",
     "status": "completed"
    },
    "tags": []
   },
   "outputs": [
    {
     "data": {
      "text/html": [
       "<div>                            <div id=\"bb011312-d6ea-452f-a9c1-98dc45bc2ad9\" class=\"plotly-graph-div\" style=\"height:525px; width:100%;\"></div>            <script type=\"text/javascript\">                require([\"plotly\"], function(Plotly) {                    window.PLOTLYENV=window.PLOTLYENV || {};                                    if (document.getElementById(\"bb011312-d6ea-452f-a9c1-98dc45bc2ad9\")) {                    Plotly.newPlot(                        \"bb011312-d6ea-452f-a9c1-98dc45bc2ad9\",                        [{\"hovertemplate\":\"variable=price_for_resort<br>month=%{x}<br>value=%{y}<extra></extra>\",\"legendgroup\":\"price_for_resort\",\"line\":{\"color\":\"#636efa\",\"dash\":\"solid\"},\"marker\":{\"symbol\":\"circle\"},\"mode\":\"lines\",\"name\":\"price_for_resort\",\"orientation\":\"v\",\"showlegend\":true,\"type\":\"scatter\",\"x\":[\"January\",\"February\",\"March\",\"April\",\"May\",\"June\",\"July\",\"August\",\"September\",\"October\",\"November\",\"December\"],\"xaxis\":\"x\",\"y\":[48.70891862955032,54.14747833622184,57.01248736883016,75.86781568627451,76.65755818540434,107.92186947988223,150.1225278928913,181.20589192508442,96.41686013320647,61.72750485060148,48.681639676113356,68.32223599405057],\"yaxis\":\"y\"},{\"hovertemplate\":\"variable=price_for_city<br>month=%{x}<br>value=%{y}<extra></extra>\",\"legendgroup\":\"price_for_city\",\"line\":{\"color\":\"#EF553B\",\"dash\":\"solid\"},\"marker\":{\"symbol\":\"circle\"},\"mode\":\"lines\",\"name\":\"price_for_city\",\"orientation\":\"v\",\"showlegend\":true,\"type\":\"scatter\",\"x\":[\"January\",\"February\",\"March\",\"April\",\"May\",\"June\",\"July\",\"August\",\"September\",\"October\",\"November\",\"December\"],\"xaxis\":\"x\",\"y\":[82.16063442768412,86.18302545691905,90.17072200392927,111.85682440846826,120.44584188687486,117.70207512597344,115.56381012128817,118.4120832559004,112.59845221445221,101.74595572976712,86.50045623145401,87.85676421404682],\"yaxis\":\"y\"}],                        {\"legend\":{\"title\":{\"text\":\"variable\"},\"tracegroupgap\":0},\"template\":{\"data\":{\"bar\":[{\"error_x\":{\"color\":\"#2a3f5f\"},\"error_y\":{\"color\":\"#2a3f5f\"},\"marker\":{\"line\":{\"color\":\"#E5ECF6\",\"width\":0.5},\"pattern\":{\"fillmode\":\"overlay\",\"size\":10,\"solidity\":0.2}},\"type\":\"bar\"}],\"barpolar\":[{\"marker\":{\"line\":{\"color\":\"#E5ECF6\",\"width\":0.5},\"pattern\":{\"fillmode\":\"overlay\",\"size\":10,\"solidity\":0.2}},\"type\":\"barpolar\"}],\"carpet\":[{\"aaxis\":{\"endlinecolor\":\"#2a3f5f\",\"gridcolor\":\"white\",\"linecolor\":\"white\",\"minorgridcolor\":\"white\",\"startlinecolor\":\"#2a3f5f\"},\"baxis\":{\"endlinecolor\":\"#2a3f5f\",\"gridcolor\":\"white\",\"linecolor\":\"white\",\"minorgridcolor\":\"white\",\"startlinecolor\":\"#2a3f5f\"},\"type\":\"carpet\"}],\"choropleth\":[{\"colorbar\":{\"outlinewidth\":0,\"ticks\":\"\"},\"type\":\"choropleth\"}],\"contour\":[{\"colorbar\":{\"outlinewidth\":0,\"ticks\":\"\"},\"colorscale\":[[0.0,\"#0d0887\"],[0.1111111111111111,\"#46039f\"],[0.2222222222222222,\"#7201a8\"],[0.3333333333333333,\"#9c179e\"],[0.4444444444444444,\"#bd3786\"],[0.5555555555555556,\"#d8576b\"],[0.6666666666666666,\"#ed7953\"],[0.7777777777777778,\"#fb9f3a\"],[0.8888888888888888,\"#fdca26\"],[1.0,\"#f0f921\"]],\"type\":\"contour\"}],\"contourcarpet\":[{\"colorbar\":{\"outlinewidth\":0,\"ticks\":\"\"},\"type\":\"contourcarpet\"}],\"heatmap\":[{\"colorbar\":{\"outlinewidth\":0,\"ticks\":\"\"},\"colorscale\":[[0.0,\"#0d0887\"],[0.1111111111111111,\"#46039f\"],[0.2222222222222222,\"#7201a8\"],[0.3333333333333333,\"#9c179e\"],[0.4444444444444444,\"#bd3786\"],[0.5555555555555556,\"#d8576b\"],[0.6666666666666666,\"#ed7953\"],[0.7777777777777778,\"#fb9f3a\"],[0.8888888888888888,\"#fdca26\"],[1.0,\"#f0f921\"]],\"type\":\"heatmap\"}],\"heatmapgl\":[{\"colorbar\":{\"outlinewidth\":0,\"ticks\":\"\"},\"colorscale\":[[0.0,\"#0d0887\"],[0.1111111111111111,\"#46039f\"],[0.2222222222222222,\"#7201a8\"],[0.3333333333333333,\"#9c179e\"],[0.4444444444444444,\"#bd3786\"],[0.5555555555555556,\"#d8576b\"],[0.6666666666666666,\"#ed7953\"],[0.7777777777777778,\"#fb9f3a\"],[0.8888888888888888,\"#fdca26\"],[1.0,\"#f0f921\"]],\"type\":\"heatmapgl\"}],\"histogram\":[{\"marker\":{\"pattern\":{\"fillmode\":\"overlay\",\"size\":10,\"solidity\":0.2}},\"type\":\"histogram\"}],\"histogram2d\":[{\"colorbar\":{\"outlinewidth\":0,\"ticks\":\"\"},\"colorscale\":[[0.0,\"#0d0887\"],[0.1111111111111111,\"#46039f\"],[0.2222222222222222,\"#7201a8\"],[0.3333333333333333,\"#9c179e\"],[0.4444444444444444,\"#bd3786\"],[0.5555555555555556,\"#d8576b\"],[0.6666666666666666,\"#ed7953\"],[0.7777777777777778,\"#fb9f3a\"],[0.8888888888888888,\"#fdca26\"],[1.0,\"#f0f921\"]],\"type\":\"histogram2d\"}],\"histogram2dcontour\":[{\"colorbar\":{\"outlinewidth\":0,\"ticks\":\"\"},\"colorscale\":[[0.0,\"#0d0887\"],[0.1111111111111111,\"#46039f\"],[0.2222222222222222,\"#7201a8\"],[0.3333333333333333,\"#9c179e\"],[0.4444444444444444,\"#bd3786\"],[0.5555555555555556,\"#d8576b\"],[0.6666666666666666,\"#ed7953\"],[0.7777777777777778,\"#fb9f3a\"],[0.8888888888888888,\"#fdca26\"],[1.0,\"#f0f921\"]],\"type\":\"histogram2dcontour\"}],\"mesh3d\":[{\"colorbar\":{\"outlinewidth\":0,\"ticks\":\"\"},\"type\":\"mesh3d\"}],\"parcoords\":[{\"line\":{\"colorbar\":{\"outlinewidth\":0,\"ticks\":\"\"}},\"type\":\"parcoords\"}],\"pie\":[{\"automargin\":true,\"type\":\"pie\"}],\"scatter\":[{\"marker\":{\"colorbar\":{\"outlinewidth\":0,\"ticks\":\"\"}},\"type\":\"scatter\"}],\"scatter3d\":[{\"line\":{\"colorbar\":{\"outlinewidth\":0,\"ticks\":\"\"}},\"marker\":{\"colorbar\":{\"outlinewidth\":0,\"ticks\":\"\"}},\"type\":\"scatter3d\"}],\"scattercarpet\":[{\"marker\":{\"colorbar\":{\"outlinewidth\":0,\"ticks\":\"\"}},\"type\":\"scattercarpet\"}],\"scattergeo\":[{\"marker\":{\"colorbar\":{\"outlinewidth\":0,\"ticks\":\"\"}},\"type\":\"scattergeo\"}],\"scattergl\":[{\"marker\":{\"colorbar\":{\"outlinewidth\":0,\"ticks\":\"\"}},\"type\":\"scattergl\"}],\"scattermapbox\":[{\"marker\":{\"colorbar\":{\"outlinewidth\":0,\"ticks\":\"\"}},\"type\":\"scattermapbox\"}],\"scatterpolar\":[{\"marker\":{\"colorbar\":{\"outlinewidth\":0,\"ticks\":\"\"}},\"type\":\"scatterpolar\"}],\"scatterpolargl\":[{\"marker\":{\"colorbar\":{\"outlinewidth\":0,\"ticks\":\"\"}},\"type\":\"scatterpolargl\"}],\"scatterternary\":[{\"marker\":{\"colorbar\":{\"outlinewidth\":0,\"ticks\":\"\"}},\"type\":\"scatterternary\"}],\"surface\":[{\"colorbar\":{\"outlinewidth\":0,\"ticks\":\"\"},\"colorscale\":[[0.0,\"#0d0887\"],[0.1111111111111111,\"#46039f\"],[0.2222222222222222,\"#7201a8\"],[0.3333333333333333,\"#9c179e\"],[0.4444444444444444,\"#bd3786\"],[0.5555555555555556,\"#d8576b\"],[0.6666666666666666,\"#ed7953\"],[0.7777777777777778,\"#fb9f3a\"],[0.8888888888888888,\"#fdca26\"],[1.0,\"#f0f921\"]],\"type\":\"surface\"}],\"table\":[{\"cells\":{\"fill\":{\"color\":\"#EBF0F8\"},\"line\":{\"color\":\"white\"}},\"header\":{\"fill\":{\"color\":\"#C8D4E3\"},\"line\":{\"color\":\"white\"}},\"type\":\"table\"}]},\"layout\":{\"annotationdefaults\":{\"arrowcolor\":\"#2a3f5f\",\"arrowhead\":0,\"arrowwidth\":1},\"autotypenumbers\":\"strict\",\"coloraxis\":{\"colorbar\":{\"outlinewidth\":0,\"ticks\":\"\"}},\"colorscale\":{\"diverging\":[[0,\"#8e0152\"],[0.1,\"#c51b7d\"],[0.2,\"#de77ae\"],[0.3,\"#f1b6da\"],[0.4,\"#fde0ef\"],[0.5,\"#f7f7f7\"],[0.6,\"#e6f5d0\"],[0.7,\"#b8e186\"],[0.8,\"#7fbc41\"],[0.9,\"#4d9221\"],[1,\"#276419\"]],\"sequential\":[[0.0,\"#0d0887\"],[0.1111111111111111,\"#46039f\"],[0.2222222222222222,\"#7201a8\"],[0.3333333333333333,\"#9c179e\"],[0.4444444444444444,\"#bd3786\"],[0.5555555555555556,\"#d8576b\"],[0.6666666666666666,\"#ed7953\"],[0.7777777777777778,\"#fb9f3a\"],[0.8888888888888888,\"#fdca26\"],[1.0,\"#f0f921\"]],\"sequentialminus\":[[0.0,\"#0d0887\"],[0.1111111111111111,\"#46039f\"],[0.2222222222222222,\"#7201a8\"],[0.3333333333333333,\"#9c179e\"],[0.4444444444444444,\"#bd3786\"],[0.5555555555555556,\"#d8576b\"],[0.6666666666666666,\"#ed7953\"],[0.7777777777777778,\"#fb9f3a\"],[0.8888888888888888,\"#fdca26\"],[1.0,\"#f0f921\"]]},\"colorway\":[\"#636efa\",\"#EF553B\",\"#00cc96\",\"#ab63fa\",\"#FFA15A\",\"#19d3f3\",\"#FF6692\",\"#B6E880\",\"#FF97FF\",\"#FECB52\"],\"font\":{\"color\":\"#2a3f5f\"},\"geo\":{\"bgcolor\":\"white\",\"lakecolor\":\"white\",\"landcolor\":\"#E5ECF6\",\"showlakes\":true,\"showland\":true,\"subunitcolor\":\"white\"},\"hoverlabel\":{\"align\":\"left\"},\"hovermode\":\"closest\",\"mapbox\":{\"style\":\"light\"},\"paper_bgcolor\":\"white\",\"plot_bgcolor\":\"#E5ECF6\",\"polar\":{\"angularaxis\":{\"gridcolor\":\"white\",\"linecolor\":\"white\",\"ticks\":\"\"},\"bgcolor\":\"#E5ECF6\",\"radialaxis\":{\"gridcolor\":\"white\",\"linecolor\":\"white\",\"ticks\":\"\"}},\"scene\":{\"xaxis\":{\"backgroundcolor\":\"#E5ECF6\",\"gridcolor\":\"white\",\"gridwidth\":2,\"linecolor\":\"white\",\"showbackground\":true,\"ticks\":\"\",\"zerolinecolor\":\"white\"},\"yaxis\":{\"backgroundcolor\":\"#E5ECF6\",\"gridcolor\":\"white\",\"gridwidth\":2,\"linecolor\":\"white\",\"showbackground\":true,\"ticks\":\"\",\"zerolinecolor\":\"white\"},\"zaxis\":{\"backgroundcolor\":\"#E5ECF6\",\"gridcolor\":\"white\",\"gridwidth\":2,\"linecolor\":\"white\",\"showbackground\":true,\"ticks\":\"\",\"zerolinecolor\":\"white\"}},\"shapedefaults\":{\"line\":{\"color\":\"#2a3f5f\"}},\"ternary\":{\"aaxis\":{\"gridcolor\":\"white\",\"linecolor\":\"white\",\"ticks\":\"\"},\"baxis\":{\"gridcolor\":\"white\",\"linecolor\":\"white\",\"ticks\":\"\"},\"bgcolor\":\"#E5ECF6\",\"caxis\":{\"gridcolor\":\"white\",\"linecolor\":\"white\",\"ticks\":\"\"}},\"title\":{\"x\":0.05},\"xaxis\":{\"automargin\":true,\"gridcolor\":\"white\",\"linecolor\":\"white\",\"ticks\":\"\",\"title\":{\"standoff\":15},\"zerolinecolor\":\"white\",\"zerolinewidth\":2},\"yaxis\":{\"automargin\":true,\"gridcolor\":\"white\",\"linecolor\":\"white\",\"ticks\":\"\",\"title\":{\"standoff\":15},\"zerolinecolor\":\"white\",\"zerolinewidth\":2}}},\"title\":{\"text\":\"Room price per night over the year\"},\"xaxis\":{\"anchor\":\"y\",\"domain\":[0.0,1.0],\"title\":{\"text\":\"month\"}},\"yaxis\":{\"anchor\":\"x\",\"domain\":[0.0,1.0],\"title\":{\"text\":\"value\"}}},                        {\"responsive\": true}                    ).then(function(){\n",
       "                            \n",
       "var gd = document.getElementById('bb011312-d6ea-452f-a9c1-98dc45bc2ad9');\n",
       "var x = new MutationObserver(function (mutations, observer) {{\n",
       "        var display = window.getComputedStyle(gd).display;\n",
       "        if (!display || display === 'none') {{\n",
       "            console.log([gd, 'removed!']);\n",
       "            Plotly.purge(gd);\n",
       "            observer.disconnect();\n",
       "        }}\n",
       "}});\n",
       "\n",
       "// Listen for the removal of the full notebook cells\n",
       "var notebookContainer = gd.closest('#notebook-container');\n",
       "if (notebookContainer) {{\n",
       "    x.observe(notebookContainer, {childList: true});\n",
       "}}\n",
       "\n",
       "// Listen for the clearing of the current output cell\n",
       "var outputEl = gd.closest('.output');\n",
       "if (outputEl) {{\n",
       "    x.observe(outputEl, {childList: true});\n",
       "}}\n",
       "\n",
       "                        })                };                });            </script>        </div>"
      ]
     },
     "metadata": {},
     "output_type": "display_data"
    }
   ],
   "source": [
    "px.line(final,x='month',y=['price_for_resort','price_for_city'],title='Room price per night over the year')"
   ]
  },
  {
   "cell_type": "markdown",
   "id": "b55a75b7",
   "metadata": {
    "papermill": {
     "duration": 0.068277,
     "end_time": "2021-10-06T11:08:20.799767",
     "exception": false,
     "start_time": "2021-10-06T11:08:20.731490",
     "status": "completed"
    },
    "tags": []
   },
   "source": [
    "#### Resort-Hotel prices are much higher during the summer,whereas the prices of City-Hotel doesn't get much higher in summer "
   ]
  },
  {
   "cell_type": "markdown",
   "id": "044d1988",
   "metadata": {
    "papermill": {
     "duration": 0.065266,
     "end_time": "2021-10-06T11:08:20.930773",
     "exception": false,
     "start_time": "2021-10-06T11:08:20.865507",
     "status": "completed"
    },
    "tags": []
   },
   "source": [
    "## Distribution of nights spent at hotels by market segment and hotel type"
   ]
  },
  {
   "cell_type": "code",
   "execution_count": 26,
   "id": "5d35ca1c",
   "metadata": {
    "execution": {
     "iopub.execute_input": "2021-10-06T11:08:21.070897Z",
     "iopub.status.busy": "2021-10-06T11:08:21.070230Z",
     "iopub.status.idle": "2021-10-06T11:08:21.918088Z",
     "shell.execute_reply": "2021-10-06T11:08:21.917280Z",
     "shell.execute_reply.started": "2021-10-06T10:17:09.669036Z"
    },
    "papermill": {
     "duration": 0.922083,
     "end_time": "2021-10-06T11:08:21.918248",
     "exception": false,
     "start_time": "2021-10-06T11:08:20.996165",
     "status": "completed"
    },
    "tags": []
   },
   "outputs": [
    {
     "data": {
      "image/png": "[encoded data removed]",
      "text/plain": [
       "<Figure size 1080x720 with 1 Axes>"
      ]
     },
     "metadata": {
      "needs_background": "light"
     },
     "output_type": "display_data"
    }
   ],
   "source": [
    "plt.figure(figsize=(15,10))\n",
    "sns.boxplot(data=df[df['is_canceled'] == 0],x='market_segment',y='stays_in_weekend_nights',hue='hotel')\n",
    "plt.ylabel('Num Of Nights')\n",
    "plt.show()"
   ]
  },
  {
   "cell_type": "markdown",
   "id": "33b9152f",
   "metadata": {
    "papermill": {
     "duration": 0.067588,
     "end_time": "2021-10-06T11:08:22.053313",
     "exception": false,
     "start_time": "2021-10-06T11:08:21.985725",
     "status": "completed"
    },
    "tags": []
   },
   "source": [
    "#### Most people don't seem to prefer to stay at the hotel more than one week"
   ]
  },
  {
   "cell_type": "markdown",
   "id": "804ce000",
   "metadata": {
    "papermill": {
     "duration": 0.066853,
     "end_time": "2021-10-06T11:08:22.187518",
     "exception": false,
     "start_time": "2021-10-06T11:08:22.120665",
     "status": "completed"
    },
    "tags": []
   },
   "source": [
    "## Analysing preference of guests"
   ]
  },
  {
   "cell_type": "code",
   "execution_count": 27,
   "id": "70549293",
   "metadata": {
    "execution": {
     "iopub.execute_input": "2021-10-06T11:08:22.332984Z",
     "iopub.status.busy": "2021-10-06T11:08:22.332185Z",
     "iopub.status.idle": "2021-10-06T11:08:22.637969Z",
     "shell.execute_reply": "2021-10-06T11:08:22.637454Z",
     "shell.execute_reply.started": "2021-10-06T10:17:10.358489Z"
    },
    "papermill": {
     "duration": 0.381659,
     "end_time": "2021-10-06T11:08:22.638129",
     "exception": false,
     "start_time": "2021-10-06T11:08:22.256470",
     "status": "completed"
    },
    "tags": []
   },
   "outputs": [
    {
     "data": {
      "text/plain": [
       "<AxesSubplot:xlabel='market_segment', ylabel='stays_in_weekend_nights'>"
      ]
     },
     "execution_count": 27,
     "metadata": {},
     "output_type": "execute_result"
    },
    {
     "data": {
      "image/png": "[encoded data removed]",
      "text/plain": [
       "<Figure size 720x576 with 1 Axes>"
      ]
     },
     "metadata": {
      "needs_background": "light"
     },
     "output_type": "display_data"
    }
   ],
   "source": [
    "plt.figure(figsize=(10,8))\n",
    "sns.barplot(x=df[df['is_canceled']==0].groupby('market_segment')['stays_in_weekend_nights'].count().index,\n",
    "            y=df[df['is_canceled']==0].groupby('market_segment')['stays_in_weekend_nights'].count())"
   ]
  },
  {
   "cell_type": "markdown",
   "id": "bd6fecca",
   "metadata": {
    "papermill": {
     "duration": 0.068874,
     "end_time": "2021-10-06T11:08:22.775277",
     "exception": false,
     "start_time": "2021-10-06T11:08:22.706403",
     "status": "completed"
    },
    "tags": []
   },
   "source": [
    "#### The online travel agents are the best market for reservation by people"
   ]
  },
  {
   "cell_type": "code",
   "execution_count": 28,
   "id": "66b24fee",
   "metadata": {
    "execution": {
     "iopub.execute_input": "2021-10-06T11:08:22.924734Z",
     "iopub.status.busy": "2021-10-06T11:08:22.924067Z",
     "iopub.status.idle": "2021-10-06T11:08:22.931436Z",
     "shell.execute_reply": "2021-10-06T11:08:22.931955Z",
     "shell.execute_reply.started": "2021-10-06T10:17:10.633472Z"
    },
    "papermill": {
     "duration": 0.088398,
     "end_time": "2021-10-06T11:08:22.932156",
     "exception": false,
     "start_time": "2021-10-06T11:08:22.843758",
     "status": "completed"
    },
    "tags": []
   },
   "outputs": [
    {
     "data": {
      "text/plain": [
       "array(['BB', 'FB', 'HB', 'SC', 'Undefined'], dtype=object)"
      ]
     },
     "execution_count": 28,
     "metadata": {},
     "output_type": "execute_result"
    }
   ],
   "source": [
    "df['meal'].unique()"
   ]
  },
  {
   "cell_type": "code",
   "execution_count": 29,
   "id": "19b24e96",
   "metadata": {
    "execution": {
     "iopub.execute_input": "2021-10-06T11:08:23.075393Z",
     "iopub.status.busy": "2021-10-06T11:08:23.074728Z",
     "iopub.status.idle": "2021-10-06T11:08:23.202754Z",
     "shell.execute_reply": "2021-10-06T11:08:23.202049Z",
     "shell.execute_reply.started": "2021-10-06T10:17:10.647606Z"
    },
    "papermill": {
     "duration": 0.202431,
     "end_time": "2021-10-06T11:08:23.202910",
     "exception": false,
     "start_time": "2021-10-06T11:08:23.000479",
     "status": "completed"
    },
    "tags": []
   },
   "outputs": [
    {
     "data": {
      "text/html": [
       "<div>                            <div id=\"f911d4f1-d3f3-4c06-8e48-104fe72a4ecc\" class=\"plotly-graph-div\" style=\"height:525px; width:100%;\"></div>            <script type=\"text/javascript\">                require([\"plotly\"], function(Plotly) {                    window.PLOTLYENV=window.PLOTLYENV || {};                                    if (document.getElementById(\"f911d4f1-d3f3-4c06-8e48-104fe72a4ecc\")) {                    Plotly.newPlot(                        \"f911d4f1-d3f3-4c06-8e48-104fe72a4ecc\",                        [{\"domain\":{\"x\":[0.0,1.0],\"y\":[0.0,1.0]},\"hovertemplate\":\"label=%{label}<br>value=%{value}<extra></extra>\",\"labels\":[\"BB\",\"HB\",\"SC\",\"Undefined\",\"FB\"],\"legendgroup\":\"\",\"name\":\"\",\"showlegend\":true,\"type\":\"pie\",\"values\":[92310,14463,10650,1169,798]}],                        {\"legend\":{\"tracegroupgap\":0},\"margin\":{\"t\":60},\"template\":{\"data\":{\"bar\":[{\"error_x\":{\"color\":\"#2a3f5f\"},\"error_y\":{\"color\":\"#2a3f5f\"},\"marker\":{\"line\":{\"color\":\"#E5ECF6\",\"width\":0.5},\"pattern\":{\"fillmode\":\"overlay\",\"size\":10,\"solidity\":0.2}},\"type\":\"bar\"}],\"barpolar\":[{\"marker\":{\"line\":{\"color\":\"#E5ECF6\",\"width\":0.5},\"pattern\":{\"fillmode\":\"overlay\",\"size\":10,\"solidity\":0.2}},\"type\":\"barpolar\"}],\"carpet\":[{\"aaxis\":{\"endlinecolor\":\"#2a3f5f\",\"gridcolor\":\"white\",\"linecolor\":\"white\",\"minorgridcolor\":\"white\",\"startlinecolor\":\"#2a3f5f\"},\"baxis\":{\"endlinecolor\":\"#2a3f5f\",\"gridcolor\":\"white\",\"linecolor\":\"white\",\"minorgridcolor\":\"white\",\"startlinecolor\":\"#2a3f5f\"},\"type\":\"carpet\"}],\"choropleth\":[{\"colorbar\":{\"outlinewidth\":0,\"ticks\":\"\"},\"type\":\"choropleth\"}],\"contour\":[{\"colorbar\":{\"outlinewidth\":0,\"ticks\":\"\"},\"colorscale\":[[0.0,\"#0d0887\"],[0.1111111111111111,\"#46039f\"],[0.2222222222222222,\"#7201a8\"],[0.3333333333333333,\"#9c179e\"],[0.4444444444444444,\"#bd3786\"],[0.5555555555555556,\"#d8576b\"],[0.6666666666666666,\"#ed7953\"],[0.7777777777777778,\"#fb9f3a\"],[0.8888888888888888,\"#fdca26\"],[1.0,\"#f0f921\"]],\"type\":\"contour\"}],\"contourcarpet\":[{\"colorbar\":{\"outlinewidth\":0,\"ticks\":\"\"},\"type\":\"contourcarpet\"}],\"heatmap\":[{\"colorbar\":{\"outlinewidth\":0,\"ticks\":\"\"},\"colorscale\":[[0.0,\"#0d0887\"],[0.1111111111111111,\"#46039f\"],[0.2222222222222222,\"#7201a8\"],[0.3333333333333333,\"#9c179e\"],[0.4444444444444444,\"#bd3786\"],[0.5555555555555556,\"#d8576b\"],[0.6666666666666666,\"#ed7953\"],[0.7777777777777778,\"#fb9f3a\"],[0.8888888888888888,\"#fdca26\"],[1.0,\"#f0f921\"]],\"type\":\"heatmap\"}],\"heatmapgl\":[{\"colorbar\":{\"outlinewidth\":0,\"ticks\":\"\"},\"colorscale\":[[0.0,\"#0d0887\"],[0.1111111111111111,\"#46039f\"],[0.2222222222222222,\"#7201a8\"],[0.3333333333333333,\"#9c179e\"],[0.4444444444444444,\"#bd3786\"],[0.5555555555555556,\"#d8576b\"],[0.6666666666666666,\"#ed7953\"],[0.7777777777777778,\"#fb9f3a\"],[0.8888888888888888,\"#fdca26\"],[1.0,\"#f0f921\"]],\"type\":\"heatmapgl\"}],\"histogram\":[{\"marker\":{\"pattern\":{\"fillmode\":\"overlay\",\"size\":10,\"solidity\":0.2}},\"type\":\"histogram\"}],\"histogram2d\":[{\"colorbar\":{\"outlinewidth\":0,\"ticks\":\"\"},\"colorscale\":[[0.0,\"#0d0887\"],[0.1111111111111111,\"#46039f\"],[0.2222222222222222,\"#7201a8\"],[0.3333333333333333,\"#9c179e\"],[0.4444444444444444,\"#bd3786\"],[0.5555555555555556,\"#d8576b\"],[0.6666666666666666,\"#ed7953\"],[0.7777777777777778,\"#fb9f3a\"],[0.8888888888888888,\"#fdca26\"],[1.0,\"#f0f921\"]],\"type\":\"histogram2d\"}],\"histogram2dcontour\":[{\"colorbar\":{\"outlinewidth\":0,\"ticks\":\"\"},\"colorscale\":[[0.0,\"#0d0887\"],[0.1111111111111111,\"#46039f\"],[0.2222222222222222,\"#7201a8\"],[0.3333333333333333,\"#9c179e\"],[0.4444444444444444,\"#bd3786\"],[0.5555555555555556,\"#d8576b\"],[0.6666666666666666,\"#ed7953\"],[0.7777777777777778,\"#fb9f3a\"],[0.8888888888888888,\"#fdca26\"],[1.0,\"#f0f921\"]],\"type\":\"histogram2dcontour\"}],\"mesh3d\":[{\"colorbar\":{\"outlinewidth\":0,\"ticks\":\"\"},\"type\":\"mesh3d\"}],\"parcoords\":[{\"line\":{\"colorbar\":{\"outlinewidth\":0,\"ticks\":\"\"}},\"type\":\"parcoords\"}],\"pie\":[{\"automargin\":true,\"type\":\"pie\"}],\"scatter\":[{\"marker\":{\"colorbar\":{\"outlinewidth\":0,\"ticks\":\"\"}},\"type\":\"scatter\"}],\"scatter3d\":[{\"line\":{\"colorbar\":{\"outlinewidth\":0,\"ticks\":\"\"}},\"marker\":{\"colorbar\":{\"outlinewidth\":0,\"ticks\":\"\"}},\"type\":\"scatter3d\"}],\"scattercarpet\":[{\"marker\":{\"colorbar\":{\"outlinewidth\":0,\"ticks\":\"\"}},\"type\":\"scattercarpet\"}],\"scattergeo\":[{\"marker\":{\"colorbar\":{\"outlinewidth\":0,\"ticks\":\"\"}},\"type\":\"scattergeo\"}],\"scattergl\":[{\"marker\":{\"colorbar\":{\"outlinewidth\":0,\"ticks\":\"\"}},\"type\":\"scattergl\"}],\"scattermapbox\":[{\"marker\":{\"colorbar\":{\"outlinewidth\":0,\"ticks\":\"\"}},\"type\":\"scattermapbox\"}],\"scatterpolar\":[{\"marker\":{\"colorbar\":{\"outlinewidth\":0,\"ticks\":\"\"}},\"type\":\"scatterpolar\"}],\"scatterpolargl\":[{\"marker\":{\"colorbar\":{\"outlinewidth\":0,\"ticks\":\"\"}},\"type\":\"scatterpolargl\"}],\"scatterternary\":[{\"marker\":{\"colorbar\":{\"outlinewidth\":0,\"ticks\":\"\"}},\"type\":\"scatterternary\"}],\"surface\":[{\"colorbar\":{\"outlinewidth\":0,\"ticks\":\"\"},\"colorscale\":[[0.0,\"#0d0887\"],[0.1111111111111111,\"#46039f\"],[0.2222222222222222,\"#7201a8\"],[0.3333333333333333,\"#9c179e\"],[0.4444444444444444,\"#bd3786\"],[0.5555555555555556,\"#d8576b\"],[0.6666666666666666,\"#ed7953\"],[0.7777777777777778,\"#fb9f3a\"],[0.8888888888888888,\"#fdca26\"],[1.0,\"#f0f921\"]],\"type\":\"surface\"}],\"table\":[{\"cells\":{\"fill\":{\"color\":\"#EBF0F8\"},\"line\":{\"color\":\"white\"}},\"header\":{\"fill\":{\"color\":\"#C8D4E3\"},\"line\":{\"color\":\"white\"}},\"type\":\"table\"}]},\"layout\":{\"annotationdefaults\":{\"arrowcolor\":\"#2a3f5f\",\"arrowhead\":0,\"arrowwidth\":1},\"autotypenumbers\":\"strict\",\"coloraxis\":{\"colorbar\":{\"outlinewidth\":0,\"ticks\":\"\"}},\"colorscale\":{\"diverging\":[[0,\"#8e0152\"],[0.1,\"#c51b7d\"],[0.2,\"#de77ae\"],[0.3,\"#f1b6da\"],[0.4,\"#fde0ef\"],[0.5,\"#f7f7f7\"],[0.6,\"#e6f5d0\"],[0.7,\"#b8e186\"],[0.8,\"#7fbc41\"],[0.9,\"#4d9221\"],[1,\"#276419\"]],\"sequential\":[[0.0,\"#0d0887\"],[0.1111111111111111,\"#46039f\"],[0.2222222222222222,\"#7201a8\"],[0.3333333333333333,\"#9c179e\"],[0.4444444444444444,\"#bd3786\"],[0.5555555555555556,\"#d8576b\"],[0.6666666666666666,\"#ed7953\"],[0.7777777777777778,\"#fb9f3a\"],[0.8888888888888888,\"#fdca26\"],[1.0,\"#f0f921\"]],\"sequentialminus\":[[0.0,\"#0d0887\"],[0.1111111111111111,\"#46039f\"],[0.2222222222222222,\"#7201a8\"],[0.3333333333333333,\"#9c179e\"],[0.4444444444444444,\"#bd3786\"],[0.5555555555555556,\"#d8576b\"],[0.6666666666666666,\"#ed7953\"],[0.7777777777777778,\"#fb9f3a\"],[0.8888888888888888,\"#fdca26\"],[1.0,\"#f0f921\"]]},\"colorway\":[\"#636efa\",\"#EF553B\",\"#00cc96\",\"#ab63fa\",\"#FFA15A\",\"#19d3f3\",\"#FF6692\",\"#B6E880\",\"#FF97FF\",\"#FECB52\"],\"font\":{\"color\":\"#2a3f5f\"},\"geo\":{\"bgcolor\":\"white\",\"lakecolor\":\"white\",\"landcolor\":\"#E5ECF6\",\"showlakes\":true,\"showland\":true,\"subunitcolor\":\"white\"},\"hoverlabel\":{\"align\":\"left\"},\"hovermode\":\"closest\",\"mapbox\":{\"style\":\"light\"},\"paper_bgcolor\":\"white\",\"plot_bgcolor\":\"#E5ECF6\",\"polar\":{\"angularaxis\":{\"gridcolor\":\"white\",\"linecolor\":\"white\",\"ticks\":\"\"},\"bgcolor\":\"#E5ECF6\",\"radialaxis\":{\"gridcolor\":\"white\",\"linecolor\":\"white\",\"ticks\":\"\"}},\"scene\":{\"xaxis\":{\"backgroundcolor\":\"#E5ECF6\",\"gridcolor\":\"white\",\"gridwidth\":2,\"linecolor\":\"white\",\"showbackground\":true,\"ticks\":\"\",\"zerolinecolor\":\"white\"},\"yaxis\":{\"backgroundcolor\":\"#E5ECF6\",\"gridcolor\":\"white\",\"gridwidth\":2,\"linecolor\":\"white\",\"showbackground\":true,\"ticks\":\"\",\"zerolinecolor\":\"white\"},\"zaxis\":{\"backgroundcolor\":\"#E5ECF6\",\"gridcolor\":\"white\",\"gridwidth\":2,\"linecolor\":\"white\",\"showbackground\":true,\"ticks\":\"\",\"zerolinecolor\":\"white\"}},\"shapedefaults\":{\"line\":{\"color\":\"#2a3f5f\"}},\"ternary\":{\"aaxis\":{\"gridcolor\":\"white\",\"linecolor\":\"white\",\"ticks\":\"\"},\"baxis\":{\"gridcolor\":\"white\",\"linecolor\":\"white\",\"ticks\":\"\"},\"bgcolor\":\"#E5ECF6\",\"caxis\":{\"gridcolor\":\"white\",\"linecolor\":\"white\",\"ticks\":\"\"}},\"title\":{\"x\":0.05},\"xaxis\":{\"automargin\":true,\"gridcolor\":\"white\",\"linecolor\":\"white\",\"ticks\":\"\",\"title\":{\"standoff\":15},\"zerolinecolor\":\"white\",\"zerolinewidth\":2},\"yaxis\":{\"automargin\":true,\"gridcolor\":\"white\",\"linecolor\":\"white\",\"ticks\":\"\",\"title\":{\"standoff\":15},\"zerolinecolor\":\"white\",\"zerolinewidth\":2}}}},                        {\"responsive\": true}                    ).then(function(){\n",
       "                            \n",
       "var gd = document.getElementById('f911d4f1-d3f3-4c06-8e48-104fe72a4ecc');\n",
       "var x = new MutationObserver(function (mutations, observer) {{\n",
       "        var display = window.getComputedStyle(gd).display;\n",
       "        if (!display || display === 'none') {{\n",
       "            console.log([gd, 'removed!']);\n",
       "            Plotly.purge(gd);\n",
       "            observer.disconnect();\n",
       "        }}\n",
       "}});\n",
       "\n",
       "// Listen for the removal of the full notebook cells\n",
       "var notebookContainer = gd.closest('#notebook-container');\n",
       "if (notebookContainer) {{\n",
       "    x.observe(notebookContainer, {childList: true});\n",
       "}}\n",
       "\n",
       "// Listen for the clearing of the current output cell\n",
       "var outputEl = gd.closest('.output');\n",
       "if (outputEl) {{\n",
       "    x.observe(outputEl, {childList: true});\n",
       "}}\n",
       "\n",
       "                        })                };                });            </script>        </div>"
      ]
     },
     "metadata": {},
     "output_type": "display_data"
    }
   ],
   "source": [
    "px.pie(data_frame=df[df['is_canceled']==0],names=df['meal'].value_counts().index,values=df['meal'].value_counts())"
   ]
  },
  {
   "cell_type": "markdown",
   "id": "ec80f00a",
   "metadata": {
    "papermill": {
     "duration": 0.069332,
     "end_time": "2021-10-06T11:08:23.344162",
     "exception": false,
     "start_time": "2021-10-06T11:08:23.274830",
     "status": "completed"
    },
    "tags": []
   },
   "source": [
    "#### The guests are prefered to booked meal **BB** Bed & Breakfast"
   ]
  },
  {
   "cell_type": "markdown",
   "id": "6d6feb4d",
   "metadata": {
    "papermill": {
     "duration": 0.069652,
     "end_time": "2021-10-06T11:08:23.483195",
     "exception": false,
     "start_time": "2021-10-06T11:08:23.413543",
     "status": "completed"
    },
    "tags": []
   },
   "source": [
    "## Analysing relationship between special requests and cancellation"
   ]
  },
  {
   "cell_type": "code",
   "execution_count": 30,
   "id": "14de3d78",
   "metadata": {
    "execution": {
     "iopub.execute_input": "2021-10-06T11:08:23.629630Z",
     "iopub.status.busy": "2021-10-06T11:08:23.628893Z",
     "iopub.status.idle": "2021-10-06T11:08:23.865266Z",
     "shell.execute_reply": "2021-10-06T11:08:23.864616Z",
     "shell.execute_reply.started": "2021-10-06T10:17:10.753218Z"
    },
    "papermill": {
     "duration": 0.312666,
     "end_time": "2021-10-06T11:08:23.865433",
     "exception": false,
     "start_time": "2021-10-06T11:08:23.552767",
     "status": "completed"
    },
    "tags": []
   },
   "outputs": [
    {
     "data": {
      "text/plain": [
       "<AxesSubplot:xlabel='total_of_special_requests', ylabel='count'>"
      ]
     },
     "execution_count": 30,
     "metadata": {},
     "output_type": "execute_result"
    },
    {
     "data": {
      "image/png": "[encoded data removed]",
      "text/plain": [
       "<Figure size 432x288 with 1 Axes>"
      ]
     },
     "metadata": {
      "needs_background": "light"
     },
     "output_type": "display_data"
    }
   ],
   "source": [
    "sns.countplot(x=df.total_of_special_requests)  "
   ]
  },
  {
   "cell_type": "code",
   "execution_count": 31,
   "id": "5ccf6418",
   "metadata": {
    "execution": {
     "iopub.execute_input": "2021-10-06T11:08:24.013340Z",
     "iopub.status.busy": "2021-10-06T11:08:24.012550Z",
     "iopub.status.idle": "2021-10-06T11:08:24.030404Z",
     "shell.execute_reply": "2021-10-06T11:08:24.030914Z",
     "shell.execute_reply.started": "2021-10-06T10:17:10.958617Z"
    },
    "papermill": {
     "duration": 0.095165,
     "end_time": "2021-10-06T11:08:24.031121",
     "exception": false,
     "start_time": "2021-10-06T11:08:23.935956",
     "status": "completed"
    },
    "tags": []
   },
   "outputs": [
    {
     "data": {
      "text/plain": [
       "58.89773012815144"
      ]
     },
     "execution_count": 31,
     "metadata": {},
     "output_type": "execute_result"
    }
   ],
   "source": [
    " 100 * len(df[df['total_of_special_requests'] == 0]) / len(df)"
   ]
  },
  {
   "cell_type": "markdown",
   "id": "16e376e4",
   "metadata": {
    "papermill": {
     "duration": 0.071619,
     "end_time": "2021-10-06T11:08:24.174146",
     "exception": false,
     "start_time": "2021-10-06T11:08:24.102527",
     "status": "completed"
    },
    "tags": []
   },
   "source": [
    "#### It seems this is almost 60 percent of the bookers don't have any special requests"
   ]
  },
  {
   "cell_type": "code",
   "execution_count": 32,
   "id": "b19c3cc6",
   "metadata": {
    "execution": {
     "iopub.execute_input": "2021-10-06T11:08:24.326815Z",
     "iopub.status.busy": "2021-10-06T11:08:24.323297Z",
     "iopub.status.idle": "2021-10-06T11:08:24.347429Z",
     "shell.execute_reply": "2021-10-06T11:08:24.346733Z",
     "shell.execute_reply.started": "2021-10-06T10:17:10.975975Z"
    },
    "papermill": {
     "duration": 0.100933,
     "end_time": "2021-10-06T11:08:24.347588",
     "exception": false,
     "start_time": "2021-10-06T11:08:24.246655",
     "status": "completed"
    },
    "tags": []
   },
   "outputs": [
    {
     "data": {
      "text/html": [
       "<div>\n",
       "<style scoped>\n",
       "    .dataframe tbody tr th:only-of-type {\n",
       "        vertical-align: middle;\n",
       "    }\n",
       "\n",
       "    .dataframe tbody tr th {\n",
       "        vertical-align: top;\n",
       "    }\n",
       "\n",
       "    .dataframe thead tr th {\n",
       "        text-align: left;\n",
       "    }\n",
       "\n",
       "    .dataframe thead tr:last-of-type th {\n",
       "        text-align: right;\n",
       "    }\n",
       "</style>\n",
       "<table border=\"1\" class=\"dataframe\">\n",
       "  <thead>\n",
       "    <tr>\n",
       "      <th></th>\n",
       "      <th colspan=\"2\" halign=\"left\">total_of_special_requests</th>\n",
       "    </tr>\n",
       "    <tr>\n",
       "      <th>is_canceled</th>\n",
       "      <th>0</th>\n",
       "      <th>1</th>\n",
       "    </tr>\n",
       "    <tr>\n",
       "      <th>total_of_special_requests</th>\n",
       "      <th></th>\n",
       "      <th></th>\n",
       "    </tr>\n",
       "  </thead>\n",
       "  <tbody>\n",
       "    <tr>\n",
       "      <th>0</th>\n",
       "      <td>36762</td>\n",
       "      <td>33556</td>\n",
       "    </tr>\n",
       "    <tr>\n",
       "      <th>1</th>\n",
       "      <td>25908</td>\n",
       "      <td>7318</td>\n",
       "    </tr>\n",
       "    <tr>\n",
       "      <th>2</th>\n",
       "      <td>10103</td>\n",
       "      <td>2866</td>\n",
       "    </tr>\n",
       "    <tr>\n",
       "      <th>3</th>\n",
       "      <td>2051</td>\n",
       "      <td>446</td>\n",
       "    </tr>\n",
       "    <tr>\n",
       "      <th>4</th>\n",
       "      <td>304</td>\n",
       "      <td>36</td>\n",
       "    </tr>\n",
       "    <tr>\n",
       "      <th>5</th>\n",
       "      <td>38</td>\n",
       "      <td>2</td>\n",
       "    </tr>\n",
       "  </tbody>\n",
       "</table>\n",
       "</div>"
      ],
      "text/plain": [
       "                          total_of_special_requests       \n",
       "is_canceled                                       0      1\n",
       "total_of_special_requests                                 \n",
       "0                                             36762  33556\n",
       "1                                             25908   7318\n",
       "2                                             10103   2866\n",
       "3                                              2051    446\n",
       "4                                               304     36\n",
       "5                                                38      2"
      ]
     },
     "execution_count": 32,
     "metadata": {},
     "output_type": "execute_result"
    }
   ],
   "source": [
    "df.groupby(['total_of_special_requests','is_canceled']).agg({'total_of_special_requests':'count'}).unstack()"
   ]
  },
  {
   "cell_type": "code",
   "execution_count": 33,
   "id": "9055eb26",
   "metadata": {
    "execution": {
     "iopub.execute_input": "2021-10-06T11:08:24.498374Z",
     "iopub.status.busy": "2021-10-06T11:08:24.497703Z",
     "iopub.status.idle": "2021-10-06T11:08:24.806142Z",
     "shell.execute_reply": "2021-10-06T11:08:24.805471Z",
     "shell.execute_reply.started": "2021-10-06T10:17:10.993798Z"
    },
    "papermill": {
     "duration": 0.387714,
     "end_time": "2021-10-06T11:08:24.806299",
     "exception": false,
     "start_time": "2021-10-06T11:08:24.418585",
     "status": "completed"
    },
    "tags": []
   },
   "outputs": [
    {
     "data": {
      "text/plain": [
       "<AxesSubplot:xlabel='total_of_special_requests', ylabel='count'>"
      ]
     },
     "execution_count": 33,
     "metadata": {},
     "output_type": "execute_result"
    },
    {
     "data": {
      "image/png": "[encoded data removed]",
      "text/plain": [
       "<Figure size 720x576 with 1 Axes>"
      ]
     },
     "metadata": {
      "needs_background": "light"
     },
     "output_type": "display_data"
    }
   ],
   "source": [
    "plt.figure(figsize=(10,8))\n",
    "sns.countplot(data=df,x='total_of_special_requests',hue='is_canceled')"
   ]
  },
  {
   "cell_type": "markdown",
   "id": "47396a1a",
   "metadata": {
    "papermill": {
     "duration": 0.07283,
     "end_time": "2021-10-06T11:08:24.951388",
     "exception": false,
     "start_time": "2021-10-06T11:08:24.878558",
     "status": "completed"
    },
    "tags": []
   },
   "source": [
    "## Which months guests are high?"
   ]
  },
  {
   "cell_type": "code",
   "execution_count": 34,
   "id": "2bc3bffd",
   "metadata": {
    "execution": {
     "iopub.execute_input": "2021-10-06T11:08:25.102502Z",
     "iopub.status.busy": "2021-10-06T11:08:25.101839Z",
     "iopub.status.idle": "2021-10-06T11:08:25.106555Z",
     "shell.execute_reply": "2021-10-06T11:08:25.107043Z",
     "shell.execute_reply.started": "2021-10-06T10:17:11.259103Z"
    },
    "papermill": {
     "duration": 0.083313,
     "end_time": "2021-10-06T11:08:25.107214",
     "exception": false,
     "start_time": "2021-10-06T11:08:25.023901",
     "status": "completed"
    },
    "tags": []
   },
   "outputs": [
    {
     "data": {
      "text/plain": [
       "array([2015, 2016, 2017])"
      ]
     },
     "execution_count": 34,
     "metadata": {},
     "output_type": "execute_result"
    }
   ],
   "source": [
    "df.arrival_date_year.unique()"
   ]
  },
  {
   "cell_type": "code",
   "execution_count": 35,
   "id": "99a201b2",
   "metadata": {
    "execution": {
     "iopub.execute_input": "2021-10-06T11:08:25.279962Z",
     "iopub.status.busy": "2021-10-06T11:08:25.279261Z",
     "iopub.status.idle": "2021-10-06T11:08:25.282102Z",
     "shell.execute_reply": "2021-10-06T11:08:25.282603Z",
     "shell.execute_reply.started": "2021-10-06T10:17:11.266954Z"
    },
    "papermill": {
     "duration": 0.102812,
     "end_time": "2021-10-06T11:08:25.282792",
     "exception": false,
     "start_time": "2021-10-06T11:08:25.179980",
     "status": "completed"
    },
    "tags": []
   },
   "outputs": [
    {
     "data": {
      "text/plain": [
       "August       13877\n",
       "July         12661\n",
       "May          11791\n",
       "October      11160\n",
       "April        11089\n",
       "June         10939\n",
       "September    10508\n",
       "March         9794\n",
       "February      8068\n",
       "November      6794\n",
       "December      6780\n",
       "January       5929\n",
       "Name: arrival_date_month, dtype: int64"
      ]
     },
     "execution_count": 35,
     "metadata": {},
     "output_type": "execute_result"
    }
   ],
   "source": [
    "df.arrival_date_month.value_counts()"
   ]
  },
  {
   "cell_type": "code",
   "execution_count": 36,
   "id": "9bd6b00a",
   "metadata": {
    "execution": {
     "iopub.execute_input": "2021-10-06T11:08:25.433893Z",
     "iopub.status.busy": "2021-10-06T11:08:25.433182Z",
     "iopub.status.idle": "2021-10-06T11:08:25.473169Z",
     "shell.execute_reply": "2021-10-06T11:08:25.473649Z",
     "shell.execute_reply.started": "2021-10-06T10:17:11.293416Z"
    },
    "papermill": {
     "duration": 0.117305,
     "end_time": "2021-10-06T11:08:25.473845",
     "exception": false,
     "start_time": "2021-10-06T11:08:25.356540",
     "status": "completed"
    },
    "tags": []
   },
   "outputs": [
    {
     "data": {
      "text/html": [
       "<div>\n",
       "<style scoped>\n",
       "    .dataframe tbody tr th:only-of-type {\n",
       "        vertical-align: middle;\n",
       "    }\n",
       "\n",
       "    .dataframe tbody tr th {\n",
       "        vertical-align: top;\n",
       "    }\n",
       "\n",
       "    .dataframe thead tr th {\n",
       "        text-align: left;\n",
       "    }\n",
       "\n",
       "    .dataframe thead tr:last-of-type th {\n",
       "        text-align: right;\n",
       "    }\n",
       "</style>\n",
       "<table border=\"1\" class=\"dataframe\">\n",
       "  <thead>\n",
       "    <tr>\n",
       "      <th></th>\n",
       "      <th colspan=\"12\" halign=\"left\">is_canceled</th>\n",
       "    </tr>\n",
       "    <tr>\n",
       "      <th>arrival_date_month</th>\n",
       "      <th>April</th>\n",
       "      <th>August</th>\n",
       "      <th>December</th>\n",
       "      <th>February</th>\n",
       "      <th>January</th>\n",
       "      <th>July</th>\n",
       "      <th>June</th>\n",
       "      <th>March</th>\n",
       "      <th>May</th>\n",
       "      <th>November</th>\n",
       "      <th>October</th>\n",
       "      <th>September</th>\n",
       "    </tr>\n",
       "    <tr>\n",
       "      <th>arrival_date_year</th>\n",
       "      <th></th>\n",
       "      <th></th>\n",
       "      <th></th>\n",
       "      <th></th>\n",
       "      <th></th>\n",
       "      <th></th>\n",
       "      <th></th>\n",
       "      <th></th>\n",
       "      <th></th>\n",
       "      <th></th>\n",
       "      <th></th>\n",
       "      <th></th>\n",
       "    </tr>\n",
       "  </thead>\n",
       "  <tbody>\n",
       "    <tr>\n",
       "      <th>2015</th>\n",
       "      <td>NaN</td>\n",
       "      <td>3889.0</td>\n",
       "      <td>2920.0</td>\n",
       "      <td>NaN</td>\n",
       "      <td>NaN</td>\n",
       "      <td>2776.0</td>\n",
       "      <td>NaN</td>\n",
       "      <td>NaN</td>\n",
       "      <td>NaN</td>\n",
       "      <td>2340.0</td>\n",
       "      <td>4957.0</td>\n",
       "      <td>5114.0</td>\n",
       "    </tr>\n",
       "    <tr>\n",
       "      <th>2016</th>\n",
       "      <td>5428.0</td>\n",
       "      <td>5063.0</td>\n",
       "      <td>3860.0</td>\n",
       "      <td>3891.0</td>\n",
       "      <td>2248.0</td>\n",
       "      <td>4572.0</td>\n",
       "      <td>5292.0</td>\n",
       "      <td>4824.0</td>\n",
       "      <td>5478.0</td>\n",
       "      <td>4454.0</td>\n",
       "      <td>6203.0</td>\n",
       "      <td>5394.0</td>\n",
       "    </tr>\n",
       "    <tr>\n",
       "      <th>2017</th>\n",
       "      <td>5661.0</td>\n",
       "      <td>4925.0</td>\n",
       "      <td>NaN</td>\n",
       "      <td>4177.0</td>\n",
       "      <td>3681.0</td>\n",
       "      <td>5313.0</td>\n",
       "      <td>5647.0</td>\n",
       "      <td>4970.0</td>\n",
       "      <td>6313.0</td>\n",
       "      <td>NaN</td>\n",
       "      <td>NaN</td>\n",
       "      <td>NaN</td>\n",
       "    </tr>\n",
       "  </tbody>\n",
       "</table>\n",
       "</div>"
      ],
      "text/plain": [
       "                   is_canceled                                            \\\n",
       "arrival_date_month       April  August December February January    July   \n",
       "arrival_date_year                                                          \n",
       "2015                       NaN  3889.0   2920.0      NaN     NaN  2776.0   \n",
       "2016                    5428.0  5063.0   3860.0   3891.0  2248.0  4572.0   \n",
       "2017                    5661.0  4925.0      NaN   4177.0  3681.0  5313.0   \n",
       "\n",
       "                                                                       \n",
       "arrival_date_month    June   March     May November October September  \n",
       "arrival_date_year                                                      \n",
       "2015                   NaN     NaN     NaN   2340.0  4957.0    5114.0  \n",
       "2016                5292.0  4824.0  5478.0   4454.0  6203.0    5394.0  \n",
       "2017                5647.0  4970.0  6313.0      NaN     NaN       NaN  "
      ]
     },
     "execution_count": 36,
     "metadata": {},
     "output_type": "execute_result"
    }
   ],
   "source": [
    "df.groupby(['arrival_date_year','arrival_date_month']).agg({'is_canceled':'count'}).unstack()"
   ]
  },
  {
   "cell_type": "code",
   "execution_count": 37,
   "id": "a469d29f",
   "metadata": {
    "execution": {
     "iopub.execute_input": "2021-10-06T11:08:25.625695Z",
     "iopub.status.busy": "2021-10-06T11:08:25.625013Z",
     "iopub.status.idle": "2021-10-06T11:08:26.260411Z",
     "shell.execute_reply": "2021-10-06T11:08:26.259758Z",
     "shell.execute_reply.started": "2021-10-06T10:17:11.334999Z"
    },
    "papermill": {
     "duration": 0.713627,
     "end_time": "2021-10-06T11:08:26.260565",
     "exception": false,
     "start_time": "2021-10-06T11:08:25.546938",
     "status": "completed"
    },
    "tags": []
   },
   "outputs": [
    {
     "data": {
      "text/plain": [
       "Text(0, 0.5, 'Num of Guests')"
      ]
     },
     "execution_count": 37,
     "metadata": {},
     "output_type": "execute_result"
    },
    {
     "data": {
      "image/png": "[encoded data removed]",
      "text/plain": [
       "<Figure size 1440x1080 with 1 Axes>"
      ]
     },
     "metadata": {
      "needs_background": "light"
     },
     "output_type": "display_data"
    }
   ],
   "source": [
    "plt.figure(figsize=(20,15))\n",
    "sns.countplot(data=df,x='arrival_date_month',hue='arrival_date_year')\n",
    "plt.title('Num Of Guests In Each Month')\n",
    "plt.xlabel('Months')\n",
    "plt.ylabel('Num of Guests')"
   ]
  },
  {
   "cell_type": "markdown",
   "id": "9ca3d596",
   "metadata": {
    "papermill": {
     "duration": 0.074481,
     "end_time": "2021-10-06T11:08:26.416170",
     "exception": false,
     "start_time": "2021-10-06T11:08:26.341689",
     "status": "completed"
    },
    "tags": []
   },
   "source": [
    "#### In 2015 the most number of guests come at **September**\n",
    "\n",
    "#### In 2016 the most number of guests come at **October**\n",
    "\n",
    "#### In 2017 the most number of guests come at **May**"
   ]
  },
  {
   "cell_type": "code",
   "execution_count": 38,
   "id": "8a1866f5",
   "metadata": {
    "execution": {
     "iopub.execute_input": "2021-10-06T11:08:26.572086Z",
     "iopub.status.busy": "2021-10-06T11:08:26.571387Z",
     "iopub.status.idle": "2021-10-06T11:08:26.730500Z",
     "shell.execute_reply": "2021-10-06T11:08:26.729961Z",
     "shell.execute_reply.started": "2021-10-06T10:17:11.879470Z"
    },
    "papermill": {
     "duration": 0.239609,
     "end_time": "2021-10-06T11:08:26.730661",
     "exception": false,
     "start_time": "2021-10-06T11:08:26.491052",
     "status": "completed"
    },
    "tags": []
   },
   "outputs": [
    {
     "data": {
      "text/plain": [
       "total_of_special_requests         -23.465777\n",
       "required_car_parking_spaces       -19.549782\n",
       "booking_changes                   -14.438099\n",
       "is_repeated_guest                  -8.479342\n",
       "company                            -8.299480\n",
       "previous_bookings_not_canceled     -5.735772\n",
       "agent                              -4.652945\n",
       "babies                             -3.249109\n",
       "arrival_date_day_of_month          -0.613008\n",
       "stays_in_weekend_nights            -0.179108\n",
       "children                            0.503625\n",
       "arrival_date_week_number            0.814807\n",
       "arrival_date_year                   1.665986\n",
       "stays_in_week_nights                2.476463\n",
       "adr                                 4.755660\n",
       "days_in_waiting_list                5.418582\n",
       "adults                              6.001721\n",
       "previous_cancellations             11.013281\n",
       "lead_time                          29.312336\n",
       "is_canceled                       100.000000\n",
       "Name: is_canceled, dtype: float64"
      ]
     },
     "execution_count": 38,
     "metadata": {},
     "output_type": "execute_result"
    }
   ],
   "source": [
    "100 * df.corr()['is_canceled'].sort_values()"
   ]
  },
  {
   "cell_type": "code",
   "execution_count": 39,
   "id": "8098a931",
   "metadata": {
    "execution": {
     "iopub.execute_input": "2021-10-06T11:08:26.886939Z",
     "iopub.status.busy": "2021-10-06T11:08:26.885979Z",
     "iopub.status.idle": "2021-10-06T11:08:29.711790Z",
     "shell.execute_reply": "2021-10-06T11:08:29.712282Z",
     "shell.execute_reply.started": "2021-10-06T10:17:12.019902Z"
    },
    "papermill": {
     "duration": 2.905453,
     "end_time": "2021-10-06T11:08:29.712489",
     "exception": false,
     "start_time": "2021-10-06T11:08:26.807036",
     "status": "completed"
    },
    "tags": []
   },
   "outputs": [
    {
     "data": {
      "text/plain": [
       "<AxesSubplot:>"
      ]
     },
     "execution_count": 39,
     "metadata": {},
     "output_type": "execute_result"
    },
    {
     "data": {
      "image/png": "[encoded data removed]",
      "text/plain": [
       "<Figure size 1440x1080 with 2 Axes>"
      ]
     },
     "metadata": {
      "needs_background": "light"
     },
     "output_type": "display_data"
    }
   ],
   "source": [
    "plt.figure(figsize=(20,15))\n",
    "sns.heatmap(df.corr(),annot=True)"
   ]
  },
  {
   "cell_type": "markdown",
   "id": "ee1cd0ae",
   "metadata": {
    "papermill": {
     "duration": 0.083949,
     "end_time": "2021-10-06T11:08:29.880236",
     "exception": false,
     "start_time": "2021-10-06T11:08:29.796287",
     "status": "completed"
    },
    "tags": []
   },
   "source": [
    "# Modeling"
   ]
  },
  {
   "cell_type": "code",
   "execution_count": 40,
   "id": "e8ba32d2",
   "metadata": {
    "execution": {
     "iopub.execute_input": "2021-10-06T11:08:30.056776Z",
     "iopub.status.busy": "2021-10-06T11:08:30.055622Z",
     "iopub.status.idle": "2021-10-06T11:08:30.061063Z",
     "shell.execute_reply": "2021-10-06T11:08:30.061572Z",
     "shell.execute_reply.started": "2021-10-06T10:17:14.434028Z"
    },
    "papermill": {
     "duration": 0.096856,
     "end_time": "2021-10-06T11:08:30.061778",
     "exception": false,
     "start_time": "2021-10-06T11:08:29.964922",
     "status": "completed"
    },
    "tags": []
   },
   "outputs": [
    {
     "data": {
      "text/plain": [
       "Index(['hotel', 'is_canceled', 'lead_time', 'arrival_date_year',\n",
       "       'arrival_date_month', 'arrival_date_week_number',\n",
       "       'arrival_date_day_of_month', 'stays_in_weekend_nights',\n",
       "       'stays_in_week_nights', 'adults', 'children', 'babies', 'meal',\n",
       "       'country', 'market_segment', 'distribution_channel',\n",
       "       'is_repeated_guest', 'previous_cancellations',\n",
       "       'previous_bookings_not_canceled', 'reserved_room_type',\n",
       "       'assigned_room_type', 'booking_changes', 'deposit_type', 'agent',\n",
       "       'company', 'days_in_waiting_list', 'customer_type', 'adr',\n",
       "       'required_car_parking_spaces', 'total_of_special_requests',\n",
       "       'reservation_status', 'reservation_status_date'],\n",
       "      dtype='object')"
      ]
     },
     "execution_count": 40,
     "metadata": {},
     "output_type": "execute_result"
    }
   ],
   "source": [
    "df.columns"
   ]
  },
  {
   "cell_type": "code",
   "execution_count": 41,
   "id": "8087dfaf",
   "metadata": {
    "execution": {
     "iopub.execute_input": "2021-10-06T11:08:30.244413Z",
     "iopub.status.busy": "2021-10-06T11:08:30.238934Z",
     "iopub.status.idle": "2021-10-06T11:08:30.444987Z",
     "shell.execute_reply": "2021-10-06T11:08:30.445491Z",
     "shell.execute_reply.started": "2021-10-06T10:17:14.440623Z"
    },
    "papermill": {
     "duration": 0.299203,
     "end_time": "2021-10-06T11:08:30.445691",
     "exception": false,
     "start_time": "2021-10-06T11:08:30.146488",
     "status": "completed"
    },
    "tags": []
   },
   "outputs": [
    {
     "data": {
      "text/plain": [
       "87377"
      ]
     },
     "execution_count": 41,
     "metadata": {},
     "output_type": "execute_result"
    }
   ],
   "source": [
    "df = df.drop_duplicates()\n",
    "len(df)"
   ]
  },
  {
   "cell_type": "code",
   "execution_count": 42,
   "id": "f9caf9f0",
   "metadata": {
    "execution": {
     "iopub.execute_input": "2021-10-06T11:08:30.622946Z",
     "iopub.status.busy": "2021-10-06T11:08:30.622234Z",
     "iopub.status.idle": "2021-10-06T11:08:30.650470Z",
     "shell.execute_reply": "2021-10-06T11:08:30.651006Z",
     "shell.execute_reply.started": "2021-10-06T10:17:14.624196Z"
    },
    "papermill": {
     "duration": 0.119772,
     "end_time": "2021-10-06T11:08:30.651191",
     "exception": false,
     "start_time": "2021-10-06T11:08:30.531419",
     "status": "completed"
    },
    "tags": []
   },
   "outputs": [
    {
     "data": {
      "text/html": [
       "<div>\n",
       "<style scoped>\n",
       "    .dataframe tbody tr th:only-of-type {\n",
       "        vertical-align: middle;\n",
       "    }\n",
       "\n",
       "    .dataframe tbody tr th {\n",
       "        vertical-align: top;\n",
       "    }\n",
       "\n",
       "    .dataframe thead th {\n",
       "        text-align: right;\n",
       "    }\n",
       "</style>\n",
       "<table border=\"1\" class=\"dataframe\">\n",
       "  <thead>\n",
       "    <tr style=\"text-align: right;\">\n",
       "      <th></th>\n",
       "      <th>hotel</th>\n",
       "      <th>is_canceled</th>\n",
       "      <th>lead_time</th>\n",
       "      <th>arrival_date_year</th>\n",
       "      <th>arrival_date_month</th>\n",
       "      <th>arrival_date_week_number</th>\n",
       "      <th>arrival_date_day_of_month</th>\n",
       "      <th>meal</th>\n",
       "      <th>country</th>\n",
       "      <th>market_segment</th>\n",
       "      <th>distribution_channel</th>\n",
       "      <th>previous_cancellations</th>\n",
       "      <th>previous_bookings_not_canceled</th>\n",
       "      <th>deposit_type</th>\n",
       "      <th>days_in_waiting_list</th>\n",
       "      <th>customer_type</th>\n",
       "      <th>adr</th>\n",
       "      <th>reservation_status</th>\n",
       "    </tr>\n",
       "  </thead>\n",
       "  <tbody>\n",
       "    <tr>\n",
       "      <th>0</th>\n",
       "      <td>Resort Hotel</td>\n",
       "      <td>0</td>\n",
       "      <td>342</td>\n",
       "      <td>2015</td>\n",
       "      <td>July</td>\n",
       "      <td>27</td>\n",
       "      <td>1</td>\n",
       "      <td>BB</td>\n",
       "      <td>PRT</td>\n",
       "      <td>Direct</td>\n",
       "      <td>Direct</td>\n",
       "      <td>0</td>\n",
       "      <td>0</td>\n",
       "      <td>No Deposit</td>\n",
       "      <td>0</td>\n",
       "      <td>Transient</td>\n",
       "      <td>0.0</td>\n",
       "      <td>Check-Out</td>\n",
       "    </tr>\n",
       "    <tr>\n",
       "      <th>1</th>\n",
       "      <td>Resort Hotel</td>\n",
       "      <td>0</td>\n",
       "      <td>737</td>\n",
       "      <td>2015</td>\n",
       "      <td>July</td>\n",
       "      <td>27</td>\n",
       "      <td>1</td>\n",
       "      <td>BB</td>\n",
       "      <td>PRT</td>\n",
       "      <td>Direct</td>\n",
       "      <td>Direct</td>\n",
       "      <td>0</td>\n",
       "      <td>0</td>\n",
       "      <td>No Deposit</td>\n",
       "      <td>0</td>\n",
       "      <td>Transient</td>\n",
       "      <td>0.0</td>\n",
       "      <td>Check-Out</td>\n",
       "    </tr>\n",
       "    <tr>\n",
       "      <th>2</th>\n",
       "      <td>Resort Hotel</td>\n",
       "      <td>0</td>\n",
       "      <td>7</td>\n",
       "      <td>2015</td>\n",
       "      <td>July</td>\n",
       "      <td>27</td>\n",
       "      <td>1</td>\n",
       "      <td>BB</td>\n",
       "      <td>GBR</td>\n",
       "      <td>Direct</td>\n",
       "      <td>Direct</td>\n",
       "      <td>0</td>\n",
       "      <td>0</td>\n",
       "      <td>No Deposit</td>\n",
       "      <td>0</td>\n",
       "      <td>Transient</td>\n",
       "      <td>75.0</td>\n",
       "      <td>Check-Out</td>\n",
       "    </tr>\n",
       "    <tr>\n",
       "      <th>3</th>\n",
       "      <td>Resort Hotel</td>\n",
       "      <td>0</td>\n",
       "      <td>13</td>\n",
       "      <td>2015</td>\n",
       "      <td>July</td>\n",
       "      <td>27</td>\n",
       "      <td>1</td>\n",
       "      <td>BB</td>\n",
       "      <td>GBR</td>\n",
       "      <td>Corporate</td>\n",
       "      <td>Corporate</td>\n",
       "      <td>0</td>\n",
       "      <td>0</td>\n",
       "      <td>No Deposit</td>\n",
       "      <td>0</td>\n",
       "      <td>Transient</td>\n",
       "      <td>75.0</td>\n",
       "      <td>Check-Out</td>\n",
       "    </tr>\n",
       "    <tr>\n",
       "      <th>4</th>\n",
       "      <td>Resort Hotel</td>\n",
       "      <td>0</td>\n",
       "      <td>14</td>\n",
       "      <td>2015</td>\n",
       "      <td>July</td>\n",
       "      <td>27</td>\n",
       "      <td>1</td>\n",
       "      <td>BB</td>\n",
       "      <td>GBR</td>\n",
       "      <td>Online TA</td>\n",
       "      <td>TA/TO</td>\n",
       "      <td>0</td>\n",
       "      <td>0</td>\n",
       "      <td>No Deposit</td>\n",
       "      <td>0</td>\n",
       "      <td>Transient</td>\n",
       "      <td>98.0</td>\n",
       "      <td>Check-Out</td>\n",
       "    </tr>\n",
       "  </tbody>\n",
       "</table>\n",
       "</div>"
      ],
      "text/plain": [
       "          hotel  is_canceled  lead_time  arrival_date_year arrival_date_month  \\\n",
       "0  Resort Hotel            0        342               2015               July   \n",
       "1  Resort Hotel            0        737               2015               July   \n",
       "2  Resort Hotel            0          7               2015               July   \n",
       "3  Resort Hotel            0         13               2015               July   \n",
       "4  Resort Hotel            0         14               2015               July   \n",
       "\n",
       "   arrival_date_week_number  arrival_date_day_of_month meal country  \\\n",
       "0                        27                          1   BB     PRT   \n",
       "1                        27                          1   BB     PRT   \n",
       "2                        27                          1   BB     GBR   \n",
       "3                        27                          1   BB     GBR   \n",
       "4                        27                          1   BB     GBR   \n",
       "\n",
       "  market_segment distribution_channel  previous_cancellations  \\\n",
       "0         Direct               Direct                       0   \n",
       "1         Direct               Direct                       0   \n",
       "2         Direct               Direct                       0   \n",
       "3      Corporate            Corporate                       0   \n",
       "4      Online TA                TA/TO                       0   \n",
       "\n",
       "   previous_bookings_not_canceled deposit_type  days_in_waiting_list  \\\n",
       "0                               0   No Deposit                     0   \n",
       "1                               0   No Deposit                     0   \n",
       "2                               0   No Deposit                     0   \n",
       "3                               0   No Deposit                     0   \n",
       "4                               0   No Deposit                     0   \n",
       "\n",
       "  customer_type   adr reservation_status  \n",
       "0     Transient   0.0          Check-Out  \n",
       "1     Transient   0.0          Check-Out  \n",
       "2     Transient  75.0          Check-Out  \n",
       "3     Transient  75.0          Check-Out  \n",
       "4     Transient  98.0          Check-Out  "
      ]
     },
     "execution_count": 42,
     "metadata": {},
     "output_type": "execute_result"
    }
   ],
   "source": [
    "label = ['company','agent','total_of_special_requests','required_car_parking_spaces','booking_changes',\n",
    "         'is_repeated_guest','reservation_status_date','stays_in_weekend_nights','stays_in_week_nights',\n",
    "         'reserved_room_type','assigned_room_type','adults','children','babies']\n",
    "df.drop(labels=label,axis=1,inplace=True)\n",
    "df.head()"
   ]
  },
  {
   "cell_type": "code",
   "execution_count": 43,
   "id": "703ea448",
   "metadata": {
    "execution": {
     "iopub.execute_input": "2021-10-06T11:08:30.830966Z",
     "iopub.status.busy": "2021-10-06T11:08:30.828654Z",
     "iopub.status.idle": "2021-10-06T11:08:30.843259Z",
     "shell.execute_reply": "2021-10-06T11:08:30.842613Z",
     "shell.execute_reply.started": "2021-10-06T10:17:14.653774Z"
    },
    "papermill": {
     "duration": 0.105087,
     "end_time": "2021-10-06T11:08:30.843460",
     "exception": false,
     "start_time": "2021-10-06T11:08:30.738373",
     "status": "completed"
    },
    "tags": []
   },
   "outputs": [],
   "source": [
    "X = df.drop(['is_canceled'],axis=1)\n",
    "y = df['is_canceled']"
   ]
  },
  {
   "cell_type": "code",
   "execution_count": 44,
   "id": "79e1d724",
   "metadata": {
    "execution": {
     "iopub.execute_input": "2021-10-06T11:08:31.021469Z",
     "iopub.status.busy": "2021-10-06T11:08:31.020806Z",
     "iopub.status.idle": "2021-10-06T11:08:31.153893Z",
     "shell.execute_reply": "2021-10-06T11:08:31.153320Z",
     "shell.execute_reply.started": "2021-10-06T10:17:14.667192Z"
    },
    "papermill": {
     "duration": 0.224884,
     "end_time": "2021-10-06T11:08:31.154054",
     "exception": false,
     "start_time": "2021-10-06T11:08:30.929170",
     "status": "completed"
    },
    "tags": []
   },
   "outputs": [],
   "source": [
    "X = pd.get_dummies(X,drop_first=True)"
   ]
  },
  {
   "cell_type": "code",
   "execution_count": 45,
   "id": "5620a000",
   "metadata": {
    "execution": {
     "iopub.execute_input": "2021-10-06T11:08:31.335702Z",
     "iopub.status.busy": "2021-10-06T11:08:31.334932Z",
     "iopub.status.idle": "2021-10-06T11:08:31.577661Z",
     "shell.execute_reply": "2021-10-06T11:08:31.578143Z",
     "shell.execute_reply.started": "2021-10-06T10:17:14.781438Z"
    },
    "papermill": {
     "duration": 0.339441,
     "end_time": "2021-10-06T11:08:31.578347",
     "exception": false,
     "start_time": "2021-10-06T11:08:31.238906",
     "status": "completed"
    },
    "tags": []
   },
   "outputs": [],
   "source": [
    "from sklearn.model_selection import train_test_split\n",
    "X_train , X_test , y_train , y_test = train_test_split(X,y,test_size=0.25,random_state=42)"
   ]
  },
  {
   "cell_type": "markdown",
   "id": "5110d1f5",
   "metadata": {
    "papermill": {
     "duration": 0.084298,
     "end_time": "2021-10-06T11:08:31.747462",
     "exception": false,
     "start_time": "2021-10-06T11:08:31.663164",
     "status": "completed"
    },
    "tags": []
   },
   "source": [
    "## Selection model"
   ]
  },
  {
   "cell_type": "code",
   "execution_count": 46,
   "id": "9b0db0ab",
   "metadata": {
    "execution": {
     "iopub.execute_input": "2021-10-06T11:08:31.925602Z",
     "iopub.status.busy": "2021-10-06T11:08:31.924894Z",
     "iopub.status.idle": "2021-10-06T11:08:33.669332Z",
     "shell.execute_reply": "2021-10-06T11:08:33.670162Z",
     "shell.execute_reply.started": "2021-10-06T11:06:01.777094Z"
    },
    "papermill": {
     "duration": 1.836287,
     "end_time": "2021-10-06T11:08:33.670480",
     "exception": false,
     "start_time": "2021-10-06T11:08:31.834193",
     "status": "completed"
    },
    "tags": []
   },
   "outputs": [
    {
     "name": "stdout",
     "output_type": "stream",
     "text": [
      "Logistic Regression Training Accuracy :  1.0\n"
     ]
    }
   ],
   "source": [
    "# LogisticRegression\n",
    "from sklearn.linear_model import LogisticRegression\n",
    "log = LogisticRegression(solver='liblinear')\n",
    "log.fit(X_train,y_train)\n",
    "#Print the model accuracy of training data\n",
    "print('Logistic Regression Training Accuracy : ',log.score(X_train, y_train))"
   ]
  },
  {
   "cell_type": "code",
   "execution_count": 47,
   "id": "1ae48399",
   "metadata": {
    "execution": {
     "iopub.execute_input": "2021-10-06T11:08:33.898220Z",
     "iopub.status.busy": "2021-10-06T11:08:33.897541Z",
     "iopub.status.idle": "2021-10-06T11:08:34.000072Z",
     "shell.execute_reply": "2021-10-06T11:08:34.001024Z",
     "shell.execute_reply.started": "2021-10-06T11:06:44.762807Z"
    },
    "papermill": {
     "duration": 0.199317,
     "end_time": "2021-10-06T11:08:34.001343",
     "exception": false,
     "start_time": "2021-10-06T11:08:33.802026",
     "status": "completed"
    },
    "tags": []
   },
   "outputs": [
    {
     "name": "stdout",
     "output_type": "stream",
     "text": [
      "[[15894     0]\n",
      " [    0  5951]]\n",
      "Accuracy  1.0\n"
     ]
    }
   ],
   "source": [
    "from sklearn.metrics import confusion_matrix , accuracy_score\n",
    "cm = confusion_matrix(y_test,log.predict(X_test))\n",
    "print(cm)\n",
    "print('Accuracy ',accuracy_score(y_test,log.predict(X_test)))\n"
   ]
  },
  {
   "cell_type": "code",
   "execution_count": 48,
   "id": "d40d7ce4",
   "metadata": {
    "execution": {
     "iopub.execute_input": "2021-10-06T11:08:34.232401Z",
     "iopub.status.busy": "2021-10-06T11:08:34.231728Z",
     "iopub.status.idle": "2021-10-06T11:08:34.318528Z",
     "shell.execute_reply": "2021-10-06T11:08:34.319448Z",
     "shell.execute_reply.started": "2021-10-06T11:07:04.612473Z"
    },
    "papermill": {
     "duration": 0.182142,
     "end_time": "2021-10-06T11:08:34.319755",
     "exception": false,
     "start_time": "2021-10-06T11:08:34.137613",
     "status": "completed"
    },
    "tags": []
   },
   "outputs": [
    {
     "name": "stdout",
     "output_type": "stream",
     "text": [
      "              precision    recall  f1-score   support\n",
      "\n",
      "           0       1.00      1.00      1.00     15894\n",
      "           1       1.00      1.00      1.00      5951\n",
      "\n",
      "    accuracy                           1.00     21845\n",
      "   macro avg       1.00      1.00      1.00     21845\n",
      "weighted avg       1.00      1.00      1.00     21845\n",
      "\n"
     ]
    }
   ],
   "source": [
    "from sklearn.metrics import classification_report\n",
    "print(classification_report(y_test,log.predict(X_test)))\n",
    "    "
   ]
  },
  {
   "cell_type": "markdown",
   "id": "79a095a6",
   "metadata": {
    "papermill": {
     "duration": 0.085457,
     "end_time": "2021-10-06T11:08:34.511381",
     "exception": false,
     "start_time": "2021-10-06T11:08:34.425924",
     "status": "completed"
    },
    "tags": []
   },
   "source": [
    "## In the end , we find that **LogisiticRegression** is more accurate "
   ]
  }
 ],
 "metadata": {
  "kernelspec": {
   "display_name": "Python 3",
   "language": "python",
   "name": "python3"
  },
  "language_info": {
   "codemirror_mode": {
    "name": "ipython",
    "version": 3
   },
   "file_extension": ".py",
   "mimetype": "text/x-python",
   "name": "python",
   "nbconvert_exporter": "python",
   "pygments_lexer": "ipython3",
   "version": "3.7.10"
  },
  "papermill": {
   "default_parameters": {},
   "duration": 56.982401,
   "end_time": "2021-10-06T11:08:36.290885",
   "environment_variables": {},
   "exception": null,
   "input_path": "__notebook__.ipynb",
   "output_path": "__notebook__.ipynb",
   "parameters": {},
   "start_time": "2021-10-06T11:07:39.308484",
   "version": "2.3.3"
  }
 },
 "nbformat": 4,
 "nbformat_minor": 5
}
